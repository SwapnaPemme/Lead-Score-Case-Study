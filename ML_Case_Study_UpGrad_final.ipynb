{
  "nbformat": 4,
  "nbformat_minor": 0,
  "metadata": {
    "colab": {
      "provenance": [],
      "collapsed_sections": []
    },
    "kernelspec": {
      "name": "python3",
      "display_name": "Python 3"
    },
    "language_info": {
      "name": "python"
    }
  },
  "cells": [
    {
      "cell_type": "markdown",
      "source": [
        "\n",
        "**Step 1 : Reading and Understanding the input data**"
      ],
      "metadata": {
        "id": "H6sY4YV88UoN"
      }
    },
    {
      "cell_type": "code",
      "source": [
        "from google.colab import drive\n",
        "drive.mount('/content/drive')"
      ],
      "metadata": {
        "id": "Bn5WCt5O-1YG",
        "colab": {
          "base_uri": "https://localhost:8080/"
        },
        "outputId": "f0686928-641e-401d-b895-da75bb55fa4b"
      },
      "execution_count": 6,
      "outputs": [
        {
          "output_type": "stream",
          "name": "stdout",
          "text": [
            "Drive already mounted at /content/drive; to attempt to forcibly remount, call drive.mount(\"/content/drive\", force_remount=True).\n"
          ]
        }
      ]
    },
    {
      "cell_type": "markdown",
      "source": [
        "1.1 : Importing the required libraries"
      ],
      "metadata": {
        "id": "RvvrVyu48jzk"
      }
    },
    {
      "cell_type": "code",
      "source": [
        "import numpy as np\n",
        "import pandas as pd\n",
        "import warnings\n",
        "warnings.filterwarnings('ignore')"
      ],
      "metadata": {
        "id": "iETK_w_f8lry"
      },
      "execution_count": 7,
      "outputs": []
    },
    {
      "cell_type": "markdown",
      "source": [
        "1.2 : Reading the csv input file"
      ],
      "metadata": {
        "id": "ghQxKCCC8pBV"
      }
    },
    {
      "cell_type": "code",
      "source": [
        "input_load=pd.read_csv(\"/content/drive/MyDrive/DS study/Colab Notebooks/ML Case Study_UpGrad/Leads.csv\")"
      ],
      "metadata": {
        "id": "s7QUvnlK8rEl"
      },
      "execution_count": 8,
      "outputs": []
    },
    {
      "cell_type": "code",
      "source": [
        "# Let's see the head of our master dataset\n",
        "input_load.head()"
      ],
      "metadata": {
        "id": "04t4vIPP8uO_",
        "colab": {
          "base_uri": "https://localhost:8080/",
          "height": 525
        },
        "outputId": "6b298c4d-b044-4495-baed-e833c159c166"
      },
      "execution_count": 9,
      "outputs": [
        {
          "output_type": "execute_result",
          "data": {
            "text/plain": [
              "                            Prospect ID  Lead Number              Lead Origin  \\\n",
              "0  7927b2df-8bba-4d29-b9a2-b6e0beafe620       660737                      API   \n",
              "1  2a272436-5132-4136-86fa-dcc88c88f482       660728                      API   \n",
              "2  8cc8c611-a219-4f35-ad23-fdfd2656bd8a       660727  Landing Page Submission   \n",
              "3  0cc2df48-7cf4-4e39-9de9-19797f9b38cc       660719  Landing Page Submission   \n",
              "4  3256f628-e534-4826-9d63-4a8b88782852       660681  Landing Page Submission   \n",
              "\n",
              "      Lead Source Do Not Email Do Not Call  Converted  TotalVisits  \\\n",
              "0      Olark Chat           No          No          0          0.0   \n",
              "1  Organic Search           No          No          0          5.0   \n",
              "2  Direct Traffic           No          No          1          2.0   \n",
              "3  Direct Traffic           No          No          0          1.0   \n",
              "4          Google           No          No          1          2.0   \n",
              "\n",
              "   Total Time Spent on Website  Page Views Per Visit  ...  \\\n",
              "0                            0                   0.0  ...   \n",
              "1                          674                   2.5  ...   \n",
              "2                         1532                   2.0  ...   \n",
              "3                          305                   1.0  ...   \n",
              "4                         1428                   1.0  ...   \n",
              "\n",
              "  Get updates on DM Content    Lead Profile    City  \\\n",
              "0                        No          Select  Select   \n",
              "1                        No          Select  Select   \n",
              "2                        No  Potential Lead  Mumbai   \n",
              "3                        No          Select  Mumbai   \n",
              "4                        No          Select  Mumbai   \n",
              "\n",
              "  Asymmetrique Activity Index Asymmetrique Profile Index  \\\n",
              "0                   02.Medium                  02.Medium   \n",
              "1                   02.Medium                  02.Medium   \n",
              "2                   02.Medium                    01.High   \n",
              "3                   02.Medium                    01.High   \n",
              "4                   02.Medium                    01.High   \n",
              "\n",
              "  Asymmetrique Activity Score Asymmetrique Profile Score  \\\n",
              "0                        15.0                       15.0   \n",
              "1                        15.0                       15.0   \n",
              "2                        14.0                       20.0   \n",
              "3                        13.0                       17.0   \n",
              "4                        15.0                       18.0   \n",
              "\n",
              "  I agree to pay the amount through cheque  \\\n",
              "0                                       No   \n",
              "1                                       No   \n",
              "2                                       No   \n",
              "3                                       No   \n",
              "4                                       No   \n",
              "\n",
              "  A free copy of Mastering The Interview Last Notable Activity  \n",
              "0                                     No              Modified  \n",
              "1                                     No          Email Opened  \n",
              "2                                    Yes          Email Opened  \n",
              "3                                     No              Modified  \n",
              "4                                     No              Modified  \n",
              "\n",
              "[5 rows x 37 columns]"
            ],
            "text/html": [
              "\n",
              "  <div id=\"df-cdd1fad4-9f68-40a0-83f7-1edbe18c86e9\">\n",
              "    <div class=\"colab-df-container\">\n",
              "      <div>\n",
              "<style scoped>\n",
              "    .dataframe tbody tr th:only-of-type {\n",
              "        vertical-align: middle;\n",
              "    }\n",
              "\n",
              "    .dataframe tbody tr th {\n",
              "        vertical-align: top;\n",
              "    }\n",
              "\n",
              "    .dataframe thead th {\n",
              "        text-align: right;\n",
              "    }\n",
              "</style>\n",
              "<table border=\"1\" class=\"dataframe\">\n",
              "  <thead>\n",
              "    <tr style=\"text-align: right;\">\n",
              "      <th></th>\n",
              "      <th>Prospect ID</th>\n",
              "      <th>Lead Number</th>\n",
              "      <th>Lead Origin</th>\n",
              "      <th>Lead Source</th>\n",
              "      <th>Do Not Email</th>\n",
              "      <th>Do Not Call</th>\n",
              "      <th>Converted</th>\n",
              "      <th>TotalVisits</th>\n",
              "      <th>Total Time Spent on Website</th>\n",
              "      <th>Page Views Per Visit</th>\n",
              "      <th>...</th>\n",
              "      <th>Get updates on DM Content</th>\n",
              "      <th>Lead Profile</th>\n",
              "      <th>City</th>\n",
              "      <th>Asymmetrique Activity Index</th>\n",
              "      <th>Asymmetrique Profile Index</th>\n",
              "      <th>Asymmetrique Activity Score</th>\n",
              "      <th>Asymmetrique Profile Score</th>\n",
              "      <th>I agree to pay the amount through cheque</th>\n",
              "      <th>A free copy of Mastering The Interview</th>\n",
              "      <th>Last Notable Activity</th>\n",
              "    </tr>\n",
              "  </thead>\n",
              "  <tbody>\n",
              "    <tr>\n",
              "      <th>0</th>\n",
              "      <td>7927b2df-8bba-4d29-b9a2-b6e0beafe620</td>\n",
              "      <td>660737</td>\n",
              "      <td>API</td>\n",
              "      <td>Olark Chat</td>\n",
              "      <td>No</td>\n",
              "      <td>No</td>\n",
              "      <td>0</td>\n",
              "      <td>0.0</td>\n",
              "      <td>0</td>\n",
              "      <td>0.0</td>\n",
              "      <td>...</td>\n",
              "      <td>No</td>\n",
              "      <td>Select</td>\n",
              "      <td>Select</td>\n",
              "      <td>02.Medium</td>\n",
              "      <td>02.Medium</td>\n",
              "      <td>15.0</td>\n",
              "      <td>15.0</td>\n",
              "      <td>No</td>\n",
              "      <td>No</td>\n",
              "      <td>Modified</td>\n",
              "    </tr>\n",
              "    <tr>\n",
              "      <th>1</th>\n",
              "      <td>2a272436-5132-4136-86fa-dcc88c88f482</td>\n",
              "      <td>660728</td>\n",
              "      <td>API</td>\n",
              "      <td>Organic Search</td>\n",
              "      <td>No</td>\n",
              "      <td>No</td>\n",
              "      <td>0</td>\n",
              "      <td>5.0</td>\n",
              "      <td>674</td>\n",
              "      <td>2.5</td>\n",
              "      <td>...</td>\n",
              "      <td>No</td>\n",
              "      <td>Select</td>\n",
              "      <td>Select</td>\n",
              "      <td>02.Medium</td>\n",
              "      <td>02.Medium</td>\n",
              "      <td>15.0</td>\n",
              "      <td>15.0</td>\n",
              "      <td>No</td>\n",
              "      <td>No</td>\n",
              "      <td>Email Opened</td>\n",
              "    </tr>\n",
              "    <tr>\n",
              "      <th>2</th>\n",
              "      <td>8cc8c611-a219-4f35-ad23-fdfd2656bd8a</td>\n",
              "      <td>660727</td>\n",
              "      <td>Landing Page Submission</td>\n",
              "      <td>Direct Traffic</td>\n",
              "      <td>No</td>\n",
              "      <td>No</td>\n",
              "      <td>1</td>\n",
              "      <td>2.0</td>\n",
              "      <td>1532</td>\n",
              "      <td>2.0</td>\n",
              "      <td>...</td>\n",
              "      <td>No</td>\n",
              "      <td>Potential Lead</td>\n",
              "      <td>Mumbai</td>\n",
              "      <td>02.Medium</td>\n",
              "      <td>01.High</td>\n",
              "      <td>14.0</td>\n",
              "      <td>20.0</td>\n",
              "      <td>No</td>\n",
              "      <td>Yes</td>\n",
              "      <td>Email Opened</td>\n",
              "    </tr>\n",
              "    <tr>\n",
              "      <th>3</th>\n",
              "      <td>0cc2df48-7cf4-4e39-9de9-19797f9b38cc</td>\n",
              "      <td>660719</td>\n",
              "      <td>Landing Page Submission</td>\n",
              "      <td>Direct Traffic</td>\n",
              "      <td>No</td>\n",
              "      <td>No</td>\n",
              "      <td>0</td>\n",
              "      <td>1.0</td>\n",
              "      <td>305</td>\n",
              "      <td>1.0</td>\n",
              "      <td>...</td>\n",
              "      <td>No</td>\n",
              "      <td>Select</td>\n",
              "      <td>Mumbai</td>\n",
              "      <td>02.Medium</td>\n",
              "      <td>01.High</td>\n",
              "      <td>13.0</td>\n",
              "      <td>17.0</td>\n",
              "      <td>No</td>\n",
              "      <td>No</td>\n",
              "      <td>Modified</td>\n",
              "    </tr>\n",
              "    <tr>\n",
              "      <th>4</th>\n",
              "      <td>3256f628-e534-4826-9d63-4a8b88782852</td>\n",
              "      <td>660681</td>\n",
              "      <td>Landing Page Submission</td>\n",
              "      <td>Google</td>\n",
              "      <td>No</td>\n",
              "      <td>No</td>\n",
              "      <td>1</td>\n",
              "      <td>2.0</td>\n",
              "      <td>1428</td>\n",
              "      <td>1.0</td>\n",
              "      <td>...</td>\n",
              "      <td>No</td>\n",
              "      <td>Select</td>\n",
              "      <td>Mumbai</td>\n",
              "      <td>02.Medium</td>\n",
              "      <td>01.High</td>\n",
              "      <td>15.0</td>\n",
              "      <td>18.0</td>\n",
              "      <td>No</td>\n",
              "      <td>No</td>\n",
              "      <td>Modified</td>\n",
              "    </tr>\n",
              "  </tbody>\n",
              "</table>\n",
              "<p>5 rows × 37 columns</p>\n",
              "</div>\n",
              "      <button class=\"colab-df-convert\" onclick=\"convertToInteractive('df-cdd1fad4-9f68-40a0-83f7-1edbe18c86e9')\"\n",
              "              title=\"Convert this dataframe to an interactive table.\"\n",
              "              style=\"display:none;\">\n",
              "        \n",
              "  <svg xmlns=\"http://www.w3.org/2000/svg\" height=\"24px\"viewBox=\"0 0 24 24\"\n",
              "       width=\"24px\">\n",
              "    <path d=\"M0 0h24v24H0V0z\" fill=\"none\"/>\n",
              "    <path d=\"M18.56 5.44l.94 2.06.94-2.06 2.06-.94-2.06-.94-.94-2.06-.94 2.06-2.06.94zm-11 1L8.5 8.5l.94-2.06 2.06-.94-2.06-.94L8.5 2.5l-.94 2.06-2.06.94zm10 10l.94 2.06.94-2.06 2.06-.94-2.06-.94-.94-2.06-.94 2.06-2.06.94z\"/><path d=\"M17.41 7.96l-1.37-1.37c-.4-.4-.92-.59-1.43-.59-.52 0-1.04.2-1.43.59L10.3 9.45l-7.72 7.72c-.78.78-.78 2.05 0 2.83L4 21.41c.39.39.9.59 1.41.59.51 0 1.02-.2 1.41-.59l7.78-7.78 2.81-2.81c.8-.78.8-2.07 0-2.86zM5.41 20L4 18.59l7.72-7.72 1.47 1.35L5.41 20z\"/>\n",
              "  </svg>\n",
              "      </button>\n",
              "      \n",
              "  <style>\n",
              "    .colab-df-container {\n",
              "      display:flex;\n",
              "      flex-wrap:wrap;\n",
              "      gap: 12px;\n",
              "    }\n",
              "\n",
              "    .colab-df-convert {\n",
              "      background-color: #E8F0FE;\n",
              "      border: none;\n",
              "      border-radius: 50%;\n",
              "      cursor: pointer;\n",
              "      display: none;\n",
              "      fill: #1967D2;\n",
              "      height: 32px;\n",
              "      padding: 0 0 0 0;\n",
              "      width: 32px;\n",
              "    }\n",
              "\n",
              "    .colab-df-convert:hover {\n",
              "      background-color: #E2EBFA;\n",
              "      box-shadow: 0px 1px 2px rgba(60, 64, 67, 0.3), 0px 1px 3px 1px rgba(60, 64, 67, 0.15);\n",
              "      fill: #174EA6;\n",
              "    }\n",
              "\n",
              "    [theme=dark] .colab-df-convert {\n",
              "      background-color: #3B4455;\n",
              "      fill: #D2E3FC;\n",
              "    }\n",
              "\n",
              "    [theme=dark] .colab-df-convert:hover {\n",
              "      background-color: #434B5C;\n",
              "      box-shadow: 0px 1px 3px 1px rgba(0, 0, 0, 0.15);\n",
              "      filter: drop-shadow(0px 1px 2px rgba(0, 0, 0, 0.3));\n",
              "      fill: #FFFFFF;\n",
              "    }\n",
              "  </style>\n",
              "\n",
              "      <script>\n",
              "        const buttonEl =\n",
              "          document.querySelector('#df-cdd1fad4-9f68-40a0-83f7-1edbe18c86e9 button.colab-df-convert');\n",
              "        buttonEl.style.display =\n",
              "          google.colab.kernel.accessAllowed ? 'block' : 'none';\n",
              "\n",
              "        async function convertToInteractive(key) {\n",
              "          const element = document.querySelector('#df-cdd1fad4-9f68-40a0-83f7-1edbe18c86e9');\n",
              "          const dataTable =\n",
              "            await google.colab.kernel.invokeFunction('convertToInteractive',\n",
              "                                                     [key], {});\n",
              "          if (!dataTable) return;\n",
              "\n",
              "          const docLinkHtml = 'Like what you see? Visit the ' +\n",
              "            '<a target=\"_blank\" href=https://colab.research.google.com/notebooks/data_table.ipynb>data table notebook</a>'\n",
              "            + ' to learn more about interactive tables.';\n",
              "          element.innerHTML = '';\n",
              "          dataTable['output_type'] = 'display_data';\n",
              "          await google.colab.output.renderOutput(dataTable, element);\n",
              "          const docLink = document.createElement('div');\n",
              "          docLink.innerHTML = docLinkHtml;\n",
              "          element.appendChild(docLink);\n",
              "        }\n",
              "      </script>\n",
              "    </div>\n",
              "  </div>\n",
              "  "
            ]
          },
          "metadata": {},
          "execution_count": 9
        }
      ]
    },
    {
      "cell_type": "markdown",
      "source": [
        "1.3 : Inspecting the Dataframe"
      ],
      "metadata": {
        "id": "GvKR9wXSVOrn"
      }
    },
    {
      "cell_type": "code",
      "source": [
        "# Let's check the dimensions of the dataframe\n",
        "input_load.shape"
      ],
      "metadata": {
        "id": "eQXbbDsd8uUI",
        "colab": {
          "base_uri": "https://localhost:8080/"
        },
        "outputId": "204f797d-a13a-4e6f-cab5-c887a4f69cb9"
      },
      "execution_count": 10,
      "outputs": [
        {
          "output_type": "execute_result",
          "data": {
            "text/plain": [
              "(9240, 37)"
            ]
          },
          "metadata": {},
          "execution_count": 10
        }
      ]
    },
    {
      "cell_type": "code",
      "source": [
        "# let's look at the statistical aspects of the dataframe\n",
        "input_load.describe()"
      ],
      "metadata": {
        "id": "RTRaGKyD8uW0",
        "colab": {
          "base_uri": "https://localhost:8080/",
          "height": 300
        },
        "outputId": "b98ba668-faaa-4631-ac19-850edc373fad"
      },
      "execution_count": 11,
      "outputs": [
        {
          "output_type": "execute_result",
          "data": {
            "text/plain": [
              "         Lead Number    Converted  TotalVisits  Total Time Spent on Website  \\\n",
              "count    9240.000000  9240.000000  9103.000000                  9240.000000   \n",
              "mean   617188.435606     0.385390     3.445238                   487.698268   \n",
              "std     23405.995698     0.486714     4.854853                   548.021466   \n",
              "min    579533.000000     0.000000     0.000000                     0.000000   \n",
              "25%    596484.500000     0.000000     1.000000                    12.000000   \n",
              "50%    615479.000000     0.000000     3.000000                   248.000000   \n",
              "75%    637387.250000     1.000000     5.000000                   936.000000   \n",
              "max    660737.000000     1.000000   251.000000                  2272.000000   \n",
              "\n",
              "       Page Views Per Visit  Asymmetrique Activity Score  \\\n",
              "count           9103.000000                  5022.000000   \n",
              "mean               2.362820                    14.306252   \n",
              "std                2.161418                     1.386694   \n",
              "min                0.000000                     7.000000   \n",
              "25%                1.000000                    14.000000   \n",
              "50%                2.000000                    14.000000   \n",
              "75%                3.000000                    15.000000   \n",
              "max               55.000000                    18.000000   \n",
              "\n",
              "       Asymmetrique Profile Score  \n",
              "count                 5022.000000  \n",
              "mean                    16.344883  \n",
              "std                      1.811395  \n",
              "min                     11.000000  \n",
              "25%                     15.000000  \n",
              "50%                     16.000000  \n",
              "75%                     18.000000  \n",
              "max                     20.000000  "
            ],
            "text/html": [
              "\n",
              "  <div id=\"df-97d89e19-bf09-4ccc-8203-fbc3f28a979e\">\n",
              "    <div class=\"colab-df-container\">\n",
              "      <div>\n",
              "<style scoped>\n",
              "    .dataframe tbody tr th:only-of-type {\n",
              "        vertical-align: middle;\n",
              "    }\n",
              "\n",
              "    .dataframe tbody tr th {\n",
              "        vertical-align: top;\n",
              "    }\n",
              "\n",
              "    .dataframe thead th {\n",
              "        text-align: right;\n",
              "    }\n",
              "</style>\n",
              "<table border=\"1\" class=\"dataframe\">\n",
              "  <thead>\n",
              "    <tr style=\"text-align: right;\">\n",
              "      <th></th>\n",
              "      <th>Lead Number</th>\n",
              "      <th>Converted</th>\n",
              "      <th>TotalVisits</th>\n",
              "      <th>Total Time Spent on Website</th>\n",
              "      <th>Page Views Per Visit</th>\n",
              "      <th>Asymmetrique Activity Score</th>\n",
              "      <th>Asymmetrique Profile Score</th>\n",
              "    </tr>\n",
              "  </thead>\n",
              "  <tbody>\n",
              "    <tr>\n",
              "      <th>count</th>\n",
              "      <td>9240.000000</td>\n",
              "      <td>9240.000000</td>\n",
              "      <td>9103.000000</td>\n",
              "      <td>9240.000000</td>\n",
              "      <td>9103.000000</td>\n",
              "      <td>5022.000000</td>\n",
              "      <td>5022.000000</td>\n",
              "    </tr>\n",
              "    <tr>\n",
              "      <th>mean</th>\n",
              "      <td>617188.435606</td>\n",
              "      <td>0.385390</td>\n",
              "      <td>3.445238</td>\n",
              "      <td>487.698268</td>\n",
              "      <td>2.362820</td>\n",
              "      <td>14.306252</td>\n",
              "      <td>16.344883</td>\n",
              "    </tr>\n",
              "    <tr>\n",
              "      <th>std</th>\n",
              "      <td>23405.995698</td>\n",
              "      <td>0.486714</td>\n",
              "      <td>4.854853</td>\n",
              "      <td>548.021466</td>\n",
              "      <td>2.161418</td>\n",
              "      <td>1.386694</td>\n",
              "      <td>1.811395</td>\n",
              "    </tr>\n",
              "    <tr>\n",
              "      <th>min</th>\n",
              "      <td>579533.000000</td>\n",
              "      <td>0.000000</td>\n",
              "      <td>0.000000</td>\n",
              "      <td>0.000000</td>\n",
              "      <td>0.000000</td>\n",
              "      <td>7.000000</td>\n",
              "      <td>11.000000</td>\n",
              "    </tr>\n",
              "    <tr>\n",
              "      <th>25%</th>\n",
              "      <td>596484.500000</td>\n",
              "      <td>0.000000</td>\n",
              "      <td>1.000000</td>\n",
              "      <td>12.000000</td>\n",
              "      <td>1.000000</td>\n",
              "      <td>14.000000</td>\n",
              "      <td>15.000000</td>\n",
              "    </tr>\n",
              "    <tr>\n",
              "      <th>50%</th>\n",
              "      <td>615479.000000</td>\n",
              "      <td>0.000000</td>\n",
              "      <td>3.000000</td>\n",
              "      <td>248.000000</td>\n",
              "      <td>2.000000</td>\n",
              "      <td>14.000000</td>\n",
              "      <td>16.000000</td>\n",
              "    </tr>\n",
              "    <tr>\n",
              "      <th>75%</th>\n",
              "      <td>637387.250000</td>\n",
              "      <td>1.000000</td>\n",
              "      <td>5.000000</td>\n",
              "      <td>936.000000</td>\n",
              "      <td>3.000000</td>\n",
              "      <td>15.000000</td>\n",
              "      <td>18.000000</td>\n",
              "    </tr>\n",
              "    <tr>\n",
              "      <th>max</th>\n",
              "      <td>660737.000000</td>\n",
              "      <td>1.000000</td>\n",
              "      <td>251.000000</td>\n",
              "      <td>2272.000000</td>\n",
              "      <td>55.000000</td>\n",
              "      <td>18.000000</td>\n",
              "      <td>20.000000</td>\n",
              "    </tr>\n",
              "  </tbody>\n",
              "</table>\n",
              "</div>\n",
              "      <button class=\"colab-df-convert\" onclick=\"convertToInteractive('df-97d89e19-bf09-4ccc-8203-fbc3f28a979e')\"\n",
              "              title=\"Convert this dataframe to an interactive table.\"\n",
              "              style=\"display:none;\">\n",
              "        \n",
              "  <svg xmlns=\"http://www.w3.org/2000/svg\" height=\"24px\"viewBox=\"0 0 24 24\"\n",
              "       width=\"24px\">\n",
              "    <path d=\"M0 0h24v24H0V0z\" fill=\"none\"/>\n",
              "    <path d=\"M18.56 5.44l.94 2.06.94-2.06 2.06-.94-2.06-.94-.94-2.06-.94 2.06-2.06.94zm-11 1L8.5 8.5l.94-2.06 2.06-.94-2.06-.94L8.5 2.5l-.94 2.06-2.06.94zm10 10l.94 2.06.94-2.06 2.06-.94-2.06-.94-.94-2.06-.94 2.06-2.06.94z\"/><path d=\"M17.41 7.96l-1.37-1.37c-.4-.4-.92-.59-1.43-.59-.52 0-1.04.2-1.43.59L10.3 9.45l-7.72 7.72c-.78.78-.78 2.05 0 2.83L4 21.41c.39.39.9.59 1.41.59.51 0 1.02-.2 1.41-.59l7.78-7.78 2.81-2.81c.8-.78.8-2.07 0-2.86zM5.41 20L4 18.59l7.72-7.72 1.47 1.35L5.41 20z\"/>\n",
              "  </svg>\n",
              "      </button>\n",
              "      \n",
              "  <style>\n",
              "    .colab-df-container {\n",
              "      display:flex;\n",
              "      flex-wrap:wrap;\n",
              "      gap: 12px;\n",
              "    }\n",
              "\n",
              "    .colab-df-convert {\n",
              "      background-color: #E8F0FE;\n",
              "      border: none;\n",
              "      border-radius: 50%;\n",
              "      cursor: pointer;\n",
              "      display: none;\n",
              "      fill: #1967D2;\n",
              "      height: 32px;\n",
              "      padding: 0 0 0 0;\n",
              "      width: 32px;\n",
              "    }\n",
              "\n",
              "    .colab-df-convert:hover {\n",
              "      background-color: #E2EBFA;\n",
              "      box-shadow: 0px 1px 2px rgba(60, 64, 67, 0.3), 0px 1px 3px 1px rgba(60, 64, 67, 0.15);\n",
              "      fill: #174EA6;\n",
              "    }\n",
              "\n",
              "    [theme=dark] .colab-df-convert {\n",
              "      background-color: #3B4455;\n",
              "      fill: #D2E3FC;\n",
              "    }\n",
              "\n",
              "    [theme=dark] .colab-df-convert:hover {\n",
              "      background-color: #434B5C;\n",
              "      box-shadow: 0px 1px 3px 1px rgba(0, 0, 0, 0.15);\n",
              "      filter: drop-shadow(0px 1px 2px rgba(0, 0, 0, 0.3));\n",
              "      fill: #FFFFFF;\n",
              "    }\n",
              "  </style>\n",
              "\n",
              "      <script>\n",
              "        const buttonEl =\n",
              "          document.querySelector('#df-97d89e19-bf09-4ccc-8203-fbc3f28a979e button.colab-df-convert');\n",
              "        buttonEl.style.display =\n",
              "          google.colab.kernel.accessAllowed ? 'block' : 'none';\n",
              "\n",
              "        async function convertToInteractive(key) {\n",
              "          const element = document.querySelector('#df-97d89e19-bf09-4ccc-8203-fbc3f28a979e');\n",
              "          const dataTable =\n",
              "            await google.colab.kernel.invokeFunction('convertToInteractive',\n",
              "                                                     [key], {});\n",
              "          if (!dataTable) return;\n",
              "\n",
              "          const docLinkHtml = 'Like what you see? Visit the ' +\n",
              "            '<a target=\"_blank\" href=https://colab.research.google.com/notebooks/data_table.ipynb>data table notebook</a>'\n",
              "            + ' to learn more about interactive tables.';\n",
              "          element.innerHTML = '';\n",
              "          dataTable['output_type'] = 'display_data';\n",
              "          await google.colab.output.renderOutput(dataTable, element);\n",
              "          const docLink = document.createElement('div');\n",
              "          docLink.innerHTML = docLinkHtml;\n",
              "          element.appendChild(docLink);\n",
              "        }\n",
              "      </script>\n",
              "    </div>\n",
              "  </div>\n",
              "  "
            ]
          },
          "metadata": {},
          "execution_count": 11
        }
      ]
    },
    {
      "cell_type": "code",
      "source": [
        "# Let's see the type of each column\n",
        "input_load.info()"
      ],
      "metadata": {
        "id": "8sg9drIq8uZR",
        "colab": {
          "base_uri": "https://localhost:8080/"
        },
        "outputId": "6ac3b986-5315-4ce3-d3f9-1709a772fbee"
      },
      "execution_count": 12,
      "outputs": [
        {
          "output_type": "stream",
          "name": "stdout",
          "text": [
            "<class 'pandas.core.frame.DataFrame'>\n",
            "RangeIndex: 9240 entries, 0 to 9239\n",
            "Data columns (total 37 columns):\n",
            " #   Column                                         Non-Null Count  Dtype  \n",
            "---  ------                                         --------------  -----  \n",
            " 0   Prospect ID                                    9240 non-null   object \n",
            " 1   Lead Number                                    9240 non-null   int64  \n",
            " 2   Lead Origin                                    9240 non-null   object \n",
            " 3   Lead Source                                    9204 non-null   object \n",
            " 4   Do Not Email                                   9240 non-null   object \n",
            " 5   Do Not Call                                    9240 non-null   object \n",
            " 6   Converted                                      9240 non-null   int64  \n",
            " 7   TotalVisits                                    9103 non-null   float64\n",
            " 8   Total Time Spent on Website                    9240 non-null   int64  \n",
            " 9   Page Views Per Visit                           9103 non-null   float64\n",
            " 10  Last Activity                                  9137 non-null   object \n",
            " 11  Country                                        6779 non-null   object \n",
            " 12  Specialization                                 7802 non-null   object \n",
            " 13  How did you hear about X Education             7033 non-null   object \n",
            " 14  What is your current occupation                6550 non-null   object \n",
            " 15  What matters most to you in choosing a course  6531 non-null   object \n",
            " 16  Search                                         9240 non-null   object \n",
            " 17  Magazine                                       9240 non-null   object \n",
            " 18  Newspaper Article                              9240 non-null   object \n",
            " 19  X Education Forums                             9240 non-null   object \n",
            " 20  Newspaper                                      9240 non-null   object \n",
            " 21  Digital Advertisement                          9240 non-null   object \n",
            " 22  Through Recommendations                        9240 non-null   object \n",
            " 23  Receive More Updates About Our Courses         9240 non-null   object \n",
            " 24  Tags                                           5887 non-null   object \n",
            " 25  Lead Quality                                   4473 non-null   object \n",
            " 26  Update me on Supply Chain Content              9240 non-null   object \n",
            " 27  Get updates on DM Content                      9240 non-null   object \n",
            " 28  Lead Profile                                   6531 non-null   object \n",
            " 29  City                                           7820 non-null   object \n",
            " 30  Asymmetrique Activity Index                    5022 non-null   object \n",
            " 31  Asymmetrique Profile Index                     5022 non-null   object \n",
            " 32  Asymmetrique Activity Score                    5022 non-null   float64\n",
            " 33  Asymmetrique Profile Score                     5022 non-null   float64\n",
            " 34  I agree to pay the amount through cheque       9240 non-null   object \n",
            " 35  A free copy of Mastering The Interview         9240 non-null   object \n",
            " 36  Last Notable Activity                          9240 non-null   object \n",
            "dtypes: float64(4), int64(3), object(30)\n",
            "memory usage: 2.6+ MB\n"
          ]
        }
      ]
    },
    {
      "cell_type": "markdown",
      "source": [
        "**Step 2 : Data Cleaning**"
      ],
      "metadata": {
        "id": "4_MYKG8NWH90"
      }
    },
    {
      "cell_type": "markdown",
      "source": [
        "2.1 : Dropping the columns having missing data more than 35 %\n"
      ],
      "metadata": {
        "id": "IvrRwuJeWqC9"
      }
    },
    {
      "cell_type": "code",
      "source": [
        "#Assumption --> Threshold perecentage of missing data - 35 %"
      ],
      "metadata": {
        "id": "PdrQyH9DXmD_"
      },
      "execution_count": 13,
      "outputs": []
    },
    {
      "cell_type": "code",
      "source": [
        "#Adressing missing values columns\n",
        "for column in input_load.columns:\n",
        "  missing_value_precentage=(pd.isnull(input_load[(column)]).sum())*100/(len(input_load.index))\n",
        "  if missing_value_precentage>35.0:\n",
        "    input_load.drop(column, axis=1, inplace=True)\n",
        "  print(column, \":\",missing_value_precentage)"
      ],
      "metadata": {
        "colab": {
          "base_uri": "https://localhost:8080/"
        },
        "id": "eSZbrkV_V_CQ",
        "outputId": "2d534a6b-4bdc-4c78-da18-f54fc144d4c7"
      },
      "execution_count": 14,
      "outputs": [
        {
          "output_type": "stream",
          "name": "stdout",
          "text": [
            "Prospect ID : 0.0\n",
            "Lead Number : 0.0\n",
            "Lead Origin : 0.0\n",
            "Lead Source : 0.38961038961038963\n",
            "Do Not Email : 0.0\n",
            "Do Not Call : 0.0\n",
            "Converted : 0.0\n",
            "TotalVisits : 1.4826839826839826\n",
            "Total Time Spent on Website : 0.0\n",
            "Page Views Per Visit : 1.4826839826839826\n",
            "Last Activity : 1.1147186147186148\n",
            "Country : 26.634199134199132\n",
            "Specialization : 15.562770562770563\n",
            "How did you hear about X Education : 23.885281385281385\n",
            "What is your current occupation : 29.11255411255411\n",
            "What matters most to you in choosing a course : 29.318181818181817\n",
            "Search : 0.0\n",
            "Magazine : 0.0\n",
            "Newspaper Article : 0.0\n",
            "X Education Forums : 0.0\n",
            "Newspaper : 0.0\n",
            "Digital Advertisement : 0.0\n",
            "Through Recommendations : 0.0\n",
            "Receive More Updates About Our Courses : 0.0\n",
            "Tags : 36.28787878787879\n",
            "Lead Quality : 51.59090909090909\n",
            "Update me on Supply Chain Content : 0.0\n",
            "Get updates on DM Content : 0.0\n",
            "Lead Profile : 29.318181818181817\n",
            "City : 15.367965367965368\n",
            "Asymmetrique Activity Index : 45.64935064935065\n",
            "Asymmetrique Profile Index : 45.64935064935065\n",
            "Asymmetrique Activity Score : 45.64935064935065\n",
            "Asymmetrique Profile Score : 45.64935064935065\n",
            "I agree to pay the amount through cheque : 0.0\n",
            "A free copy of Mastering The Interview : 0.0\n",
            "Last Notable Activity : 0.0\n"
          ]
        }
      ]
    },
    {
      "cell_type": "code",
      "source": [
        "# Let's see the type of each column\n",
        "input_load.info()"
      ],
      "metadata": {
        "colab": {
          "base_uri": "https://localhost:8080/"
        },
        "id": "U94kDcoMYixn",
        "outputId": "f9e14907-e512-42b7-a6cb-d9f8e3273a24"
      },
      "execution_count": 15,
      "outputs": [
        {
          "output_type": "stream",
          "name": "stdout",
          "text": [
            "<class 'pandas.core.frame.DataFrame'>\n",
            "RangeIndex: 9240 entries, 0 to 9239\n",
            "Data columns (total 31 columns):\n",
            " #   Column                                         Non-Null Count  Dtype  \n",
            "---  ------                                         --------------  -----  \n",
            " 0   Prospect ID                                    9240 non-null   object \n",
            " 1   Lead Number                                    9240 non-null   int64  \n",
            " 2   Lead Origin                                    9240 non-null   object \n",
            " 3   Lead Source                                    9204 non-null   object \n",
            " 4   Do Not Email                                   9240 non-null   object \n",
            " 5   Do Not Call                                    9240 non-null   object \n",
            " 6   Converted                                      9240 non-null   int64  \n",
            " 7   TotalVisits                                    9103 non-null   float64\n",
            " 8   Total Time Spent on Website                    9240 non-null   int64  \n",
            " 9   Page Views Per Visit                           9103 non-null   float64\n",
            " 10  Last Activity                                  9137 non-null   object \n",
            " 11  Country                                        6779 non-null   object \n",
            " 12  Specialization                                 7802 non-null   object \n",
            " 13  How did you hear about X Education             7033 non-null   object \n",
            " 14  What is your current occupation                6550 non-null   object \n",
            " 15  What matters most to you in choosing a course  6531 non-null   object \n",
            " 16  Search                                         9240 non-null   object \n",
            " 17  Magazine                                       9240 non-null   object \n",
            " 18  Newspaper Article                              9240 non-null   object \n",
            " 19  X Education Forums                             9240 non-null   object \n",
            " 20  Newspaper                                      9240 non-null   object \n",
            " 21  Digital Advertisement                          9240 non-null   object \n",
            " 22  Through Recommendations                        9240 non-null   object \n",
            " 23  Receive More Updates About Our Courses         9240 non-null   object \n",
            " 24  Update me on Supply Chain Content              9240 non-null   object \n",
            " 25  Get updates on DM Content                      9240 non-null   object \n",
            " 26  Lead Profile                                   6531 non-null   object \n",
            " 27  City                                           7820 non-null   object \n",
            " 28  I agree to pay the amount through cheque       9240 non-null   object \n",
            " 29  A free copy of Mastering The Interview         9240 non-null   object \n",
            " 30  Last Notable Activity                          9240 non-null   object \n",
            "dtypes: float64(2), int64(3), object(26)\n",
            "memory usage: 2.2+ MB\n"
          ]
        }
      ]
    },
    {
      "cell_type": "code",
      "source": [
        "# Dropping all the columns having no use in analysis - based on observations\n",
        "input_load.drop([\"Prospect ID\", \"Lead Number\", \"Newspaper Article\"], axis = 1, inplace = True)"
      ],
      "metadata": {
        "id": "JgISPrxGV_FE"
      },
      "execution_count": 16,
      "outputs": []
    },
    {
      "cell_type": "code",
      "source": [
        "# Let's see the type of each column\n",
        "input_load.info()"
      ],
      "metadata": {
        "colab": {
          "base_uri": "https://localhost:8080/"
        },
        "id": "VINrmthkV_H6",
        "outputId": "e29ad3a0-99c1-4577-a130-98dae1612228"
      },
      "execution_count": 17,
      "outputs": [
        {
          "output_type": "stream",
          "name": "stdout",
          "text": [
            "<class 'pandas.core.frame.DataFrame'>\n",
            "RangeIndex: 9240 entries, 0 to 9239\n",
            "Data columns (total 28 columns):\n",
            " #   Column                                         Non-Null Count  Dtype  \n",
            "---  ------                                         --------------  -----  \n",
            " 0   Lead Origin                                    9240 non-null   object \n",
            " 1   Lead Source                                    9204 non-null   object \n",
            " 2   Do Not Email                                   9240 non-null   object \n",
            " 3   Do Not Call                                    9240 non-null   object \n",
            " 4   Converted                                      9240 non-null   int64  \n",
            " 5   TotalVisits                                    9103 non-null   float64\n",
            " 6   Total Time Spent on Website                    9240 non-null   int64  \n",
            " 7   Page Views Per Visit                           9103 non-null   float64\n",
            " 8   Last Activity                                  9137 non-null   object \n",
            " 9   Country                                        6779 non-null   object \n",
            " 10  Specialization                                 7802 non-null   object \n",
            " 11  How did you hear about X Education             7033 non-null   object \n",
            " 12  What is your current occupation                6550 non-null   object \n",
            " 13  What matters most to you in choosing a course  6531 non-null   object \n",
            " 14  Search                                         9240 non-null   object \n",
            " 15  Magazine                                       9240 non-null   object \n",
            " 16  X Education Forums                             9240 non-null   object \n",
            " 17  Newspaper                                      9240 non-null   object \n",
            " 18  Digital Advertisement                          9240 non-null   object \n",
            " 19  Through Recommendations                        9240 non-null   object \n",
            " 20  Receive More Updates About Our Courses         9240 non-null   object \n",
            " 21  Update me on Supply Chain Content              9240 non-null   object \n",
            " 22  Get updates on DM Content                      9240 non-null   object \n",
            " 23  Lead Profile                                   6531 non-null   object \n",
            " 24  City                                           7820 non-null   object \n",
            " 25  I agree to pay the amount through cheque       9240 non-null   object \n",
            " 26  A free copy of Mastering The Interview         9240 non-null   object \n",
            " 27  Last Notable Activity                          9240 non-null   object \n",
            "dtypes: float64(2), int64(2), object(24)\n",
            "memory usage: 2.0+ MB\n"
          ]
        }
      ]
    },
    {
      "cell_type": "code",
      "source": [
        "#Checking duplicate rows \n",
        "input_load.duplicated().sum()"
      ],
      "metadata": {
        "colab": {
          "base_uri": "https://localhost:8080/"
        },
        "id": "pmJ6QUwYcMQk",
        "outputId": "e606f5ec-0033-4863-ebf5-d89323c1e704"
      },
      "execution_count": 18,
      "outputs": [
        {
          "output_type": "execute_result",
          "data": {
            "text/plain": [
              "1687"
            ]
          },
          "metadata": {},
          "execution_count": 18
        }
      ]
    },
    {
      "cell_type": "code",
      "source": [
        "# Drop all the duplicated rows and will keep the first occurance inplace.\n",
        "input_load.drop_duplicates(inplace = True)"
      ],
      "metadata": {
        "id": "mL_oo8bqcx5e"
      },
      "execution_count": 19,
      "outputs": []
    },
    {
      "cell_type": "code",
      "source": [
        "# Let's check the dimensions of the dataframe\n",
        "input_load.shape"
      ],
      "metadata": {
        "colab": {
          "base_uri": "https://localhost:8080/"
        },
        "id": "VVmzueLKeY3c",
        "outputId": "59a5f66b-30de-4c78-bc60-1a248ba199d2"
      },
      "execution_count": 20,
      "outputs": [
        {
          "output_type": "execute_result",
          "data": {
            "text/plain": [
              "(7553, 28)"
            ]
          },
          "metadata": {},
          "execution_count": 20
        }
      ]
    },
    {
      "cell_type": "markdown",
      "source": [
        "**Step 3 : Data Preparation**"
      ],
      "metadata": {
        "id": "nOhtODBjaYaQ"
      }
    },
    {
      "cell_type": "markdown",
      "source": [
        "3.1 : Checking for Missing Values - Dropping and Inputing Them\n"
      ],
      "metadata": {
        "id": "WloS6K0naADb"
      }
    },
    {
      "cell_type": "code",
      "source": [
        "input_load.isnull().sum()"
      ],
      "metadata": {
        "colab": {
          "base_uri": "https://localhost:8080/"
        },
        "id": "MAIJnyo4Z_qr",
        "outputId": "d5dc94d3-4cfd-4a61-9365-c28cf08c8010"
      },
      "execution_count": 21,
      "outputs": [
        {
          "output_type": "execute_result",
          "data": {
            "text/plain": [
              "Lead Origin                                         0\n",
              "Lead Source                                        23\n",
              "Do Not Email                                        0\n",
              "Do Not Call                                         0\n",
              "Converted                                           0\n",
              "TotalVisits                                       136\n",
              "Total Time Spent on Website                         0\n",
              "Page Views Per Visit                              136\n",
              "Last Activity                                     102\n",
              "Country                                           779\n",
              "Specialization                                    651\n",
              "How did you hear about X Education               1419\n",
              "What is your current occupation                  1902\n",
              "What matters most to you in choosing a course    1921\n",
              "Search                                              0\n",
              "Magazine                                            0\n",
              "X Education Forums                                  0\n",
              "Newspaper                                           0\n",
              "Digital Advertisement                               0\n",
              "Through Recommendations                             0\n",
              "Receive More Updates About Our Courses              0\n",
              "Update me on Supply Chain Content                   0\n",
              "Get updates on DM Content                           0\n",
              "Lead Profile                                     1921\n",
              "City                                              634\n",
              "I agree to pay the amount through cheque            0\n",
              "A free copy of Mastering The Interview              0\n",
              "Last Notable Activity                               0\n",
              "dtype: int64"
            ]
          },
          "metadata": {},
          "execution_count": 21
        }
      ]
    },
    {
      "cell_type": "code",
      "source": [
        "# Checking the percentage of missing values\n",
        "round(100*(input_load.isnull().sum()/len(input_load.index)), 2)"
      ],
      "metadata": {
        "colab": {
          "base_uri": "https://localhost:8080/"
        },
        "id": "-sxoxpZnV_Nb",
        "outputId": "900f11dc-3a7e-476b-c9e0-3af069e0c9ce"
      },
      "execution_count": 22,
      "outputs": [
        {
          "output_type": "execute_result",
          "data": {
            "text/plain": [
              "Lead Origin                                       0.00\n",
              "Lead Source                                       0.30\n",
              "Do Not Email                                      0.00\n",
              "Do Not Call                                       0.00\n",
              "Converted                                         0.00\n",
              "TotalVisits                                       1.80\n",
              "Total Time Spent on Website                       0.00\n",
              "Page Views Per Visit                              1.80\n",
              "Last Activity                                     1.35\n",
              "Country                                          10.31\n",
              "Specialization                                    8.62\n",
              "How did you hear about X Education               18.79\n",
              "What is your current occupation                  25.18\n",
              "What matters most to you in choosing a course    25.43\n",
              "Search                                            0.00\n",
              "Magazine                                          0.00\n",
              "X Education Forums                                0.00\n",
              "Newspaper                                         0.00\n",
              "Digital Advertisement                             0.00\n",
              "Through Recommendations                           0.00\n",
              "Receive More Updates About Our Courses            0.00\n",
              "Update me on Supply Chain Content                 0.00\n",
              "Get updates on DM Content                         0.00\n",
              "Lead Profile                                     25.43\n",
              "City                                              8.39\n",
              "I agree to pay the amount through cheque          0.00\n",
              "A free copy of Mastering The Interview            0.00\n",
              "Last Notable Activity                             0.00\n",
              "dtype: float64"
            ]
          },
          "metadata": {},
          "execution_count": 22
        }
      ]
    },
    {
      "cell_type": "code",
      "source": [
        "#Lead Source column has missing data of only 0.30% - Lead source,  which seems insginificant value, hence it can be dropped off.\n",
        "input_load.dropna(how='any', subset=['Lead Source'], inplace=True)"
      ],
      "metadata": {
        "id": "wxEwJ4afV_QV"
      },
      "execution_count": 23,
      "outputs": []
    },
    {
      "cell_type": "code",
      "source": [
        "# Let's check the dimensions of the dataframe obtained after perfoming above set of activities\n",
        "input_load.shape"
      ],
      "metadata": {
        "colab": {
          "base_uri": "https://localhost:8080/"
        },
        "id": "rbZg4qeZV_Vu",
        "outputId": "3e56ce58-ac1b-44b1-a3b6-b0441187969f"
      },
      "execution_count": 24,
      "outputs": [
        {
          "output_type": "execute_result",
          "data": {
            "text/plain": [
              "(7530, 28)"
            ]
          },
          "metadata": {},
          "execution_count": 24
        }
      ]
    },
    {
      "cell_type": "code",
      "source": [
        "#Missing value imputation on TotalVisits column\n",
        "input_load['TotalVisits'].value_counts()"
      ],
      "metadata": {
        "colab": {
          "base_uri": "https://localhost:8080/"
        },
        "id": "0nnq8FIHV_Yp",
        "outputId": "a761cbd1-3f30-43e9-c47a-1652d4d6f349"
      },
      "execution_count": 25,
      "outputs": [
        {
          "output_type": "execute_result",
          "data": {
            "text/plain": [
              "2.0      1676\n",
              "3.0      1305\n",
              "4.0      1120\n",
              "5.0       783\n",
              "0.0       493\n",
              "6.0       466\n",
              "1.0       394\n",
              "7.0       309\n",
              "8.0       224\n",
              "9.0       164\n",
              "10.0      114\n",
              "11.0       86\n",
              "13.0       48\n",
              "12.0       45\n",
              "14.0       36\n",
              "16.0       21\n",
              "15.0       18\n",
              "17.0       16\n",
              "18.0       15\n",
              "20.0       12\n",
              "19.0        9\n",
              "21.0        6\n",
              "23.0        6\n",
              "24.0        5\n",
              "25.0        5\n",
              "27.0        5\n",
              "22.0        3\n",
              "29.0        2\n",
              "28.0        2\n",
              "26.0        2\n",
              "141.0       1\n",
              "55.0        1\n",
              "30.0        1\n",
              "43.0        1\n",
              "74.0        1\n",
              "41.0        1\n",
              "54.0        1\n",
              "115.0       1\n",
              "251.0       1\n",
              "32.0        1\n",
              "42.0        1\n",
              "Name: TotalVisits, dtype: int64"
            ]
          },
          "metadata": {},
          "execution_count": 25
        }
      ]
    },
    {
      "cell_type": "code",
      "source": [
        "input_load.TotalVisits.mode()"
      ],
      "metadata": {
        "colab": {
          "base_uri": "https://localhost:8080/"
        },
        "id": "UXGGKf8YV_bV",
        "outputId": "8e443849-e09f-4e47-881b-527f9ac7ca2e"
      },
      "execution_count": 26,
      "outputs": [
        {
          "output_type": "execute_result",
          "data": {
            "text/plain": [
              "0    2.0\n",
              "dtype: float64"
            ]
          },
          "metadata": {},
          "execution_count": 26
        }
      ]
    },
    {
      "cell_type": "code",
      "source": [
        "#Missing values in column TotalVisits can be imputed based upon the mode value as calculated above;\n",
        "input_load['TotalVisits'].fillna(input_load['TotalVisits'].mode()[0], inplace = True)"
      ],
      "metadata": {
        "id": "G0FgHUlfhuFW"
      },
      "execution_count": 27,
      "outputs": []
    },
    {
      "cell_type": "code",
      "source": [
        "#Missing value imputation on Page Views Per Visit column\n",
        "input_load['Page Views Per Visit'].value_counts()"
      ],
      "metadata": {
        "colab": {
          "base_uri": "https://localhost:8080/"
        },
        "id": "I2Z6TnE5V_hN",
        "outputId": "babc665b-9f2a-4747-d171-55b17e5bdd90"
      },
      "execution_count": 28,
      "outputs": [
        {
          "output_type": "execute_result",
          "data": {
            "text/plain": [
              "2.00    1791\n",
              "3.00    1195\n",
              "4.00     896\n",
              "1.00     650\n",
              "5.00     517\n",
              "        ... \n",
              "3.43       1\n",
              "2.56       1\n",
              "6.33       1\n",
              "1.64       1\n",
              "2.08       1\n",
              "Name: Page Views Per Visit, Length: 114, dtype: int64"
            ]
          },
          "metadata": {},
          "execution_count": 28
        }
      ]
    },
    {
      "cell_type": "code",
      "source": [
        "input_load['Page Views Per Visit'].mode()"
      ],
      "metadata": {
        "colab": {
          "base_uri": "https://localhost:8080/"
        },
        "id": "g2eME4ZGo32Y",
        "outputId": "e1e436bd-5055-4f52-acc8-e91a790886f8"
      },
      "execution_count": 29,
      "outputs": [
        {
          "output_type": "execute_result",
          "data": {
            "text/plain": [
              "0    2.0\n",
              "dtype: float64"
            ]
          },
          "metadata": {},
          "execution_count": 29
        }
      ]
    },
    {
      "cell_type": "code",
      "source": [
        "#Missing values in column Page Views Per Visit can be imputed based upon the mode value as calculated above;\n",
        "input_load['Page Views Per Visit'].fillna(input_load['Page Views Per Visit'].mode()[0], inplace = True)"
      ],
      "metadata": {
        "id": "YLxJO3Dro34y"
      },
      "execution_count": 30,
      "outputs": []
    },
    {
      "cell_type": "code",
      "source": [
        "#Missing value imputation on Page Views Per Visit column\n",
        "input_load['Last Activity'].value_counts()"
      ],
      "metadata": {
        "colab": {
          "base_uri": "https://localhost:8080/"
        },
        "id": "UwHoC2GOo37J",
        "outputId": "fab7339a-e179-425f-b4d1-030ce24f33ba"
      },
      "execution_count": 31,
      "outputs": [
        {
          "output_type": "execute_result",
          "data": {
            "text/plain": [
              "Email Opened                    2890\n",
              "SMS Sent                        2287\n",
              "Page Visited on Website          635\n",
              "Converted to Lead                426\n",
              "Olark Chat Conversation          386\n",
              "Email Bounced                    286\n",
              "Email Link Clicked               205\n",
              "Form Submitted on Website        116\n",
              "Unreachable                       92\n",
              "Unsubscribed                      57\n",
              "Had a Phone Conversation          30\n",
              "Approached upfront                 8\n",
              "View in browser link Clicked       6\n",
              "Email Received                     2\n",
              "Email Marked Spam                  2\n",
              "Visited Booth in Tradeshow         1\n",
              "Resubscribed to emails             1\n",
              "Name: Last Activity, dtype: int64"
            ]
          },
          "metadata": {},
          "execution_count": 31
        }
      ]
    },
    {
      "cell_type": "code",
      "source": [
        "input_load['Last Activity'].mode()\n",
        "#Missing values in column Page Views Per Visit can be imputed based upon the mode value as calculated above;\n",
        "input_load['Last Activity'].fillna(input_load['Last Activity'].mode()[0], inplace = True)"
      ],
      "metadata": {
        "id": "OOfqZyRjo39s"
      },
      "execution_count": 32,
      "outputs": []
    },
    {
      "cell_type": "code",
      "source": [
        "#Missing data imputation for categorical columns;\n",
        "#Missing values in column Country can be imputed based upon the mode value;\n",
        "input_load['Country'].fillna(input_load['Country'].mode()[0], inplace = True)\n",
        "\n",
        "#Missing values in column Specialization can be imputed based upon the mode value;\n",
        "input_load['Specialization'].fillna(input_load['Specialization'].mode()[0], inplace = True)\n",
        "\n",
        "#Missing values in column How did you hear about X Education can be imputed based upon the mode value;\n",
        "input_load['How did you hear about X Education'].fillna(input_load['How did you hear about X Education'].mode()[0], inplace = True)\n",
        "\n",
        "#Missing values in column What is your current occupation can be imputed based upon the mode value;\n",
        "input_load['What is your current occupation'].fillna(input_load['What is your current occupation'].mode()[0], inplace = True)\n",
        "\n",
        "#Missing values in column What matters most to you in choosing a course can be imputed based upon the mode value;\n",
        "input_load['What matters most to you in choosing a course'].fillna(input_load['What matters most to you in choosing a course'].mode()[0], inplace = True)\n",
        "\n",
        "#Missing values in column Lead Profile can be imputed based upon the mode value;\n",
        "input_load['Lead Profile'].fillna(input_load['Lead Profile'].mode()[0], inplace = True)\n",
        "\n",
        "#Missing values in column City can be imputed based upon the mode value;\n",
        "input_load['City'].fillna(input_load['City'].mode()[0], inplace = True)"
      ],
      "metadata": {
        "id": "blESroT_q1ZU"
      },
      "execution_count": 33,
      "outputs": []
    },
    {
      "cell_type": "code",
      "source": [
        "# Checking the percentage of missing values\n",
        "round(100*(input_load.isnull().sum()/len(input_load.index)), 2)"
      ],
      "metadata": {
        "colab": {
          "base_uri": "https://localhost:8080/"
        },
        "id": "52ScBPaVq1by",
        "outputId": "908503fb-10a9-4bef-8aa7-edd88dd987ee"
      },
      "execution_count": 34,
      "outputs": [
        {
          "output_type": "execute_result",
          "data": {
            "text/plain": [
              "Lead Origin                                      0.0\n",
              "Lead Source                                      0.0\n",
              "Do Not Email                                     0.0\n",
              "Do Not Call                                      0.0\n",
              "Converted                                        0.0\n",
              "TotalVisits                                      0.0\n",
              "Total Time Spent on Website                      0.0\n",
              "Page Views Per Visit                             0.0\n",
              "Last Activity                                    0.0\n",
              "Country                                          0.0\n",
              "Specialization                                   0.0\n",
              "How did you hear about X Education               0.0\n",
              "What is your current occupation                  0.0\n",
              "What matters most to you in choosing a course    0.0\n",
              "Search                                           0.0\n",
              "Magazine                                         0.0\n",
              "X Education Forums                               0.0\n",
              "Newspaper                                        0.0\n",
              "Digital Advertisement                            0.0\n",
              "Through Recommendations                          0.0\n",
              "Receive More Updates About Our Courses           0.0\n",
              "Update me on Supply Chain Content                0.0\n",
              "Get updates on DM Content                        0.0\n",
              "Lead Profile                                     0.0\n",
              "City                                             0.0\n",
              "I agree to pay the amount through cheque         0.0\n",
              "A free copy of Mastering The Interview           0.0\n",
              "Last Notable Activity                            0.0\n",
              "dtype: float64"
            ]
          },
          "metadata": {},
          "execution_count": 34
        }
      ]
    },
    {
      "cell_type": "markdown",
      "source": [
        "3.2 Handling columns having \"select\" in value field because it is as good as missing value\n",
        "\n"
      ],
      "metadata": {
        "id": "66Q1bYjbtwlY"
      }
    },
    {
      "cell_type": "code",
      "source": [
        "#Missing value imputation on Page Views Per Visit column\n",
        "input_load['Specialization'].value_counts()"
      ],
      "metadata": {
        "colab": {
          "base_uri": "https://localhost:8080/"
        },
        "id": "slPNOOtu5AUc",
        "outputId": "591f7019-ab49-40e6-9a76-958efb7ddf7a"
      },
      "execution_count": 35,
      "outputs": [
        {
          "output_type": "execute_result",
          "data": {
            "text/plain": [
              "Select                               1829\n",
              "Finance Management                    944\n",
              "Human Resource Management             817\n",
              "Marketing Management                  785\n",
              "Operations Management                 489\n",
              "Business Administration               396\n",
              "IT Projects Management                363\n",
              "Supply Chain Management               347\n",
              "Banking, Investment And Insurance     327\n",
              "Travel and Tourism                    202\n",
              "Media and Advertising                 202\n",
              "International Business                178\n",
              "Healthcare Management                 157\n",
              "Hospitality Management                113\n",
              "E-COMMERCE                            111\n",
              "Retail Management                     100\n",
              "Rural and Agribusiness                 73\n",
              "E-Business                             57\n",
              "Services Excellence                    40\n",
              "Name: Specialization, dtype: int64"
            ]
          },
          "metadata": {},
          "execution_count": 35
        }
      ]
    },
    {
      "cell_type": "code",
      "source": [
        "input_load['How did you hear about X Education'].value_counts()"
      ],
      "metadata": {
        "colab": {
          "base_uri": "https://localhost:8080/"
        },
        "id": "juQWXP4FHm2S",
        "outputId": "e18305a8-6dd1-48d9-f418-41b8a84387db"
      },
      "execution_count": 36,
      "outputs": [
        {
          "output_type": "execute_result",
          "data": {
            "text/plain": [
              "Select                   5542\n",
              "Online Search             808\n",
              "Word Of Mouth             347\n",
              "Student of SomeSchool     310\n",
              "Other                     186\n",
              "Multiple Sources          152\n",
              "Advertisements             70\n",
              "Social Media               66\n",
              "Email                      26\n",
              "SMS                        23\n",
              "Name: How did you hear about X Education, dtype: int64"
            ]
          },
          "metadata": {},
          "execution_count": 36
        }
      ]
    },
    {
      "cell_type": "code",
      "source": [
        "input_load['Lead Profile'].value_counts()\n"
      ],
      "metadata": {
        "colab": {
          "base_uri": "https://localhost:8080/"
        },
        "id": "CsG_WpUZHm4r",
        "outputId": "9bb5af17-50a7-49f2-9a33-a046cfe5f798"
      },
      "execution_count": 37,
      "outputs": [
        {
          "output_type": "execute_result",
          "data": {
            "text/plain": [
              "Select                         5393\n",
              "Potential Lead                 1427\n",
              "Other Leads                     471\n",
              "Student of SomeSchool           195\n",
              "Lateral Student                  24\n",
              "Dual Specialization Student      20\n",
              "Name: Lead Profile, dtype: int64"
            ]
          },
          "metadata": {},
          "execution_count": 37
        }
      ]
    },
    {
      "cell_type": "code",
      "source": [
        "input_load['City'].value_counts()"
      ],
      "metadata": {
        "colab": {
          "base_uri": "https://localhost:8080/"
        },
        "id": "Ry2mYHEyHm7Z",
        "outputId": "10dee9a8-ed90-4a95-f0dd-1024095ea4d5"
      },
      "execution_count": 38,
      "outputs": [
        {
          "output_type": "execute_result",
          "data": {
            "text/plain": [
              "Mumbai                         3823\n",
              "Select                         1388\n",
              "Thane & Outskirts               733\n",
              "Other Cities                    682\n",
              "Other Cities of Maharashtra     451\n",
              "Other Metro Cities              379\n",
              "Tier II Cities                   74\n",
              "Name: City, dtype: int64"
            ]
          },
          "metadata": {},
          "execution_count": 38
        }
      ]
    },
    {
      "cell_type": "code",
      "source": [
        "#Percentage of value 'Select' in column \"Specialization\"\n",
        "input_load['Specialization'].value_counts()[0]/input_load.shape[0]*100"
      ],
      "metadata": {
        "colab": {
          "base_uri": "https://localhost:8080/"
        },
        "id": "Gv2uqrqSHm97",
        "outputId": "91244d7f-3940-4b54-f471-5bd0eff1c683"
      },
      "execution_count": 39,
      "outputs": [
        {
          "output_type": "execute_result",
          "data": {
            "text/plain": [
              "24.289508632138116"
            ]
          },
          "metadata": {},
          "execution_count": 39
        }
      ]
    },
    {
      "cell_type": "code",
      "source": [
        "#looking at the data of column \"Specialization\", it's observed that 24% data has 'Select' value and rest of the values in comlumn having no major subsequent difference. \n",
        "#Therefore it is recommended to drop column.\n",
        "input_load.drop([\"Specialization\"], axis = 1, inplace = True)"
      ],
      "metadata": {
        "id": "6yCfysUdKwQK"
      },
      "execution_count": 40,
      "outputs": []
    },
    {
      "cell_type": "code",
      "source": [
        "#Percentage of value 'Select' in column \"How did you hear about X Education\"\n",
        "input_load['How did you hear about X Education'].value_counts()[0]/input_load.shape[0]*100"
      ],
      "metadata": {
        "colab": {
          "base_uri": "https://localhost:8080/"
        },
        "id": "XTX05yIJI6sJ",
        "outputId": "d6433a58-a2e4-45b5-82c9-10842352c7dc"
      },
      "execution_count": 41,
      "outputs": [
        {
          "output_type": "execute_result",
          "data": {
            "text/plain": [
              "73.59893758300132"
            ]
          },
          "metadata": {},
          "execution_count": 41
        }
      ]
    },
    {
      "cell_type": "code",
      "source": [
        "#Percentage of value 'Select' in column \"Lead Profile\"\n",
        "input_load['Lead Profile'].value_counts()[0]/input_load.shape[0]*100"
      ],
      "metadata": {
        "colab": {
          "base_uri": "https://localhost:8080/"
        },
        "id": "nqa7XVUhJcl2",
        "outputId": "f38b8922-dd56-4583-c194-756a9c90c49a"
      },
      "execution_count": 42,
      "outputs": [
        {
          "output_type": "execute_result",
          "data": {
            "text/plain": [
              "71.62018592297477"
            ]
          },
          "metadata": {},
          "execution_count": 42
        }
      ]
    },
    {
      "cell_type": "code",
      "source": [
        "#Percentage of value 'Select' in column \"City\"\n",
        "input_load['City'].value_counts()[0]/input_load.shape[0]*100"
      ],
      "metadata": {
        "colab": {
          "base_uri": "https://localhost:8080/"
        },
        "id": "E6v5fTM-JjTx",
        "outputId": "77ef64e2-0a9c-4697-c703-ff5a22d3074b"
      },
      "execution_count": 43,
      "outputs": [
        {
          "output_type": "execute_result",
          "data": {
            "text/plain": [
              "50.77025232403718"
            ]
          },
          "metadata": {},
          "execution_count": 43
        }
      ]
    },
    {
      "cell_type": "code",
      "source": [
        "#looking at the data of columns \"How did you hear about X Education\", \"Lead Profile\", and \"City\", it has more than 35% of data having value 'Select'. Therefore it is recommended to drop these columns\n",
        "input_load.drop([\"How did you hear about X Education\", \"Lead Profile\", \"City\"], axis = 1, inplace = True)"
      ],
      "metadata": {
        "id": "F9eYxpL-I9wC"
      },
      "execution_count": 44,
      "outputs": []
    },
    {
      "cell_type": "code",
      "source": [
        "# Let's check the dimensions of the dataframe\n",
        "input_load.shape"
      ],
      "metadata": {
        "colab": {
          "base_uri": "https://localhost:8080/"
        },
        "id": "2xIrlwheKJY8",
        "outputId": "83adab53-9e25-4a20-b954-c7d66252f4ca"
      },
      "execution_count": 45,
      "outputs": [
        {
          "output_type": "execute_result",
          "data": {
            "text/plain": [
              "(7530, 24)"
            ]
          },
          "metadata": {},
          "execution_count": 45
        }
      ]
    },
    {
      "cell_type": "code",
      "source": [
        "# Dropping the columns based business requirement\n",
        "input_load.drop(['Lead Origin', 'What is your current occupation','What matters most to you in choosing a course', 'Last Activity', 'Receive More Updates About Our Courses', 'Update me on Supply Chain Content', 'Get updates on DM Content', 'I agree to pay the amount through cheque', 'Last Notable Activity'], axis = 1, inplace = True)"
      ],
      "metadata": {
        "id": "qSp4EaVCHrQk"
      },
      "execution_count": 46,
      "outputs": []
    },
    {
      "cell_type": "code",
      "source": [
        "#checking perecentage of rows retained in data cleaning process\n",
        "input_load.shape[0]*100/9240"
      ],
      "metadata": {
        "colab": {
          "base_uri": "https://localhost:8080/"
        },
        "id": "fdHy30A9KaHp",
        "outputId": "4fee650e-f8bb-46a9-b879-f458d7724999"
      },
      "execution_count": 47,
      "outputs": [
        {
          "output_type": "execute_result",
          "data": {
            "text/plain": [
              "81.49350649350649"
            ]
          },
          "metadata": {},
          "execution_count": 47
        }
      ]
    },
    {
      "cell_type": "markdown",
      "source": [
        "3.3 Create dummies for all categorical variables - Converting some binary variables (Yes/No) to 0/1"
      ],
      "metadata": {
        "id": "cez6P1COo3Nv"
      }
    },
    {
      "cell_type": "code",
      "source": [
        "# List of variables to map - I\n",
        "\n",
        "varlist1 =  ['Do Not Email', 'Do Not Call']\n",
        "\n",
        "# Defining the map function\n",
        "def binary_map1(x):\n",
        "    return x.map({'Yes': 0, \"No\": 1})\n",
        "\n",
        "# Applying the function to the housing list\n",
        "input_load[varlist1] = input_load[varlist1].apply(binary_map1)"
      ],
      "metadata": {
        "id": "YO9eBlahYckC"
      },
      "execution_count": 48,
      "outputs": []
    },
    {
      "cell_type": "code",
      "source": [
        "# List of variables to map - II\n",
        "\n",
        "varlist2 =  ['Search', 'Magazine', 'X Education Forums', 'Newspaper', 'Digital Advertisement', 'Through Recommendations', 'A free copy of Mastering The Interview']\n",
        "\n",
        "# Defining the map function\n",
        "def binary_map2(x):\n",
        "    return x.map({'Yes': 1, \"No\": 0})\n",
        "\n",
        "# Applying the function to the housing list\n",
        "input_load[varlist2] = input_load[varlist2].apply(binary_map2)"
      ],
      "metadata": {
        "id": "OL4EzyIuQHrb"
      },
      "execution_count": 49,
      "outputs": []
    },
    {
      "cell_type": "markdown",
      "source": [
        "3.4 Create dummy variables for categorical columns"
      ],
      "metadata": {
        "id": "4dBMJ4mcrUFY"
      }
    },
    {
      "cell_type": "code",
      "source": [
        "# Creating a dummy variable for some of the categorical variables and dropping the first one.\n",
        "dummy1 = pd.get_dummies(input_load[['Lead Source', 'Country']], drop_first=True)\n",
        "\n",
        "# Adding the results to the master dataframe\n",
        "input_load = pd.concat([input_load, dummy1], axis=1)"
      ],
      "metadata": {
        "id": "qFg8ywylrdb5"
      },
      "execution_count": 50,
      "outputs": []
    },
    {
      "cell_type": "code",
      "source": [
        "# We have created dummies for the below variables, so we can drop them\n",
        "input_load = input_load.drop(['Lead Source', 'Country'], axis=1)"
      ],
      "metadata": {
        "id": "_Tjzkkd3xYOF"
      },
      "execution_count": 51,
      "outputs": []
    },
    {
      "cell_type": "code",
      "source": [
        "# Let's check the dimensions of the dataframe\n",
        "input_load.shape"
      ],
      "metadata": {
        "colab": {
          "base_uri": "https://localhost:8080/"
        },
        "id": "NYmfLAYGzJ8p",
        "outputId": "892d078d-eebc-4c79-e939-c5d66a3a495a"
      },
      "execution_count": 52,
      "outputs": [
        {
          "output_type": "execute_result",
          "data": {
            "text/plain": [
              "(7530, 70)"
            ]
          },
          "metadata": {},
          "execution_count": 52
        }
      ]
    },
    {
      "cell_type": "code",
      "source": [
        "# Checking the percentage of missing values\n",
        "round(100*(input_load.isnull().sum()/len(input_load.index)), 2)"
      ],
      "metadata": {
        "colab": {
          "base_uri": "https://localhost:8080/"
        },
        "id": "1evyTAnm-vkK",
        "outputId": "9aba15a7-1a72-4ddc-d363-9d85b6cb7aa3"
      },
      "execution_count": 53,
      "outputs": [
        {
          "output_type": "execute_result",
          "data": {
            "text/plain": [
              "Do Not Email                    0.0\n",
              "Do Not Call                     0.0\n",
              "Converted                       0.0\n",
              "TotalVisits                     0.0\n",
              "Total Time Spent on Website     0.0\n",
              "                               ... \n",
              "Country_United Arab Emirates    0.0\n",
              "Country_United Kingdom          0.0\n",
              "Country_United States           0.0\n",
              "Country_Vietnam                 0.0\n",
              "Country_unknown                 0.0\n",
              "Length: 70, dtype: float64"
            ]
          },
          "metadata": {},
          "execution_count": 53
        }
      ]
    },
    {
      "cell_type": "markdown",
      "source": [
        "**Step 4: Test-Train Split**"
      ],
      "metadata": {
        "id": "13kgD7EhSUkc"
      }
    },
    {
      "cell_type": "code",
      "source": [
        "from sklearn.model_selection import train_test_split\n"
      ],
      "metadata": {
        "id": "sLWiJ_YgShSN"
      },
      "execution_count": 54,
      "outputs": []
    },
    {
      "cell_type": "code",
      "source": [
        "# Putting feature variable to X\n",
        "X = input_load.drop(['Converted'], axis=1)\n",
        "\n",
        "X.head()"
      ],
      "metadata": {
        "colab": {
          "base_uri": "https://localhost:8080/",
          "height": 369
        },
        "id": "YDw2zhxyS8Ei",
        "outputId": "ff09c049-be85-4846-fd87-62eea792a4d7"
      },
      "execution_count": 55,
      "outputs": [
        {
          "output_type": "execute_result",
          "data": {
            "text/plain": [
              "   Do Not Email  Do Not Call  TotalVisits  Total Time Spent on Website  \\\n",
              "0             1            1          0.0                            0   \n",
              "1             1            1          5.0                          674   \n",
              "2             1            1          2.0                         1532   \n",
              "3             1            1          1.0                          305   \n",
              "4             1            1          2.0                         1428   \n",
              "\n",
              "   Page Views Per Visit  Search  Magazine  X Education Forums  Newspaper  \\\n",
              "0                   0.0       0         0                   0          0   \n",
              "1                   2.5       0         0                   0          0   \n",
              "2                   2.0       0         0                   0          0   \n",
              "3                   1.0       0         0                   0          0   \n",
              "4                   1.0       0         0                   0          0   \n",
              "\n",
              "   Digital Advertisement  ...  Country_Sri Lanka  Country_Sweden  \\\n",
              "0                      0  ...                  0               0   \n",
              "1                      0  ...                  0               0   \n",
              "2                      0  ...                  0               0   \n",
              "3                      0  ...                  0               0   \n",
              "4                      0  ...                  0               0   \n",
              "\n",
              "   Country_Switzerland  Country_Tanzania  Country_Uganda  \\\n",
              "0                    0                 0               0   \n",
              "1                    0                 0               0   \n",
              "2                    0                 0               0   \n",
              "3                    0                 0               0   \n",
              "4                    0                 0               0   \n",
              "\n",
              "   Country_United Arab Emirates  Country_United Kingdom  \\\n",
              "0                             0                       0   \n",
              "1                             0                       0   \n",
              "2                             0                       0   \n",
              "3                             0                       0   \n",
              "4                             0                       0   \n",
              "\n",
              "   Country_United States  Country_Vietnam  Country_unknown  \n",
              "0                      0                0                0  \n",
              "1                      0                0                0  \n",
              "2                      0                0                0  \n",
              "3                      0                0                0  \n",
              "4                      0                0                0  \n",
              "\n",
              "[5 rows x 69 columns]"
            ],
            "text/html": [
              "\n",
              "  <div id=\"df-36f162d2-ce15-4943-bdc1-4b17af536ae3\">\n",
              "    <div class=\"colab-df-container\">\n",
              "      <div>\n",
              "<style scoped>\n",
              "    .dataframe tbody tr th:only-of-type {\n",
              "        vertical-align: middle;\n",
              "    }\n",
              "\n",
              "    .dataframe tbody tr th {\n",
              "        vertical-align: top;\n",
              "    }\n",
              "\n",
              "    .dataframe thead th {\n",
              "        text-align: right;\n",
              "    }\n",
              "</style>\n",
              "<table border=\"1\" class=\"dataframe\">\n",
              "  <thead>\n",
              "    <tr style=\"text-align: right;\">\n",
              "      <th></th>\n",
              "      <th>Do Not Email</th>\n",
              "      <th>Do Not Call</th>\n",
              "      <th>TotalVisits</th>\n",
              "      <th>Total Time Spent on Website</th>\n",
              "      <th>Page Views Per Visit</th>\n",
              "      <th>Search</th>\n",
              "      <th>Magazine</th>\n",
              "      <th>X Education Forums</th>\n",
              "      <th>Newspaper</th>\n",
              "      <th>Digital Advertisement</th>\n",
              "      <th>...</th>\n",
              "      <th>Country_Sri Lanka</th>\n",
              "      <th>Country_Sweden</th>\n",
              "      <th>Country_Switzerland</th>\n",
              "      <th>Country_Tanzania</th>\n",
              "      <th>Country_Uganda</th>\n",
              "      <th>Country_United Arab Emirates</th>\n",
              "      <th>Country_United Kingdom</th>\n",
              "      <th>Country_United States</th>\n",
              "      <th>Country_Vietnam</th>\n",
              "      <th>Country_unknown</th>\n",
              "    </tr>\n",
              "  </thead>\n",
              "  <tbody>\n",
              "    <tr>\n",
              "      <th>0</th>\n",
              "      <td>1</td>\n",
              "      <td>1</td>\n",
              "      <td>0.0</td>\n",
              "      <td>0</td>\n",
              "      <td>0.0</td>\n",
              "      <td>0</td>\n",
              "      <td>0</td>\n",
              "      <td>0</td>\n",
              "      <td>0</td>\n",
              "      <td>0</td>\n",
              "      <td>...</td>\n",
              "      <td>0</td>\n",
              "      <td>0</td>\n",
              "      <td>0</td>\n",
              "      <td>0</td>\n",
              "      <td>0</td>\n",
              "      <td>0</td>\n",
              "      <td>0</td>\n",
              "      <td>0</td>\n",
              "      <td>0</td>\n",
              "      <td>0</td>\n",
              "    </tr>\n",
              "    <tr>\n",
              "      <th>1</th>\n",
              "      <td>1</td>\n",
              "      <td>1</td>\n",
              "      <td>5.0</td>\n",
              "      <td>674</td>\n",
              "      <td>2.5</td>\n",
              "      <td>0</td>\n",
              "      <td>0</td>\n",
              "      <td>0</td>\n",
              "      <td>0</td>\n",
              "      <td>0</td>\n",
              "      <td>...</td>\n",
              "      <td>0</td>\n",
              "      <td>0</td>\n",
              "      <td>0</td>\n",
              "      <td>0</td>\n",
              "      <td>0</td>\n",
              "      <td>0</td>\n",
              "      <td>0</td>\n",
              "      <td>0</td>\n",
              "      <td>0</td>\n",
              "      <td>0</td>\n",
              "    </tr>\n",
              "    <tr>\n",
              "      <th>2</th>\n",
              "      <td>1</td>\n",
              "      <td>1</td>\n",
              "      <td>2.0</td>\n",
              "      <td>1532</td>\n",
              "      <td>2.0</td>\n",
              "      <td>0</td>\n",
              "      <td>0</td>\n",
              "      <td>0</td>\n",
              "      <td>0</td>\n",
              "      <td>0</td>\n",
              "      <td>...</td>\n",
              "      <td>0</td>\n",
              "      <td>0</td>\n",
              "      <td>0</td>\n",
              "      <td>0</td>\n",
              "      <td>0</td>\n",
              "      <td>0</td>\n",
              "      <td>0</td>\n",
              "      <td>0</td>\n",
              "      <td>0</td>\n",
              "      <td>0</td>\n",
              "    </tr>\n",
              "    <tr>\n",
              "      <th>3</th>\n",
              "      <td>1</td>\n",
              "      <td>1</td>\n",
              "      <td>1.0</td>\n",
              "      <td>305</td>\n",
              "      <td>1.0</td>\n",
              "      <td>0</td>\n",
              "      <td>0</td>\n",
              "      <td>0</td>\n",
              "      <td>0</td>\n",
              "      <td>0</td>\n",
              "      <td>...</td>\n",
              "      <td>0</td>\n",
              "      <td>0</td>\n",
              "      <td>0</td>\n",
              "      <td>0</td>\n",
              "      <td>0</td>\n",
              "      <td>0</td>\n",
              "      <td>0</td>\n",
              "      <td>0</td>\n",
              "      <td>0</td>\n",
              "      <td>0</td>\n",
              "    </tr>\n",
              "    <tr>\n",
              "      <th>4</th>\n",
              "      <td>1</td>\n",
              "      <td>1</td>\n",
              "      <td>2.0</td>\n",
              "      <td>1428</td>\n",
              "      <td>1.0</td>\n",
              "      <td>0</td>\n",
              "      <td>0</td>\n",
              "      <td>0</td>\n",
              "      <td>0</td>\n",
              "      <td>0</td>\n",
              "      <td>...</td>\n",
              "      <td>0</td>\n",
              "      <td>0</td>\n",
              "      <td>0</td>\n",
              "      <td>0</td>\n",
              "      <td>0</td>\n",
              "      <td>0</td>\n",
              "      <td>0</td>\n",
              "      <td>0</td>\n",
              "      <td>0</td>\n",
              "      <td>0</td>\n",
              "    </tr>\n",
              "  </tbody>\n",
              "</table>\n",
              "<p>5 rows × 69 columns</p>\n",
              "</div>\n",
              "      <button class=\"colab-df-convert\" onclick=\"convertToInteractive('df-36f162d2-ce15-4943-bdc1-4b17af536ae3')\"\n",
              "              title=\"Convert this dataframe to an interactive table.\"\n",
              "              style=\"display:none;\">\n",
              "        \n",
              "  <svg xmlns=\"http://www.w3.org/2000/svg\" height=\"24px\"viewBox=\"0 0 24 24\"\n",
              "       width=\"24px\">\n",
              "    <path d=\"M0 0h24v24H0V0z\" fill=\"none\"/>\n",
              "    <path d=\"M18.56 5.44l.94 2.06.94-2.06 2.06-.94-2.06-.94-.94-2.06-.94 2.06-2.06.94zm-11 1L8.5 8.5l.94-2.06 2.06-.94-2.06-.94L8.5 2.5l-.94 2.06-2.06.94zm10 10l.94 2.06.94-2.06 2.06-.94-2.06-.94-.94-2.06-.94 2.06-2.06.94z\"/><path d=\"M17.41 7.96l-1.37-1.37c-.4-.4-.92-.59-1.43-.59-.52 0-1.04.2-1.43.59L10.3 9.45l-7.72 7.72c-.78.78-.78 2.05 0 2.83L4 21.41c.39.39.9.59 1.41.59.51 0 1.02-.2 1.41-.59l7.78-7.78 2.81-2.81c.8-.78.8-2.07 0-2.86zM5.41 20L4 18.59l7.72-7.72 1.47 1.35L5.41 20z\"/>\n",
              "  </svg>\n",
              "      </button>\n",
              "      \n",
              "  <style>\n",
              "    .colab-df-container {\n",
              "      display:flex;\n",
              "      flex-wrap:wrap;\n",
              "      gap: 12px;\n",
              "    }\n",
              "\n",
              "    .colab-df-convert {\n",
              "      background-color: #E8F0FE;\n",
              "      border: none;\n",
              "      border-radius: 50%;\n",
              "      cursor: pointer;\n",
              "      display: none;\n",
              "      fill: #1967D2;\n",
              "      height: 32px;\n",
              "      padding: 0 0 0 0;\n",
              "      width: 32px;\n",
              "    }\n",
              "\n",
              "    .colab-df-convert:hover {\n",
              "      background-color: #E2EBFA;\n",
              "      box-shadow: 0px 1px 2px rgba(60, 64, 67, 0.3), 0px 1px 3px 1px rgba(60, 64, 67, 0.15);\n",
              "      fill: #174EA6;\n",
              "    }\n",
              "\n",
              "    [theme=dark] .colab-df-convert {\n",
              "      background-color: #3B4455;\n",
              "      fill: #D2E3FC;\n",
              "    }\n",
              "\n",
              "    [theme=dark] .colab-df-convert:hover {\n",
              "      background-color: #434B5C;\n",
              "      box-shadow: 0px 1px 3px 1px rgba(0, 0, 0, 0.15);\n",
              "      filter: drop-shadow(0px 1px 2px rgba(0, 0, 0, 0.3));\n",
              "      fill: #FFFFFF;\n",
              "    }\n",
              "  </style>\n",
              "\n",
              "      <script>\n",
              "        const buttonEl =\n",
              "          document.querySelector('#df-36f162d2-ce15-4943-bdc1-4b17af536ae3 button.colab-df-convert');\n",
              "        buttonEl.style.display =\n",
              "          google.colab.kernel.accessAllowed ? 'block' : 'none';\n",
              "\n",
              "        async function convertToInteractive(key) {\n",
              "          const element = document.querySelector('#df-36f162d2-ce15-4943-bdc1-4b17af536ae3');\n",
              "          const dataTable =\n",
              "            await google.colab.kernel.invokeFunction('convertToInteractive',\n",
              "                                                     [key], {});\n",
              "          if (!dataTable) return;\n",
              "\n",
              "          const docLinkHtml = 'Like what you see? Visit the ' +\n",
              "            '<a target=\"_blank\" href=https://colab.research.google.com/notebooks/data_table.ipynb>data table notebook</a>'\n",
              "            + ' to learn more about interactive tables.';\n",
              "          element.innerHTML = '';\n",
              "          dataTable['output_type'] = 'display_data';\n",
              "          await google.colab.output.renderOutput(dataTable, element);\n",
              "          const docLink = document.createElement('div');\n",
              "          docLink.innerHTML = docLinkHtml;\n",
              "          element.appendChild(docLink);\n",
              "        }\n",
              "      </script>\n",
              "    </div>\n",
              "  </div>\n",
              "  "
            ]
          },
          "metadata": {},
          "execution_count": 55
        }
      ]
    },
    {
      "cell_type": "code",
      "source": [
        "# Putting response variable to y\n",
        "Y = input_load['Converted']\n",
        "\n",
        "Y.head()"
      ],
      "metadata": {
        "colab": {
          "base_uri": "https://localhost:8080/"
        },
        "id": "gX5YLjGkS2dx",
        "outputId": "9203c80e-6da1-43bc-b323-9ace77d6bb20"
      },
      "execution_count": 56,
      "outputs": [
        {
          "output_type": "execute_result",
          "data": {
            "text/plain": [
              "0    0\n",
              "1    0\n",
              "2    1\n",
              "3    0\n",
              "4    1\n",
              "Name: Converted, dtype: int64"
            ]
          },
          "metadata": {},
          "execution_count": 56
        }
      ]
    },
    {
      "cell_type": "code",
      "source": [
        "# Splitting the data into train and test\n",
        "X_train, X_test, Y_train, Y_test = train_test_split(X, Y, train_size=0.7, test_size=0.3, random_state=100)"
      ],
      "metadata": {
        "id": "8q0MfoRUS2gi"
      },
      "execution_count": 57,
      "outputs": []
    },
    {
      "cell_type": "code",
      "source": [
        "X_train.info()"
      ],
      "metadata": {
        "id": "8t5qSqclS2jZ",
        "colab": {
          "base_uri": "https://localhost:8080/"
        },
        "outputId": "7c7c8f1f-a2a4-4b01-9319-140174d943ec"
      },
      "execution_count": 58,
      "outputs": [
        {
          "output_type": "stream",
          "name": "stdout",
          "text": [
            "<class 'pandas.core.frame.DataFrame'>\n",
            "Int64Index: 5271 entries, 1171 to 6850\n",
            "Data columns (total 69 columns):\n",
            " #   Column                                  Non-Null Count  Dtype  \n",
            "---  ------                                  --------------  -----  \n",
            " 0   Do Not Email                            5271 non-null   int64  \n",
            " 1   Do Not Call                             5271 non-null   int64  \n",
            " 2   TotalVisits                             5271 non-null   float64\n",
            " 3   Total Time Spent on Website             5271 non-null   int64  \n",
            " 4   Page Views Per Visit                    5271 non-null   float64\n",
            " 5   Search                                  5271 non-null   int64  \n",
            " 6   Magazine                                5271 non-null   int64  \n",
            " 7   X Education Forums                      5271 non-null   int64  \n",
            " 8   Newspaper                               5271 non-null   int64  \n",
            " 9   Digital Advertisement                   5271 non-null   int64  \n",
            " 10  Through Recommendations                 5271 non-null   int64  \n",
            " 11  A free copy of Mastering The Interview  5271 non-null   int64  \n",
            " 12  Lead Source_Direct Traffic              5271 non-null   uint8  \n",
            " 13  Lead Source_Facebook                    5271 non-null   uint8  \n",
            " 14  Lead Source_Google                      5271 non-null   uint8  \n",
            " 15  Lead Source_Live Chat                   5271 non-null   uint8  \n",
            " 16  Lead Source_NC_EDM                      5271 non-null   uint8  \n",
            " 17  Lead Source_Olark Chat                  5271 non-null   uint8  \n",
            " 18  Lead Source_Organic Search              5271 non-null   uint8  \n",
            " 19  Lead Source_Pay per Click Ads           5271 non-null   uint8  \n",
            " 20  Lead Source_Press_Release               5271 non-null   uint8  \n",
            " 21  Lead Source_Reference                   5271 non-null   uint8  \n",
            " 22  Lead Source_Referral Sites              5271 non-null   uint8  \n",
            " 23  Lead Source_Social Media                5271 non-null   uint8  \n",
            " 24  Lead Source_WeLearn                     5271 non-null   uint8  \n",
            " 25  Lead Source_Welingak Website            5271 non-null   uint8  \n",
            " 26  Lead Source_bing                        5271 non-null   uint8  \n",
            " 27  Lead Source_blog                        5271 non-null   uint8  \n",
            " 28  Lead Source_google                      5271 non-null   uint8  \n",
            " 29  Lead Source_testone                     5271 non-null   uint8  \n",
            " 30  Lead Source_welearnblog_Home            5271 non-null   uint8  \n",
            " 31  Lead Source_youtubechannel              5271 non-null   uint8  \n",
            " 32  Country_Australia                       5271 non-null   uint8  \n",
            " 33  Country_Bahrain                         5271 non-null   uint8  \n",
            " 34  Country_Bangladesh                      5271 non-null   uint8  \n",
            " 35  Country_Belgium                         5271 non-null   uint8  \n",
            " 36  Country_Canada                          5271 non-null   uint8  \n",
            " 37  Country_China                           5271 non-null   uint8  \n",
            " 38  Country_Denmark                         5271 non-null   uint8  \n",
            " 39  Country_France                          5271 non-null   uint8  \n",
            " 40  Country_Germany                         5271 non-null   uint8  \n",
            " 41  Country_Ghana                           5271 non-null   uint8  \n",
            " 42  Country_Hong Kong                       5271 non-null   uint8  \n",
            " 43  Country_India                           5271 non-null   uint8  \n",
            " 44  Country_Indonesia                       5271 non-null   uint8  \n",
            " 45  Country_Italy                           5271 non-null   uint8  \n",
            " 46  Country_Kenya                           5271 non-null   uint8  \n",
            " 47  Country_Kuwait                          5271 non-null   uint8  \n",
            " 48  Country_Liberia                         5271 non-null   uint8  \n",
            " 49  Country_Malaysia                        5271 non-null   uint8  \n",
            " 50  Country_Netherlands                     5271 non-null   uint8  \n",
            " 51  Country_Nigeria                         5271 non-null   uint8  \n",
            " 52  Country_Oman                            5271 non-null   uint8  \n",
            " 53  Country_Philippines                     5271 non-null   uint8  \n",
            " 54  Country_Qatar                           5271 non-null   uint8  \n",
            " 55  Country_Russia                          5271 non-null   uint8  \n",
            " 56  Country_Saudi Arabia                    5271 non-null   uint8  \n",
            " 57  Country_Singapore                       5271 non-null   uint8  \n",
            " 58  Country_South Africa                    5271 non-null   uint8  \n",
            " 59  Country_Sri Lanka                       5271 non-null   uint8  \n",
            " 60  Country_Sweden                          5271 non-null   uint8  \n",
            " 61  Country_Switzerland                     5271 non-null   uint8  \n",
            " 62  Country_Tanzania                        5271 non-null   uint8  \n",
            " 63  Country_Uganda                          5271 non-null   uint8  \n",
            " 64  Country_United Arab Emirates            5271 non-null   uint8  \n",
            " 65  Country_United Kingdom                  5271 non-null   uint8  \n",
            " 66  Country_United States                   5271 non-null   uint8  \n",
            " 67  Country_Vietnam                         5271 non-null   uint8  \n",
            " 68  Country_unknown                         5271 non-null   uint8  \n",
            "dtypes: float64(2), int64(10), uint8(57)\n",
            "memory usage: 828.7 KB\n"
          ]
        }
      ]
    },
    {
      "cell_type": "markdown",
      "source": [
        "**Step 5: Scaling**"
      ],
      "metadata": {
        "id": "9CkQjVlF_qSw"
      }
    },
    {
      "cell_type": "code",
      "source": [
        "from sklearn.preprocessing import StandardScaler"
      ],
      "metadata": {
        "id": "a0N4Koy1juP4"
      },
      "execution_count": 59,
      "outputs": []
    },
    {
      "cell_type": "code",
      "source": [
        "scaler = StandardScaler()"
      ],
      "metadata": {
        "id": "lUWshfRejuSf"
      },
      "execution_count": 60,
      "outputs": []
    },
    {
      "cell_type": "code",
      "source": [
        "X_train[['TotalVisits', 'Total Time Spent on Website', 'Page Views Per Visit']] = scaler.fit_transform(X_train[['TotalVisits', 'Total Time Spent on Website', 'Page Views Per Visit']])"
      ],
      "metadata": {
        "id": "5gjfw3F7juY5"
      },
      "execution_count": 61,
      "outputs": []
    },
    {
      "cell_type": "code",
      "source": [
        "X_train"
      ],
      "metadata": {
        "colab": {
          "base_uri": "https://localhost:8080/",
          "height": 540
        },
        "id": "SpPHr2e_juba",
        "outputId": "fd4acf10-a5f4-4082-e4d1-a1cfa7c000fc"
      },
      "execution_count": 62,
      "outputs": [
        {
          "output_type": "execute_result",
          "data": {
            "text/plain": [
              "      Do Not Email  Do Not Call  TotalVisits  Total Time Spent on Website  \\\n",
              "1171             1            1     0.150695                     1.705432   \n",
              "4394             1            1     0.732324                    -0.462745   \n",
              "3600             1            1     0.344571                    -0.938730   \n",
              "5324             1            1    -0.237058                    -0.802993   \n",
              "2367             1            1     3.058843                     1.242116   \n",
              "...            ...          ...          ...                          ...   \n",
              "84               1            1    -0.237058                     0.963402   \n",
              "4702             1            1    -0.237058                     0.699167   \n",
              "7254             1            1    -0.430935                    -0.605721   \n",
              "8531             1            1    -0.430935                    -0.650967   \n",
              "6850             1            1     0.926201                    -0.115257   \n",
              "\n",
              "      Page Views Per Visit  Search  Magazine  X Education Forums  Newspaper  \\\n",
              "1171              1.072972       0         0                   0          0   \n",
              "4394              2.604670       0         0                   0          0   \n",
              "3600             -0.867179       0         0                   0          0   \n",
              "5324              0.051840       0         0                   0          0   \n",
              "2367             -0.346401       0         0                   0          0   \n",
              "...                    ...     ...       ...                 ...        ...   \n",
              "84                0.051840       0         0                   0          0   \n",
              "4702              0.051840       0         0                   0          0   \n",
              "7254             -0.458726       0         0                   0          0   \n",
              "8531             -0.458726       0         0                   0          0   \n",
              "6850              3.115236       0         0                   0          0   \n",
              "\n",
              "      Digital Advertisement  ...  Country_Sri Lanka  Country_Sweden  \\\n",
              "1171                      0  ...                  0               0   \n",
              "4394                      0  ...                  0               0   \n",
              "3600                      0  ...                  0               0   \n",
              "5324                      0  ...                  0               0   \n",
              "2367                      0  ...                  0               0   \n",
              "...                     ...  ...                ...             ...   \n",
              "84                        0  ...                  0               0   \n",
              "4702                      0  ...                  0               0   \n",
              "7254                      0  ...                  0               0   \n",
              "8531                      0  ...                  0               0   \n",
              "6850                      0  ...                  0               0   \n",
              "\n",
              "      Country_Switzerland  Country_Tanzania  Country_Uganda  \\\n",
              "1171                    0                 0               0   \n",
              "4394                    0                 0               0   \n",
              "3600                    0                 0               0   \n",
              "5324                    0                 0               0   \n",
              "2367                    0                 0               0   \n",
              "...                   ...               ...             ...   \n",
              "84                      0                 0               0   \n",
              "4702                    0                 0               0   \n",
              "7254                    0                 0               0   \n",
              "8531                    0                 0               0   \n",
              "6850                    0                 0               0   \n",
              "\n",
              "      Country_United Arab Emirates  Country_United Kingdom  \\\n",
              "1171                             0                       0   \n",
              "4394                             0                       0   \n",
              "3600                             0                       0   \n",
              "5324                             0                       0   \n",
              "2367                             0                       0   \n",
              "...                            ...                     ...   \n",
              "84                               0                       0   \n",
              "4702                             0                       0   \n",
              "7254                             0                       0   \n",
              "8531                             0                       0   \n",
              "6850                             0                       0   \n",
              "\n",
              "      Country_United States  Country_Vietnam  Country_unknown  \n",
              "1171                      0                0                0  \n",
              "4394                      0                0                0  \n",
              "3600                      0                0                0  \n",
              "5324                      0                0                0  \n",
              "2367                      0                0                0  \n",
              "...                     ...              ...              ...  \n",
              "84                        0                0                0  \n",
              "4702                      0                0                0  \n",
              "7254                      0                0                0  \n",
              "8531                      0                0                0  \n",
              "6850                      0                0                0  \n",
              "\n",
              "[5271 rows x 69 columns]"
            ],
            "text/html": [
              "\n",
              "  <div id=\"df-ceb386b4-a480-400d-b6a5-e115e00070c7\">\n",
              "    <div class=\"colab-df-container\">\n",
              "      <div>\n",
              "<style scoped>\n",
              "    .dataframe tbody tr th:only-of-type {\n",
              "        vertical-align: middle;\n",
              "    }\n",
              "\n",
              "    .dataframe tbody tr th {\n",
              "        vertical-align: top;\n",
              "    }\n",
              "\n",
              "    .dataframe thead th {\n",
              "        text-align: right;\n",
              "    }\n",
              "</style>\n",
              "<table border=\"1\" class=\"dataframe\">\n",
              "  <thead>\n",
              "    <tr style=\"text-align: right;\">\n",
              "      <th></th>\n",
              "      <th>Do Not Email</th>\n",
              "      <th>Do Not Call</th>\n",
              "      <th>TotalVisits</th>\n",
              "      <th>Total Time Spent on Website</th>\n",
              "      <th>Page Views Per Visit</th>\n",
              "      <th>Search</th>\n",
              "      <th>Magazine</th>\n",
              "      <th>X Education Forums</th>\n",
              "      <th>Newspaper</th>\n",
              "      <th>Digital Advertisement</th>\n",
              "      <th>...</th>\n",
              "      <th>Country_Sri Lanka</th>\n",
              "      <th>Country_Sweden</th>\n",
              "      <th>Country_Switzerland</th>\n",
              "      <th>Country_Tanzania</th>\n",
              "      <th>Country_Uganda</th>\n",
              "      <th>Country_United Arab Emirates</th>\n",
              "      <th>Country_United Kingdom</th>\n",
              "      <th>Country_United States</th>\n",
              "      <th>Country_Vietnam</th>\n",
              "      <th>Country_unknown</th>\n",
              "    </tr>\n",
              "  </thead>\n",
              "  <tbody>\n",
              "    <tr>\n",
              "      <th>1171</th>\n",
              "      <td>1</td>\n",
              "      <td>1</td>\n",
              "      <td>0.150695</td>\n",
              "      <td>1.705432</td>\n",
              "      <td>1.072972</td>\n",
              "      <td>0</td>\n",
              "      <td>0</td>\n",
              "      <td>0</td>\n",
              "      <td>0</td>\n",
              "      <td>0</td>\n",
              "      <td>...</td>\n",
              "      <td>0</td>\n",
              "      <td>0</td>\n",
              "      <td>0</td>\n",
              "      <td>0</td>\n",
              "      <td>0</td>\n",
              "      <td>0</td>\n",
              "      <td>0</td>\n",
              "      <td>0</td>\n",
              "      <td>0</td>\n",
              "      <td>0</td>\n",
              "    </tr>\n",
              "    <tr>\n",
              "      <th>4394</th>\n",
              "      <td>1</td>\n",
              "      <td>1</td>\n",
              "      <td>0.732324</td>\n",
              "      <td>-0.462745</td>\n",
              "      <td>2.604670</td>\n",
              "      <td>0</td>\n",
              "      <td>0</td>\n",
              "      <td>0</td>\n",
              "      <td>0</td>\n",
              "      <td>0</td>\n",
              "      <td>...</td>\n",
              "      <td>0</td>\n",
              "      <td>0</td>\n",
              "      <td>0</td>\n",
              "      <td>0</td>\n",
              "      <td>0</td>\n",
              "      <td>0</td>\n",
              "      <td>0</td>\n",
              "      <td>0</td>\n",
              "      <td>0</td>\n",
              "      <td>0</td>\n",
              "    </tr>\n",
              "    <tr>\n",
              "      <th>3600</th>\n",
              "      <td>1</td>\n",
              "      <td>1</td>\n",
              "      <td>0.344571</td>\n",
              "      <td>-0.938730</td>\n",
              "      <td>-0.867179</td>\n",
              "      <td>0</td>\n",
              "      <td>0</td>\n",
              "      <td>0</td>\n",
              "      <td>0</td>\n",
              "      <td>0</td>\n",
              "      <td>...</td>\n",
              "      <td>0</td>\n",
              "      <td>0</td>\n",
              "      <td>0</td>\n",
              "      <td>0</td>\n",
              "      <td>0</td>\n",
              "      <td>0</td>\n",
              "      <td>0</td>\n",
              "      <td>0</td>\n",
              "      <td>0</td>\n",
              "      <td>0</td>\n",
              "    </tr>\n",
              "    <tr>\n",
              "      <th>5324</th>\n",
              "      <td>1</td>\n",
              "      <td>1</td>\n",
              "      <td>-0.237058</td>\n",
              "      <td>-0.802993</td>\n",
              "      <td>0.051840</td>\n",
              "      <td>0</td>\n",
              "      <td>0</td>\n",
              "      <td>0</td>\n",
              "      <td>0</td>\n",
              "      <td>0</td>\n",
              "      <td>...</td>\n",
              "      <td>0</td>\n",
              "      <td>0</td>\n",
              "      <td>0</td>\n",
              "      <td>0</td>\n",
              "      <td>0</td>\n",
              "      <td>0</td>\n",
              "      <td>0</td>\n",
              "      <td>0</td>\n",
              "      <td>0</td>\n",
              "      <td>0</td>\n",
              "    </tr>\n",
              "    <tr>\n",
              "      <th>2367</th>\n",
              "      <td>1</td>\n",
              "      <td>1</td>\n",
              "      <td>3.058843</td>\n",
              "      <td>1.242116</td>\n",
              "      <td>-0.346401</td>\n",
              "      <td>0</td>\n",
              "      <td>0</td>\n",
              "      <td>0</td>\n",
              "      <td>0</td>\n",
              "      <td>0</td>\n",
              "      <td>...</td>\n",
              "      <td>0</td>\n",
              "      <td>0</td>\n",
              "      <td>0</td>\n",
              "      <td>0</td>\n",
              "      <td>0</td>\n",
              "      <td>0</td>\n",
              "      <td>0</td>\n",
              "      <td>0</td>\n",
              "      <td>0</td>\n",
              "      <td>0</td>\n",
              "    </tr>\n",
              "    <tr>\n",
              "      <th>...</th>\n",
              "      <td>...</td>\n",
              "      <td>...</td>\n",
              "      <td>...</td>\n",
              "      <td>...</td>\n",
              "      <td>...</td>\n",
              "      <td>...</td>\n",
              "      <td>...</td>\n",
              "      <td>...</td>\n",
              "      <td>...</td>\n",
              "      <td>...</td>\n",
              "      <td>...</td>\n",
              "      <td>...</td>\n",
              "      <td>...</td>\n",
              "      <td>...</td>\n",
              "      <td>...</td>\n",
              "      <td>...</td>\n",
              "      <td>...</td>\n",
              "      <td>...</td>\n",
              "      <td>...</td>\n",
              "      <td>...</td>\n",
              "      <td>...</td>\n",
              "    </tr>\n",
              "    <tr>\n",
              "      <th>84</th>\n",
              "      <td>1</td>\n",
              "      <td>1</td>\n",
              "      <td>-0.237058</td>\n",
              "      <td>0.963402</td>\n",
              "      <td>0.051840</td>\n",
              "      <td>0</td>\n",
              "      <td>0</td>\n",
              "      <td>0</td>\n",
              "      <td>0</td>\n",
              "      <td>0</td>\n",
              "      <td>...</td>\n",
              "      <td>0</td>\n",
              "      <td>0</td>\n",
              "      <td>0</td>\n",
              "      <td>0</td>\n",
              "      <td>0</td>\n",
              "      <td>0</td>\n",
              "      <td>0</td>\n",
              "      <td>0</td>\n",
              "      <td>0</td>\n",
              "      <td>0</td>\n",
              "    </tr>\n",
              "    <tr>\n",
              "      <th>4702</th>\n",
              "      <td>1</td>\n",
              "      <td>1</td>\n",
              "      <td>-0.237058</td>\n",
              "      <td>0.699167</td>\n",
              "      <td>0.051840</td>\n",
              "      <td>0</td>\n",
              "      <td>0</td>\n",
              "      <td>0</td>\n",
              "      <td>0</td>\n",
              "      <td>0</td>\n",
              "      <td>...</td>\n",
              "      <td>0</td>\n",
              "      <td>0</td>\n",
              "      <td>0</td>\n",
              "      <td>0</td>\n",
              "      <td>0</td>\n",
              "      <td>0</td>\n",
              "      <td>0</td>\n",
              "      <td>0</td>\n",
              "      <td>0</td>\n",
              "      <td>0</td>\n",
              "    </tr>\n",
              "    <tr>\n",
              "      <th>7254</th>\n",
              "      <td>1</td>\n",
              "      <td>1</td>\n",
              "      <td>-0.430935</td>\n",
              "      <td>-0.605721</td>\n",
              "      <td>-0.458726</td>\n",
              "      <td>0</td>\n",
              "      <td>0</td>\n",
              "      <td>0</td>\n",
              "      <td>0</td>\n",
              "      <td>0</td>\n",
              "      <td>...</td>\n",
              "      <td>0</td>\n",
              "      <td>0</td>\n",
              "      <td>0</td>\n",
              "      <td>0</td>\n",
              "      <td>0</td>\n",
              "      <td>0</td>\n",
              "      <td>0</td>\n",
              "      <td>0</td>\n",
              "      <td>0</td>\n",
              "      <td>0</td>\n",
              "    </tr>\n",
              "    <tr>\n",
              "      <th>8531</th>\n",
              "      <td>1</td>\n",
              "      <td>1</td>\n",
              "      <td>-0.430935</td>\n",
              "      <td>-0.650967</td>\n",
              "      <td>-0.458726</td>\n",
              "      <td>0</td>\n",
              "      <td>0</td>\n",
              "      <td>0</td>\n",
              "      <td>0</td>\n",
              "      <td>0</td>\n",
              "      <td>...</td>\n",
              "      <td>0</td>\n",
              "      <td>0</td>\n",
              "      <td>0</td>\n",
              "      <td>0</td>\n",
              "      <td>0</td>\n",
              "      <td>0</td>\n",
              "      <td>0</td>\n",
              "      <td>0</td>\n",
              "      <td>0</td>\n",
              "      <td>0</td>\n",
              "    </tr>\n",
              "    <tr>\n",
              "      <th>6850</th>\n",
              "      <td>1</td>\n",
              "      <td>1</td>\n",
              "      <td>0.926201</td>\n",
              "      <td>-0.115257</td>\n",
              "      <td>3.115236</td>\n",
              "      <td>0</td>\n",
              "      <td>0</td>\n",
              "      <td>0</td>\n",
              "      <td>0</td>\n",
              "      <td>0</td>\n",
              "      <td>...</td>\n",
              "      <td>0</td>\n",
              "      <td>0</td>\n",
              "      <td>0</td>\n",
              "      <td>0</td>\n",
              "      <td>0</td>\n",
              "      <td>0</td>\n",
              "      <td>0</td>\n",
              "      <td>0</td>\n",
              "      <td>0</td>\n",
              "      <td>0</td>\n",
              "    </tr>\n",
              "  </tbody>\n",
              "</table>\n",
              "<p>5271 rows × 69 columns</p>\n",
              "</div>\n",
              "      <button class=\"colab-df-convert\" onclick=\"convertToInteractive('df-ceb386b4-a480-400d-b6a5-e115e00070c7')\"\n",
              "              title=\"Convert this dataframe to an interactive table.\"\n",
              "              style=\"display:none;\">\n",
              "        \n",
              "  <svg xmlns=\"http://www.w3.org/2000/svg\" height=\"24px\"viewBox=\"0 0 24 24\"\n",
              "       width=\"24px\">\n",
              "    <path d=\"M0 0h24v24H0V0z\" fill=\"none\"/>\n",
              "    <path d=\"M18.56 5.44l.94 2.06.94-2.06 2.06-.94-2.06-.94-.94-2.06-.94 2.06-2.06.94zm-11 1L8.5 8.5l.94-2.06 2.06-.94-2.06-.94L8.5 2.5l-.94 2.06-2.06.94zm10 10l.94 2.06.94-2.06 2.06-.94-2.06-.94-.94-2.06-.94 2.06-2.06.94z\"/><path d=\"M17.41 7.96l-1.37-1.37c-.4-.4-.92-.59-1.43-.59-.52 0-1.04.2-1.43.59L10.3 9.45l-7.72 7.72c-.78.78-.78 2.05 0 2.83L4 21.41c.39.39.9.59 1.41.59.51 0 1.02-.2 1.41-.59l7.78-7.78 2.81-2.81c.8-.78.8-2.07 0-2.86zM5.41 20L4 18.59l7.72-7.72 1.47 1.35L5.41 20z\"/>\n",
              "  </svg>\n",
              "      </button>\n",
              "      \n",
              "  <style>\n",
              "    .colab-df-container {\n",
              "      display:flex;\n",
              "      flex-wrap:wrap;\n",
              "      gap: 12px;\n",
              "    }\n",
              "\n",
              "    .colab-df-convert {\n",
              "      background-color: #E8F0FE;\n",
              "      border: none;\n",
              "      border-radius: 50%;\n",
              "      cursor: pointer;\n",
              "      display: none;\n",
              "      fill: #1967D2;\n",
              "      height: 32px;\n",
              "      padding: 0 0 0 0;\n",
              "      width: 32px;\n",
              "    }\n",
              "\n",
              "    .colab-df-convert:hover {\n",
              "      background-color: #E2EBFA;\n",
              "      box-shadow: 0px 1px 2px rgba(60, 64, 67, 0.3), 0px 1px 3px 1px rgba(60, 64, 67, 0.15);\n",
              "      fill: #174EA6;\n",
              "    }\n",
              "\n",
              "    [theme=dark] .colab-df-convert {\n",
              "      background-color: #3B4455;\n",
              "      fill: #D2E3FC;\n",
              "    }\n",
              "\n",
              "    [theme=dark] .colab-df-convert:hover {\n",
              "      background-color: #434B5C;\n",
              "      box-shadow: 0px 1px 3px 1px rgba(0, 0, 0, 0.15);\n",
              "      filter: drop-shadow(0px 1px 2px rgba(0, 0, 0, 0.3));\n",
              "      fill: #FFFFFF;\n",
              "    }\n",
              "  </style>\n",
              "\n",
              "      <script>\n",
              "        const buttonEl =\n",
              "          document.querySelector('#df-ceb386b4-a480-400d-b6a5-e115e00070c7 button.colab-df-convert');\n",
              "        buttonEl.style.display =\n",
              "          google.colab.kernel.accessAllowed ? 'block' : 'none';\n",
              "\n",
              "        async function convertToInteractive(key) {\n",
              "          const element = document.querySelector('#df-ceb386b4-a480-400d-b6a5-e115e00070c7');\n",
              "          const dataTable =\n",
              "            await google.colab.kernel.invokeFunction('convertToInteractive',\n",
              "                                                     [key], {});\n",
              "          if (!dataTable) return;\n",
              "\n",
              "          const docLinkHtml = 'Like what you see? Visit the ' +\n",
              "            '<a target=\"_blank\" href=https://colab.research.google.com/notebooks/data_table.ipynb>data table notebook</a>'\n",
              "            + ' to learn more about interactive tables.';\n",
              "          element.innerHTML = '';\n",
              "          dataTable['output_type'] = 'display_data';\n",
              "          await google.colab.output.renderOutput(dataTable, element);\n",
              "          const docLink = document.createElement('div');\n",
              "          docLink.innerHTML = docLinkHtml;\n",
              "          element.appendChild(docLink);\n",
              "        }\n",
              "      </script>\n",
              "    </div>\n",
              "  </div>\n",
              "  "
            ]
          },
          "metadata": {},
          "execution_count": 62
        }
      ]
    },
    {
      "cell_type": "code",
      "source": [
        "X_train.info()"
      ],
      "metadata": {
        "id": "hHANnlipDco6",
        "colab": {
          "base_uri": "https://localhost:8080/"
        },
        "outputId": "10124db3-8773-4e59-ee49-4f689ad46597"
      },
      "execution_count": 63,
      "outputs": [
        {
          "output_type": "stream",
          "name": "stdout",
          "text": [
            "<class 'pandas.core.frame.DataFrame'>\n",
            "Int64Index: 5271 entries, 1171 to 6850\n",
            "Data columns (total 69 columns):\n",
            " #   Column                                  Non-Null Count  Dtype  \n",
            "---  ------                                  --------------  -----  \n",
            " 0   Do Not Email                            5271 non-null   int64  \n",
            " 1   Do Not Call                             5271 non-null   int64  \n",
            " 2   TotalVisits                             5271 non-null   float64\n",
            " 3   Total Time Spent on Website             5271 non-null   float64\n",
            " 4   Page Views Per Visit                    5271 non-null   float64\n",
            " 5   Search                                  5271 non-null   int64  \n",
            " 6   Magazine                                5271 non-null   int64  \n",
            " 7   X Education Forums                      5271 non-null   int64  \n",
            " 8   Newspaper                               5271 non-null   int64  \n",
            " 9   Digital Advertisement                   5271 non-null   int64  \n",
            " 10  Through Recommendations                 5271 non-null   int64  \n",
            " 11  A free copy of Mastering The Interview  5271 non-null   int64  \n",
            " 12  Lead Source_Direct Traffic              5271 non-null   uint8  \n",
            " 13  Lead Source_Facebook                    5271 non-null   uint8  \n",
            " 14  Lead Source_Google                      5271 non-null   uint8  \n",
            " 15  Lead Source_Live Chat                   5271 non-null   uint8  \n",
            " 16  Lead Source_NC_EDM                      5271 non-null   uint8  \n",
            " 17  Lead Source_Olark Chat                  5271 non-null   uint8  \n",
            " 18  Lead Source_Organic Search              5271 non-null   uint8  \n",
            " 19  Lead Source_Pay per Click Ads           5271 non-null   uint8  \n",
            " 20  Lead Source_Press_Release               5271 non-null   uint8  \n",
            " 21  Lead Source_Reference                   5271 non-null   uint8  \n",
            " 22  Lead Source_Referral Sites              5271 non-null   uint8  \n",
            " 23  Lead Source_Social Media                5271 non-null   uint8  \n",
            " 24  Lead Source_WeLearn                     5271 non-null   uint8  \n",
            " 25  Lead Source_Welingak Website            5271 non-null   uint8  \n",
            " 26  Lead Source_bing                        5271 non-null   uint8  \n",
            " 27  Lead Source_blog                        5271 non-null   uint8  \n",
            " 28  Lead Source_google                      5271 non-null   uint8  \n",
            " 29  Lead Source_testone                     5271 non-null   uint8  \n",
            " 30  Lead Source_welearnblog_Home            5271 non-null   uint8  \n",
            " 31  Lead Source_youtubechannel              5271 non-null   uint8  \n",
            " 32  Country_Australia                       5271 non-null   uint8  \n",
            " 33  Country_Bahrain                         5271 non-null   uint8  \n",
            " 34  Country_Bangladesh                      5271 non-null   uint8  \n",
            " 35  Country_Belgium                         5271 non-null   uint8  \n",
            " 36  Country_Canada                          5271 non-null   uint8  \n",
            " 37  Country_China                           5271 non-null   uint8  \n",
            " 38  Country_Denmark                         5271 non-null   uint8  \n",
            " 39  Country_France                          5271 non-null   uint8  \n",
            " 40  Country_Germany                         5271 non-null   uint8  \n",
            " 41  Country_Ghana                           5271 non-null   uint8  \n",
            " 42  Country_Hong Kong                       5271 non-null   uint8  \n",
            " 43  Country_India                           5271 non-null   uint8  \n",
            " 44  Country_Indonesia                       5271 non-null   uint8  \n",
            " 45  Country_Italy                           5271 non-null   uint8  \n",
            " 46  Country_Kenya                           5271 non-null   uint8  \n",
            " 47  Country_Kuwait                          5271 non-null   uint8  \n",
            " 48  Country_Liberia                         5271 non-null   uint8  \n",
            " 49  Country_Malaysia                        5271 non-null   uint8  \n",
            " 50  Country_Netherlands                     5271 non-null   uint8  \n",
            " 51  Country_Nigeria                         5271 non-null   uint8  \n",
            " 52  Country_Oman                            5271 non-null   uint8  \n",
            " 53  Country_Philippines                     5271 non-null   uint8  \n",
            " 54  Country_Qatar                           5271 non-null   uint8  \n",
            " 55  Country_Russia                          5271 non-null   uint8  \n",
            " 56  Country_Saudi Arabia                    5271 non-null   uint8  \n",
            " 57  Country_Singapore                       5271 non-null   uint8  \n",
            " 58  Country_South Africa                    5271 non-null   uint8  \n",
            " 59  Country_Sri Lanka                       5271 non-null   uint8  \n",
            " 60  Country_Sweden                          5271 non-null   uint8  \n",
            " 61  Country_Switzerland                     5271 non-null   uint8  \n",
            " 62  Country_Tanzania                        5271 non-null   uint8  \n",
            " 63  Country_Uganda                          5271 non-null   uint8  \n",
            " 64  Country_United Arab Emirates            5271 non-null   uint8  \n",
            " 65  Country_United Kingdom                  5271 non-null   uint8  \n",
            " 66  Country_United States                   5271 non-null   uint8  \n",
            " 67  Country_Vietnam                         5271 non-null   uint8  \n",
            " 68  Country_unknown                         5271 non-null   uint8  \n",
            "dtypes: float64(3), int64(9), uint8(57)\n",
            "memory usage: 828.7 KB\n"
          ]
        }
      ]
    },
    {
      "cell_type": "code",
      "source": [
        "X_train.shape"
      ],
      "metadata": {
        "colab": {
          "base_uri": "https://localhost:8080/"
        },
        "id": "TYR0-9_A1Ip2",
        "outputId": "b4b03d18-b8e5-4ae6-c917-8238e9d1eb17"
      },
      "execution_count": 64,
      "outputs": [
        {
          "output_type": "execute_result",
          "data": {
            "text/plain": [
              "(5271, 69)"
            ]
          },
          "metadata": {},
          "execution_count": 64
        }
      ]
    },
    {
      "cell_type": "markdown",
      "source": [
        "*Looking at Correlations*"
      ],
      "metadata": {
        "id": "TrvvmKEi2apT"
      }
    },
    {
      "cell_type": "code",
      "source": [
        "# Importing matplotlib and seaborn\n",
        "import matplotlib.pyplot as plt\n",
        "import seaborn as sns\n",
        "%matplotlib inline"
      ],
      "metadata": {
        "id": "w1hrb5Lc2cen"
      },
      "execution_count": 65,
      "outputs": []
    },
    {
      "cell_type": "code",
      "source": [
        "# Let's see the correlation matrix \n",
        "plt.figure(figsize = (40,25))        # Size of the figure\n",
        "sns.heatmap(round(input_load.corr(), 2),annot = True)\n",
        "plt.show()"
      ],
      "metadata": {
        "colab": {
          "base_uri": "https://localhost:8080/",
          "height": 934
        },
        "id": "fHiTFt1o2pr5",
        "outputId": "f78f2dce-420e-434d-cee8-04b3a5e0b128"
      },
      "execution_count": 66,
      "outputs": [
        {
          "output_type": "display_data",
          "data": {
            "text/plain": [
              "<Figure size 2880x1800 with 2 Axes>"
            ],
            "image/png": "[encoded data removed]"
          },
          "metadata": {
            "needs_background": "light"
          }
        }
      ]
    },
    {
      "cell_type": "markdown",
      "source": [
        "**Step 6: Model Building**"
      ],
      "metadata": {
        "id": "qmlQc6mdDolT"
      }
    },
    {
      "cell_type": "markdown",
      "source": [
        "**Step 6.1: Building First Model**"
      ],
      "metadata": {
        "id": "hjs6aMLEMY0f"
      }
    },
    {
      "cell_type": "code",
      "source": [
        "import statsmodels.api as sm"
      ],
      "metadata": {
        "id": "f3A0LbcMlSPp"
      },
      "execution_count": 67,
      "outputs": []
    },
    {
      "cell_type": "code",
      "source": [
        "# Logistic regression model\n",
        "logm_1 = sm.GLS(Y_train,(sm.add_constant(X_train)), family = sm.families.Binomial())"
      ],
      "metadata": {
        "id": "lHfvPCqrlSdv"
      },
      "execution_count": 68,
      "outputs": []
    },
    {
      "cell_type": "code",
      "source": [
        "logm_1.fit().summary()"
      ],
      "metadata": {
        "colab": {
          "base_uri": "https://localhost:8080/",
          "height": 1000
        },
        "id": "9Kj0qQDzpdoD",
        "outputId": "4b6a853e-6cf3-491a-b9d3-ddb28b4a078e"
      },
      "execution_count": 69,
      "outputs": [
        {
          "output_type": "execute_result",
          "data": {
            "text/plain": [
              "<class 'statsmodels.iolib.summary.Summary'>\n",
              "\"\"\"\n",
              "                            GLS Regression Results                            \n",
              "==============================================================================\n",
              "Dep. Variable:              Converted   R-squared:                       0.273\n",
              "Model:                            GLS   Adj. R-squared:                  0.264\n",
              "Method:                 Least Squares   F-statistic:                     31.55\n",
              "Date:                Tue, 18 Oct 2022   Prob (F-statistic):          4.23e-308\n",
              "Time:                        16:55:43   Log-Likelihood:                -2887.3\n",
              "No. Observations:                5271   AIC:                             5901.\n",
              "Df Residuals:                    5208   BIC:                             6315.\n",
              "Df Model:                          62                                         \n",
              "Covariance Type:            nonrobust                                         \n",
              "==========================================================================================================\n",
              "                                             coef    std err          t      P>|t|      [0.025      0.975]\n",
              "----------------------------------------------------------------------------------------------------------\n",
              "Do Not Email                               0.1934      0.021      9.125      0.000       0.152       0.235\n",
              "Do Not Call                                0.8340      0.472      1.769      0.077      -0.090       1.758\n",
              "TotalVisits                                0.0244      0.006      3.857      0.000       0.012       0.037\n",
              "Total Time Spent on Website                0.2081      0.006     34.931      0.000       0.196       0.220\n",
              "Page Views Per Visit                      -0.0027      0.007     -0.391      0.696      -0.016       0.011\n",
              "Search                                    -0.3004      0.164     -1.836      0.066      -0.621       0.020\n",
              "Magazine                                 -4.9e-15   3.01e-15     -1.631      0.103   -1.08e-14    9.91e-16\n",
              "X Education Forums                        -0.6571      0.555     -1.183      0.237      -1.746       0.432\n",
              "Newspaper                               7.461e-16    8.3e-16      0.899      0.369   -8.81e-16    2.37e-15\n",
              "Digital Advertisement                     -0.0430      0.244     -0.176      0.860      -0.521       0.435\n",
              "Through Recommendations                    0.4913      0.249      1.970      0.049       0.003       0.980\n",
              "A free copy of Mastering The Interview    -0.0039      0.016     -0.251      0.802      -0.034       0.027\n",
              "Lead Source_Direct Traffic                -0.4247      0.211     -2.012      0.044      -0.839      -0.011\n",
              "Lead Source_Facebook                      -0.3066      0.222     -1.379      0.168      -0.742       0.129\n",
              "Lead Source_Google                        -0.3925      0.211     -1.862      0.063      -0.806       0.021\n",
              "Lead Source_Live Chat                      0.4601      0.471      0.977      0.328      -0.463       1.383\n",
              "Lead Source_NC_EDM                         0.0787      0.471      0.167      0.867      -0.844       1.001\n",
              "Lead Source_Olark Chat                    -0.1338      0.212     -0.631      0.528      -0.550       0.282\n",
              "Lead Source_Organic Search                -0.3933      0.211     -1.861      0.063      -0.808       0.021\n",
              "Lead Source_Pay per Click Ads             -0.5970      0.471     -1.268      0.205      -1.520       0.326\n",
              "Lead Source_Press_Release                 -0.6759      0.366     -1.845      0.065      -1.394       0.042\n",
              "Lead Source_Reference                      0.2375      0.212      1.119      0.263      -0.179       0.654\n",
              "Lead Source_Referral Sites                -0.4998      0.215     -2.320      0.020      -0.922      -0.077\n",
              "Lead Source_Social Media                  -0.2546      0.365     -0.698      0.485      -0.970       0.460\n",
              "Lead Source_WeLearn                        0.0074      0.471      0.016      0.987      -0.915       0.930\n",
              "Lead Source_Welingak Website               0.3014      0.222      1.356      0.175      -0.134       0.737\n",
              "Lead Source_bing                          -0.6662      0.322     -2.071      0.038      -1.297      -0.036\n",
              "Lead Source_blog                          -0.8083      0.471     -1.717      0.086      -1.731       0.115\n",
              "Lead Source_google                        -0.6711      0.298     -2.253      0.024      -1.255      -0.087\n",
              "Lead Source_testone                       -0.6746      0.471     -1.433      0.152      -1.597       0.248\n",
              "Lead Source_welearnblog_Home              -0.6852      0.471     -1.456      0.146      -1.608       0.238\n",
              "Lead Source_youtubechannel                -0.3232      0.558     -0.580      0.562      -1.416       0.770\n",
              "Country_Australia                         -0.4043      0.440     -0.919      0.358      -1.267       0.458\n",
              "Country_Bahrain                           -0.0984      0.455     -0.216      0.829      -0.991       0.794\n",
              "Country_Bangladesh                        -0.1870      0.516     -0.362      0.717      -1.198       0.824\n",
              "Country_Belgium                           -0.4737      0.596     -0.795      0.427      -1.642       0.694\n",
              "Country_Canada                            -0.4670      0.516     -0.905      0.365      -1.479       0.545\n",
              "Country_China                             -0.5314      0.596     -0.892      0.372      -1.699       0.636\n",
              "Country_Denmark                            0.1470      0.596      0.247      0.805      -1.021       1.315\n",
              "Country_France                            -0.1487      0.455     -0.327      0.744      -1.041       0.743\n",
              "Country_Germany                           -0.2282      0.487     -0.469      0.639      -1.182       0.726\n",
              "Country_Ghana                             -0.3642      0.516     -0.706      0.480      -1.376       0.647\n",
              "Country_Hong Kong                         -0.0631      0.471     -0.134      0.893      -0.986       0.860\n",
              "Country_India                             -0.2441      0.421     -0.580      0.562      -1.070       0.582\n",
              "Country_Indonesia                         -0.4430      0.596     -0.743      0.457      -1.612       0.726\n",
              "Country_Italy                             -0.9908      0.596     -1.664      0.096      -2.158       0.177\n",
              "Country_Kenya                           2.402e-16   2.46e-16      0.976      0.329   -2.42e-16    7.23e-16\n",
              "Country_Kuwait                            -0.5784      0.486     -1.189      0.235      -1.532       0.375\n",
              "Country_Liberia                           -0.3456      0.596     -0.580      0.562      -1.514       0.823\n",
              "Country_Malaysia                          -0.3836      0.596     -0.644      0.520      -1.552       0.784\n",
              "Country_Netherlands                        0.0264      0.596      0.044      0.965      -1.143       1.195\n",
              "Country_Nigeria                           -0.5990      0.486     -1.231      0.218      -1.553       0.355\n",
              "Country_Oman                              -0.1580      0.462     -0.342      0.732      -1.063       0.747\n",
              "Country_Philippines                       -0.5419      0.596     -0.910      0.363      -1.710       0.626\n",
              "Country_Qatar                             -0.4825      0.450     -1.071      0.284      -1.365       0.400\n",
              "Country_Russia                            -0.3505      0.596     -0.588      0.557      -1.519       0.818\n",
              "Country_Saudi Arabia                      -0.4474      0.437     -1.023      0.306      -1.305       0.410\n",
              "Country_Singapore                         -0.1851      0.436     -0.424      0.671      -1.040       0.670\n",
              "Country_South Africa                      -0.4720      0.596     -0.792      0.428      -1.640       0.696\n",
              "Country_Sri Lanka                         -0.4214      0.597     -0.705      0.481      -1.593       0.750\n",
              "Country_Sweden                            -0.2178      0.486     -0.448      0.654      -1.171       0.736\n",
              "Country_Switzerland                     3.446e-16   2.93e-15      0.118      0.906   -5.39e-15    6.08e-15\n",
              "Country_Tanzania                        2.311e-15   2.55e-15      0.906      0.365   -2.69e-15    7.31e-15\n",
              "Country_Uganda                            -0.4413      0.516     -0.855      0.393      -1.453       0.570\n",
              "Country_United Arab Emirates              -0.2133      0.426     -0.500      0.617      -1.049       0.623\n",
              "Country_United Kingdom                    -0.2645      0.444     -0.596      0.551      -1.135       0.606\n",
              "Country_United States                     -0.2702      0.425     -0.635      0.525      -1.104       0.563\n",
              "Country_Vietnam                                 0          0        nan        nan           0           0\n",
              "Country_unknown                           -0.4262      0.471     -0.904      0.366      -1.350       0.498\n",
              "==============================================================================\n",
              "Omnibus:                      459.011   Durbin-Watson:                   1.977\n",
              "Prob(Omnibus):                  0.000   Jarque-Bera (JB):              193.886\n",
              "Skew:                           0.264   Prob(JB):                     7.91e-43\n",
              "Kurtosis:                       2.222   Cond. No.                     3.05e+18\n",
              "==============================================================================\n",
              "\n",
              "Notes:\n",
              "[1] Standard Errors assume that the covariance matrix of the errors is correctly specified.\n",
              "[2] The smallest eigenvalue is 1.84e-33. This might indicate that there are\n",
              "strong multicollinearity problems or that the design matrix is singular.\n",
              "\"\"\""
            ],
            "text/html": [
              "<table class=\"simpletable\">\n",
              "<caption>GLS Regression Results</caption>\n",
              "<tr>\n",
              "  <th>Dep. Variable:</th>        <td>Converted</td>    <th>  R-squared:         </th> <td>   0.273</td> \n",
              "</tr>\n",
              "<tr>\n",
              "  <th>Model:</th>                   <td>GLS</td>       <th>  Adj. R-squared:    </th> <td>   0.264</td> \n",
              "</tr>\n",
              "<tr>\n",
              "  <th>Method:</th>             <td>Least Squares</td>  <th>  F-statistic:       </th> <td>   31.55</td> \n",
              "</tr>\n",
              "<tr>\n",
              "  <th>Date:</th>             <td>Tue, 18 Oct 2022</td> <th>  Prob (F-statistic):</th> <td>4.23e-308</td>\n",
              "</tr>\n",
              "<tr>\n",
              "  <th>Time:</th>                 <td>16:55:43</td>     <th>  Log-Likelihood:    </th> <td> -2887.3</td> \n",
              "</tr>\n",
              "<tr>\n",
              "  <th>No. Observations:</th>      <td>  5271</td>      <th>  AIC:               </th> <td>   5901.</td> \n",
              "</tr>\n",
              "<tr>\n",
              "  <th>Df Residuals:</th>          <td>  5208</td>      <th>  BIC:               </th> <td>   6315.</td> \n",
              "</tr>\n",
              "<tr>\n",
              "  <th>Df Model:</th>              <td>    62</td>      <th>                     </th>     <td> </td>    \n",
              "</tr>\n",
              "<tr>\n",
              "  <th>Covariance Type:</th>      <td>nonrobust</td>    <th>                     </th>     <td> </td>    \n",
              "</tr>\n",
              "</table>\n",
              "<table class=\"simpletable\">\n",
              "<tr>\n",
              "                     <td></td>                       <th>coef</th>     <th>std err</th>      <th>t</th>      <th>P>|t|</th>  <th>[0.025</th>    <th>0.975]</th>  \n",
              "</tr>\n",
              "<tr>\n",
              "  <th>Do Not Email</th>                           <td>    0.1934</td> <td>    0.021</td> <td>    9.125</td> <td> 0.000</td> <td>    0.152</td> <td>    0.235</td>\n",
              "</tr>\n",
              "<tr>\n",
              "  <th>Do Not Call</th>                            <td>    0.8340</td> <td>    0.472</td> <td>    1.769</td> <td> 0.077</td> <td>   -0.090</td> <td>    1.758</td>\n",
              "</tr>\n",
              "<tr>\n",
              "  <th>TotalVisits</th>                            <td>    0.0244</td> <td>    0.006</td> <td>    3.857</td> <td> 0.000</td> <td>    0.012</td> <td>    0.037</td>\n",
              "</tr>\n",
              "<tr>\n",
              "  <th>Total Time Spent on Website</th>            <td>    0.2081</td> <td>    0.006</td> <td>   34.931</td> <td> 0.000</td> <td>    0.196</td> <td>    0.220</td>\n",
              "</tr>\n",
              "<tr>\n",
              "  <th>Page Views Per Visit</th>                   <td>   -0.0027</td> <td>    0.007</td> <td>   -0.391</td> <td> 0.696</td> <td>   -0.016</td> <td>    0.011</td>\n",
              "</tr>\n",
              "<tr>\n",
              "  <th>Search</th>                                 <td>   -0.3004</td> <td>    0.164</td> <td>   -1.836</td> <td> 0.066</td> <td>   -0.621</td> <td>    0.020</td>\n",
              "</tr>\n",
              "<tr>\n",
              "  <th>Magazine</th>                               <td>  -4.9e-15</td> <td> 3.01e-15</td> <td>   -1.631</td> <td> 0.103</td> <td>-1.08e-14</td> <td> 9.91e-16</td>\n",
              "</tr>\n",
              "<tr>\n",
              "  <th>X Education Forums</th>                     <td>   -0.6571</td> <td>    0.555</td> <td>   -1.183</td> <td> 0.237</td> <td>   -1.746</td> <td>    0.432</td>\n",
              "</tr>\n",
              "<tr>\n",
              "  <th>Newspaper</th>                              <td> 7.461e-16</td> <td>  8.3e-16</td> <td>    0.899</td> <td> 0.369</td> <td>-8.81e-16</td> <td> 2.37e-15</td>\n",
              "</tr>\n",
              "<tr>\n",
              "  <th>Digital Advertisement</th>                  <td>   -0.0430</td> <td>    0.244</td> <td>   -0.176</td> <td> 0.860</td> <td>   -0.521</td> <td>    0.435</td>\n",
              "</tr>\n",
              "<tr>\n",
              "  <th>Through Recommendations</th>                <td>    0.4913</td> <td>    0.249</td> <td>    1.970</td> <td> 0.049</td> <td>    0.003</td> <td>    0.980</td>\n",
              "</tr>\n",
              "<tr>\n",
              "  <th>A free copy of Mastering The Interview</th> <td>   -0.0039</td> <td>    0.016</td> <td>   -0.251</td> <td> 0.802</td> <td>   -0.034</td> <td>    0.027</td>\n",
              "</tr>\n",
              "<tr>\n",
              "  <th>Lead Source_Direct Traffic</th>             <td>   -0.4247</td> <td>    0.211</td> <td>   -2.012</td> <td> 0.044</td> <td>   -0.839</td> <td>   -0.011</td>\n",
              "</tr>\n",
              "<tr>\n",
              "  <th>Lead Source_Facebook</th>                   <td>   -0.3066</td> <td>    0.222</td> <td>   -1.379</td> <td> 0.168</td> <td>   -0.742</td> <td>    0.129</td>\n",
              "</tr>\n",
              "<tr>\n",
              "  <th>Lead Source_Google</th>                     <td>   -0.3925</td> <td>    0.211</td> <td>   -1.862</td> <td> 0.063</td> <td>   -0.806</td> <td>    0.021</td>\n",
              "</tr>\n",
              "<tr>\n",
              "  <th>Lead Source_Live Chat</th>                  <td>    0.4601</td> <td>    0.471</td> <td>    0.977</td> <td> 0.328</td> <td>   -0.463</td> <td>    1.383</td>\n",
              "</tr>\n",
              "<tr>\n",
              "  <th>Lead Source_NC_EDM</th>                     <td>    0.0787</td> <td>    0.471</td> <td>    0.167</td> <td> 0.867</td> <td>   -0.844</td> <td>    1.001</td>\n",
              "</tr>\n",
              "<tr>\n",
              "  <th>Lead Source_Olark Chat</th>                 <td>   -0.1338</td> <td>    0.212</td> <td>   -0.631</td> <td> 0.528</td> <td>   -0.550</td> <td>    0.282</td>\n",
              "</tr>\n",
              "<tr>\n",
              "  <th>Lead Source_Organic Search</th>             <td>   -0.3933</td> <td>    0.211</td> <td>   -1.861</td> <td> 0.063</td> <td>   -0.808</td> <td>    0.021</td>\n",
              "</tr>\n",
              "<tr>\n",
              "  <th>Lead Source_Pay per Click Ads</th>          <td>   -0.5970</td> <td>    0.471</td> <td>   -1.268</td> <td> 0.205</td> <td>   -1.520</td> <td>    0.326</td>\n",
              "</tr>\n",
              "<tr>\n",
              "  <th>Lead Source_Press_Release</th>              <td>   -0.6759</td> <td>    0.366</td> <td>   -1.845</td> <td> 0.065</td> <td>   -1.394</td> <td>    0.042</td>\n",
              "</tr>\n",
              "<tr>\n",
              "  <th>Lead Source_Reference</th>                  <td>    0.2375</td> <td>    0.212</td> <td>    1.119</td> <td> 0.263</td> <td>   -0.179</td> <td>    0.654</td>\n",
              "</tr>\n",
              "<tr>\n",
              "  <th>Lead Source_Referral Sites</th>             <td>   -0.4998</td> <td>    0.215</td> <td>   -2.320</td> <td> 0.020</td> <td>   -0.922</td> <td>   -0.077</td>\n",
              "</tr>\n",
              "<tr>\n",
              "  <th>Lead Source_Social Media</th>               <td>   -0.2546</td> <td>    0.365</td> <td>   -0.698</td> <td> 0.485</td> <td>   -0.970</td> <td>    0.460</td>\n",
              "</tr>\n",
              "<tr>\n",
              "  <th>Lead Source_WeLearn</th>                    <td>    0.0074</td> <td>    0.471</td> <td>    0.016</td> <td> 0.987</td> <td>   -0.915</td> <td>    0.930</td>\n",
              "</tr>\n",
              "<tr>\n",
              "  <th>Lead Source_Welingak Website</th>           <td>    0.3014</td> <td>    0.222</td> <td>    1.356</td> <td> 0.175</td> <td>   -0.134</td> <td>    0.737</td>\n",
              "</tr>\n",
              "<tr>\n",
              "  <th>Lead Source_bing</th>                       <td>   -0.6662</td> <td>    0.322</td> <td>   -2.071</td> <td> 0.038</td> <td>   -1.297</td> <td>   -0.036</td>\n",
              "</tr>\n",
              "<tr>\n",
              "  <th>Lead Source_blog</th>                       <td>   -0.8083</td> <td>    0.471</td> <td>   -1.717</td> <td> 0.086</td> <td>   -1.731</td> <td>    0.115</td>\n",
              "</tr>\n",
              "<tr>\n",
              "  <th>Lead Source_google</th>                     <td>   -0.6711</td> <td>    0.298</td> <td>   -2.253</td> <td> 0.024</td> <td>   -1.255</td> <td>   -0.087</td>\n",
              "</tr>\n",
              "<tr>\n",
              "  <th>Lead Source_testone</th>                    <td>   -0.6746</td> <td>    0.471</td> <td>   -1.433</td> <td> 0.152</td> <td>   -1.597</td> <td>    0.248</td>\n",
              "</tr>\n",
              "<tr>\n",
              "  <th>Lead Source_welearnblog_Home</th>           <td>   -0.6852</td> <td>    0.471</td> <td>   -1.456</td> <td> 0.146</td> <td>   -1.608</td> <td>    0.238</td>\n",
              "</tr>\n",
              "<tr>\n",
              "  <th>Lead Source_youtubechannel</th>             <td>   -0.3232</td> <td>    0.558</td> <td>   -0.580</td> <td> 0.562</td> <td>   -1.416</td> <td>    0.770</td>\n",
              "</tr>\n",
              "<tr>\n",
              "  <th>Country_Australia</th>                      <td>   -0.4043</td> <td>    0.440</td> <td>   -0.919</td> <td> 0.358</td> <td>   -1.267</td> <td>    0.458</td>\n",
              "</tr>\n",
              "<tr>\n",
              "  <th>Country_Bahrain</th>                        <td>   -0.0984</td> <td>    0.455</td> <td>   -0.216</td> <td> 0.829</td> <td>   -0.991</td> <td>    0.794</td>\n",
              "</tr>\n",
              "<tr>\n",
              "  <th>Country_Bangladesh</th>                     <td>   -0.1870</td> <td>    0.516</td> <td>   -0.362</td> <td> 0.717</td> <td>   -1.198</td> <td>    0.824</td>\n",
              "</tr>\n",
              "<tr>\n",
              "  <th>Country_Belgium</th>                        <td>   -0.4737</td> <td>    0.596</td> <td>   -0.795</td> <td> 0.427</td> <td>   -1.642</td> <td>    0.694</td>\n",
              "</tr>\n",
              "<tr>\n",
              "  <th>Country_Canada</th>                         <td>   -0.4670</td> <td>    0.516</td> <td>   -0.905</td> <td> 0.365</td> <td>   -1.479</td> <td>    0.545</td>\n",
              "</tr>\n",
              "<tr>\n",
              "  <th>Country_China</th>                          <td>   -0.5314</td> <td>    0.596</td> <td>   -0.892</td> <td> 0.372</td> <td>   -1.699</td> <td>    0.636</td>\n",
              "</tr>\n",
              "<tr>\n",
              "  <th>Country_Denmark</th>                        <td>    0.1470</td> <td>    0.596</td> <td>    0.247</td> <td> 0.805</td> <td>   -1.021</td> <td>    1.315</td>\n",
              "</tr>\n",
              "<tr>\n",
              "  <th>Country_France</th>                         <td>   -0.1487</td> <td>    0.455</td> <td>   -0.327</td> <td> 0.744</td> <td>   -1.041</td> <td>    0.743</td>\n",
              "</tr>\n",
              "<tr>\n",
              "  <th>Country_Germany</th>                        <td>   -0.2282</td> <td>    0.487</td> <td>   -0.469</td> <td> 0.639</td> <td>   -1.182</td> <td>    0.726</td>\n",
              "</tr>\n",
              "<tr>\n",
              "  <th>Country_Ghana</th>                          <td>   -0.3642</td> <td>    0.516</td> <td>   -0.706</td> <td> 0.480</td> <td>   -1.376</td> <td>    0.647</td>\n",
              "</tr>\n",
              "<tr>\n",
              "  <th>Country_Hong Kong</th>                      <td>   -0.0631</td> <td>    0.471</td> <td>   -0.134</td> <td> 0.893</td> <td>   -0.986</td> <td>    0.860</td>\n",
              "</tr>\n",
              "<tr>\n",
              "  <th>Country_India</th>                          <td>   -0.2441</td> <td>    0.421</td> <td>   -0.580</td> <td> 0.562</td> <td>   -1.070</td> <td>    0.582</td>\n",
              "</tr>\n",
              "<tr>\n",
              "  <th>Country_Indonesia</th>                      <td>   -0.4430</td> <td>    0.596</td> <td>   -0.743</td> <td> 0.457</td> <td>   -1.612</td> <td>    0.726</td>\n",
              "</tr>\n",
              "<tr>\n",
              "  <th>Country_Italy</th>                          <td>   -0.9908</td> <td>    0.596</td> <td>   -1.664</td> <td> 0.096</td> <td>   -2.158</td> <td>    0.177</td>\n",
              "</tr>\n",
              "<tr>\n",
              "  <th>Country_Kenya</th>                          <td> 2.402e-16</td> <td> 2.46e-16</td> <td>    0.976</td> <td> 0.329</td> <td>-2.42e-16</td> <td> 7.23e-16</td>\n",
              "</tr>\n",
              "<tr>\n",
              "  <th>Country_Kuwait</th>                         <td>   -0.5784</td> <td>    0.486</td> <td>   -1.189</td> <td> 0.235</td> <td>   -1.532</td> <td>    0.375</td>\n",
              "</tr>\n",
              "<tr>\n",
              "  <th>Country_Liberia</th>                        <td>   -0.3456</td> <td>    0.596</td> <td>   -0.580</td> <td> 0.562</td> <td>   -1.514</td> <td>    0.823</td>\n",
              "</tr>\n",
              "<tr>\n",
              "  <th>Country_Malaysia</th>                       <td>   -0.3836</td> <td>    0.596</td> <td>   -0.644</td> <td> 0.520</td> <td>   -1.552</td> <td>    0.784</td>\n",
              "</tr>\n",
              "<tr>\n",
              "  <th>Country_Netherlands</th>                    <td>    0.0264</td> <td>    0.596</td> <td>    0.044</td> <td> 0.965</td> <td>   -1.143</td> <td>    1.195</td>\n",
              "</tr>\n",
              "<tr>\n",
              "  <th>Country_Nigeria</th>                        <td>   -0.5990</td> <td>    0.486</td> <td>   -1.231</td> <td> 0.218</td> <td>   -1.553</td> <td>    0.355</td>\n",
              "</tr>\n",
              "<tr>\n",
              "  <th>Country_Oman</th>                           <td>   -0.1580</td> <td>    0.462</td> <td>   -0.342</td> <td> 0.732</td> <td>   -1.063</td> <td>    0.747</td>\n",
              "</tr>\n",
              "<tr>\n",
              "  <th>Country_Philippines</th>                    <td>   -0.5419</td> <td>    0.596</td> <td>   -0.910</td> <td> 0.363</td> <td>   -1.710</td> <td>    0.626</td>\n",
              "</tr>\n",
              "<tr>\n",
              "  <th>Country_Qatar</th>                          <td>   -0.4825</td> <td>    0.450</td> <td>   -1.071</td> <td> 0.284</td> <td>   -1.365</td> <td>    0.400</td>\n",
              "</tr>\n",
              "<tr>\n",
              "  <th>Country_Russia</th>                         <td>   -0.3505</td> <td>    0.596</td> <td>   -0.588</td> <td> 0.557</td> <td>   -1.519</td> <td>    0.818</td>\n",
              "</tr>\n",
              "<tr>\n",
              "  <th>Country_Saudi Arabia</th>                   <td>   -0.4474</td> <td>    0.437</td> <td>   -1.023</td> <td> 0.306</td> <td>   -1.305</td> <td>    0.410</td>\n",
              "</tr>\n",
              "<tr>\n",
              "  <th>Country_Singapore</th>                      <td>   -0.1851</td> <td>    0.436</td> <td>   -0.424</td> <td> 0.671</td> <td>   -1.040</td> <td>    0.670</td>\n",
              "</tr>\n",
              "<tr>\n",
              "  <th>Country_South Africa</th>                   <td>   -0.4720</td> <td>    0.596</td> <td>   -0.792</td> <td> 0.428</td> <td>   -1.640</td> <td>    0.696</td>\n",
              "</tr>\n",
              "<tr>\n",
              "  <th>Country_Sri Lanka</th>                      <td>   -0.4214</td> <td>    0.597</td> <td>   -0.705</td> <td> 0.481</td> <td>   -1.593</td> <td>    0.750</td>\n",
              "</tr>\n",
              "<tr>\n",
              "  <th>Country_Sweden</th>                         <td>   -0.2178</td> <td>    0.486</td> <td>   -0.448</td> <td> 0.654</td> <td>   -1.171</td> <td>    0.736</td>\n",
              "</tr>\n",
              "<tr>\n",
              "  <th>Country_Switzerland</th>                    <td> 3.446e-16</td> <td> 2.93e-15</td> <td>    0.118</td> <td> 0.906</td> <td>-5.39e-15</td> <td> 6.08e-15</td>\n",
              "</tr>\n",
              "<tr>\n",
              "  <th>Country_Tanzania</th>                       <td> 2.311e-15</td> <td> 2.55e-15</td> <td>    0.906</td> <td> 0.365</td> <td>-2.69e-15</td> <td> 7.31e-15</td>\n",
              "</tr>\n",
              "<tr>\n",
              "  <th>Country_Uganda</th>                         <td>   -0.4413</td> <td>    0.516</td> <td>   -0.855</td> <td> 0.393</td> <td>   -1.453</td> <td>    0.570</td>\n",
              "</tr>\n",
              "<tr>\n",
              "  <th>Country_United Arab Emirates</th>           <td>   -0.2133</td> <td>    0.426</td> <td>   -0.500</td> <td> 0.617</td> <td>   -1.049</td> <td>    0.623</td>\n",
              "</tr>\n",
              "<tr>\n",
              "  <th>Country_United Kingdom</th>                 <td>   -0.2645</td> <td>    0.444</td> <td>   -0.596</td> <td> 0.551</td> <td>   -1.135</td> <td>    0.606</td>\n",
              "</tr>\n",
              "<tr>\n",
              "  <th>Country_United States</th>                  <td>   -0.2702</td> <td>    0.425</td> <td>   -0.635</td> <td> 0.525</td> <td>   -1.104</td> <td>    0.563</td>\n",
              "</tr>\n",
              "<tr>\n",
              "  <th>Country_Vietnam</th>                        <td>         0</td> <td>        0</td> <td>      nan</td> <td>   nan</td> <td>        0</td> <td>        0</td>\n",
              "</tr>\n",
              "<tr>\n",
              "  <th>Country_unknown</th>                        <td>   -0.4262</td> <td>    0.471</td> <td>   -0.904</td> <td> 0.366</td> <td>   -1.350</td> <td>    0.498</td>\n",
              "</tr>\n",
              "</table>\n",
              "<table class=\"simpletable\">\n",
              "<tr>\n",
              "  <th>Omnibus:</th>       <td>459.011</td> <th>  Durbin-Watson:     </th> <td>   1.977</td>\n",
              "</tr>\n",
              "<tr>\n",
              "  <th>Prob(Omnibus):</th> <td> 0.000</td>  <th>  Jarque-Bera (JB):  </th> <td> 193.886</td>\n",
              "</tr>\n",
              "<tr>\n",
              "  <th>Skew:</th>          <td> 0.264</td>  <th>  Prob(JB):          </th> <td>7.91e-43</td>\n",
              "</tr>\n",
              "<tr>\n",
              "  <th>Kurtosis:</th>      <td> 2.222</td>  <th>  Cond. No.          </th> <td>3.05e+18</td>\n",
              "</tr>\n",
              "</table><br/><br/>Notes:<br/>[1] Standard Errors assume that the covariance matrix of the errors is correctly specified.<br/>[2] The smallest eigenvalue is 1.84e-33. This might indicate that there are<br/>strong multicollinearity problems or that the design matrix is singular."
            ]
          },
          "metadata": {},
          "execution_count": 69
        }
      ]
    },
    {
      "cell_type": "markdown",
      "source": [
        "**6.2 : Feature Selection Using RFE**"
      ],
      "metadata": {
        "id": "Em5kTAMtP3mh"
      }
    },
    {
      "cell_type": "code",
      "source": [
        "from sklearn.linear_model import LogisticRegression\n",
        "lm = LogisticRegression()\n",
        "from sklearn.feature_selection import RFE"
      ],
      "metadata": {
        "id": "mtdZV_mwP5eS"
      },
      "execution_count": 70,
      "outputs": []
    },
    {
      "cell_type": "code",
      "source": [
        "lm.fit(X_train, Y_train)\n",
        "rfe = RFE(lm, n_features_to_select=10)\n",
        "#rfe = RFE(lm, 10)\n",
        "rfe = rfe.fit(X_train, Y_train)"
      ],
      "metadata": {
        "id": "SW0fa4hoYMBr"
      },
      "execution_count": 71,
      "outputs": []
    },
    {
      "cell_type": "code",
      "source": [
        "rfe.support_"
      ],
      "metadata": {
        "colab": {
          "base_uri": "https://localhost:8080/"
        },
        "id": "vJCsAmM0QAMa",
        "outputId": "4e2fa77a-b73f-4983-efd5-033975a04fe2"
      },
      "execution_count": 72,
      "outputs": [
        {
          "output_type": "execute_result",
          "data": {
            "text/plain": [
              "array([ True, False, False,  True, False,  True, False, False, False,\n",
              "       False, False, False, False, False, False, False, False,  True,\n",
              "       False, False, False,  True, False, False, False,  True, False,\n",
              "       False, False, False, False, False, False, False, False, False,\n",
              "       False, False, False, False, False, False, False, False, False,\n",
              "       False, False,  True, False, False, False,  True, False, False,\n",
              "        True, False,  True, False, False, False, False, False, False,\n",
              "       False, False, False, False, False, False])"
            ]
          },
          "metadata": {},
          "execution_count": 72
        }
      ]
    },
    {
      "cell_type": "code",
      "source": [
        "list(zip(X_train.columns, rfe.support_, rfe.ranking_))"
      ],
      "metadata": {
        "colab": {
          "base_uri": "https://localhost:8080/"
        },
        "id": "r-yF4ESIQAPB",
        "outputId": "e9bc8d5c-d7f6-4faa-c23b-20078d435944"
      },
      "execution_count": 73,
      "outputs": [
        {
          "output_type": "execute_result",
          "data": {
            "text/plain": [
              "[('Do Not Email', True, 1),\n",
              " ('Do Not Call', False, 51),\n",
              " ('TotalVisits', False, 39),\n",
              " ('Total Time Spent on Website', True, 1),\n",
              " ('Page Views Per Visit', False, 54),\n",
              " ('Search', True, 1),\n",
              " ('Magazine', False, 55),\n",
              " ('X Education Forums', False, 22),\n",
              " ('Newspaper', False, 60),\n",
              " ('Digital Advertisement', False, 26),\n",
              " ('Through Recommendations', False, 2),\n",
              " ('A free copy of Mastering The Interview', False, 53),\n",
              " ('Lead Source_Direct Traffic', False, 7),\n",
              " ('Lead Source_Facebook', False, 28),\n",
              " ('Lead Source_Google', False, 8),\n",
              " ('Lead Source_Live Chat', False, 10),\n",
              " ('Lead Source_NC_EDM', False, 30),\n",
              " ('Lead Source_Olark Chat', True, 1),\n",
              " ('Lead Source_Organic Search', False, 9),\n",
              " ('Lead Source_Pay per Click Ads', False, 27),\n",
              " ('Lead Source_Press_Release', False, 11),\n",
              " ('Lead Source_Reference', True, 1),\n",
              " ('Lead Source_Referral Sites', False, 6),\n",
              " ('Lead Source_Social Media', False, 52),\n",
              " ('Lead Source_WeLearn', False, 38),\n",
              " ('Lead Source_Welingak Website', True, 1),\n",
              " ('Lead Source_bing', False, 5),\n",
              " ('Lead Source_blog', False, 12),\n",
              " ('Lead Source_google', False, 4),\n",
              " ('Lead Source_testone', False, 23),\n",
              " ('Lead Source_welearnblog_Home', False, 21),\n",
              " ('Lead Source_youtubechannel', False, 47),\n",
              " ('Country_Australia', False, 25),\n",
              " ('Country_Bahrain', False, 13),\n",
              " ('Country_Bangladesh', False, 33),\n",
              " ('Country_Belgium', False, 42),\n",
              " ('Country_Canada', False, 24),\n",
              " ('Country_China', False, 37),\n",
              " ('Country_Denmark', False, 20),\n",
              " ('Country_France', False, 15),\n",
              " ('Country_Germany', False, 40),\n",
              " ('Country_Ghana', False, 35),\n",
              " ('Country_Hong Kong', False, 14),\n",
              " ('Country_India', False, 19),\n",
              " ('Country_Indonesia', False, 45),\n",
              " ('Country_Italy', False, 3),\n",
              " ('Country_Kenya', False, 58),\n",
              " ('Country_Kuwait', True, 1),\n",
              " ('Country_Liberia', False, 50),\n",
              " ('Country_Malaysia', False, 48),\n",
              " ('Country_Netherlands', False, 29),\n",
              " ('Country_Nigeria', True, 1),\n",
              " ('Country_Oman', False, 16),\n",
              " ('Country_Philippines', False, 36),\n",
              " ('Country_Qatar', True, 1),\n",
              " ('Country_Russia', False, 49),\n",
              " ('Country_Saudi Arabia', True, 1),\n",
              " ('Country_Singapore', False, 17),\n",
              " ('Country_South Africa', False, 41),\n",
              " ('Country_Sri Lanka', False, 46),\n",
              " ('Country_Sweden', False, 34),\n",
              " ('Country_Switzerland', False, 57),\n",
              " ('Country_Tanzania', False, 59),\n",
              " ('Country_Uganda', False, 31),\n",
              " ('Country_United Arab Emirates', False, 18),\n",
              " ('Country_United Kingdom', False, 43),\n",
              " ('Country_United States', False, 44),\n",
              " ('Country_Vietnam', False, 56),\n",
              " ('Country_unknown', False, 32)]"
            ]
          },
          "metadata": {},
          "execution_count": 73
        }
      ]
    },
    {
      "cell_type": "code",
      "source": [
        "col=X_train.columns[rfe.support_]"
      ],
      "metadata": {
        "id": "iLo45WIrQARX"
      },
      "execution_count": 74,
      "outputs": []
    },
    {
      "cell_type": "code",
      "source": [
        "X_train.columns[~rfe.support_]"
      ],
      "metadata": {
        "colab": {
          "base_uri": "https://localhost:8080/"
        },
        "id": "et_pTgTCQAT0",
        "outputId": "f5495dc1-9ee6-4176-ddb0-6c63c61b555c"
      },
      "execution_count": 75,
      "outputs": [
        {
          "output_type": "execute_result",
          "data": {
            "text/plain": [
              "Index(['Do Not Call', 'TotalVisits', 'Page Views Per Visit', 'Magazine',\n",
              "       'X Education Forums', 'Newspaper', 'Digital Advertisement',\n",
              "       'Through Recommendations', 'A free copy of Mastering The Interview',\n",
              "       'Lead Source_Direct Traffic', 'Lead Source_Facebook',\n",
              "       'Lead Source_Google', 'Lead Source_Live Chat', 'Lead Source_NC_EDM',\n",
              "       'Lead Source_Organic Search', 'Lead Source_Pay per Click Ads',\n",
              "       'Lead Source_Press_Release', 'Lead Source_Referral Sites',\n",
              "       'Lead Source_Social Media', 'Lead Source_WeLearn', 'Lead Source_bing',\n",
              "       'Lead Source_blog', 'Lead Source_google', 'Lead Source_testone',\n",
              "       'Lead Source_welearnblog_Home', 'Lead Source_youtubechannel',\n",
              "       'Country_Australia', 'Country_Bahrain', 'Country_Bangladesh',\n",
              "       'Country_Belgium', 'Country_Canada', 'Country_China', 'Country_Denmark',\n",
              "       'Country_France', 'Country_Germany', 'Country_Ghana',\n",
              "       'Country_Hong Kong', 'Country_India', 'Country_Indonesia',\n",
              "       'Country_Italy', 'Country_Kenya', 'Country_Liberia', 'Country_Malaysia',\n",
              "       'Country_Netherlands', 'Country_Oman', 'Country_Philippines',\n",
              "       'Country_Russia', 'Country_Singapore', 'Country_South Africa',\n",
              "       'Country_Sri Lanka', 'Country_Sweden', 'Country_Switzerland',\n",
              "       'Country_Tanzania', 'Country_Uganda', 'Country_United Arab Emirates',\n",
              "       'Country_United Kingdom', 'Country_United States', 'Country_Vietnam',\n",
              "       'Country_unknown'],\n",
              "      dtype='object')"
            ]
          },
          "metadata": {},
          "execution_count": 75
        }
      ]
    },
    {
      "cell_type": "markdown",
      "source": [
        "**6.3 : Assessing the model with StatsModels**"
      ],
      "metadata": {
        "id": "SUQzRthS-vWc"
      }
    },
    {
      "cell_type": "code",
      "source": [
        "X_train_sm = sm.add_constant(X_train[col])\n",
        "logm_2 = sm.GLM(Y_train,X_train_sm, family = sm.families.Binomial())\n",
        "res = logm_2.fit()\n",
        "res.summary()"
      ],
      "metadata": {
        "colab": {
          "base_uri": "https://localhost:8080/",
          "height": 487
        },
        "id": "mRt0sTJH-4da",
        "outputId": "ac34a0de-4436-42f0-809c-8401b890f9cc"
      },
      "execution_count": 76,
      "outputs": [
        {
          "output_type": "execute_result",
          "data": {
            "text/plain": [
              "<class 'statsmodels.iolib.summary.Summary'>\n",
              "\"\"\"\n",
              "                 Generalized Linear Model Regression Results                  \n",
              "==============================================================================\n",
              "Dep. Variable:              Converted   No. Observations:                 5271\n",
              "Model:                            GLM   Df Residuals:                     5260\n",
              "Model Family:                Binomial   Df Model:                           10\n",
              "Link Function:                  logit   Scale:                          1.0000\n",
              "Method:                          IRLS   Log-Likelihood:                -2769.9\n",
              "Date:                Tue, 18 Oct 2022   Deviance:                       5539.8\n",
              "Time:                        16:55:51   Pearson chi2:                 5.46e+03\n",
              "No. Iterations:                    21                                         \n",
              "Covariance Type:            nonrobust                                         \n",
              "================================================================================================\n",
              "                                   coef    std err          z      P>|z|      [0.025      0.975]\n",
              "------------------------------------------------------------------------------------------------\n",
              "const                           -2.0181      0.152    -13.291      0.000      -2.316      -1.720\n",
              "Do Not Email                     1.4346      0.155      9.280      0.000       1.132       1.738\n",
              "Total Time Spent on Website      1.0551      0.036     29.389      0.000       0.985       1.126\n",
              "Search                          -1.4991      1.022     -1.467      0.142      -3.502       0.504\n",
              "Lead Source_Olark Chat           1.4199      0.142      9.970      0.000       1.141       1.699\n",
              "Lead Source_Reference            3.8359      0.242     15.882      0.000       3.363       4.309\n",
              "Lead Source_Welingak Website     4.6227      0.756      6.114      0.000       3.141       6.105\n",
              "Country_Kuwait                 -22.3617   2.32e+04     -0.001      0.999   -4.55e+04    4.54e+04\n",
              "Country_Nigeria                -22.0267   2.61e+04     -0.001      0.999   -5.12e+04    5.12e+04\n",
              "Country_Qatar                   -1.7743      1.258     -1.410      0.158      -4.240       0.691\n",
              "Country_Saudi Arabia            -1.8080      0.937     -1.929      0.054      -3.645       0.029\n",
              "================================================================================================\n",
              "\"\"\""
            ],
            "text/html": [
              "<table class=\"simpletable\">\n",
              "<caption>Generalized Linear Model Regression Results</caption>\n",
              "<tr>\n",
              "  <th>Dep. Variable:</th>       <td>Converted</td>    <th>  No. Observations:  </th>  <td>  5271</td> \n",
              "</tr>\n",
              "<tr>\n",
              "  <th>Model:</th>                  <td>GLM</td>       <th>  Df Residuals:      </th>  <td>  5260</td> \n",
              "</tr>\n",
              "<tr>\n",
              "  <th>Model Family:</th>        <td>Binomial</td>     <th>  Df Model:          </th>  <td>    10</td> \n",
              "</tr>\n",
              "<tr>\n",
              "  <th>Link Function:</th>         <td>logit</td>      <th>  Scale:             </th> <td>  1.0000</td>\n",
              "</tr>\n",
              "<tr>\n",
              "  <th>Method:</th>                <td>IRLS</td>       <th>  Log-Likelihood:    </th> <td> -2769.9</td>\n",
              "</tr>\n",
              "<tr>\n",
              "  <th>Date:</th>            <td>Tue, 18 Oct 2022</td> <th>  Deviance:          </th> <td>  5539.8</td>\n",
              "</tr>\n",
              "<tr>\n",
              "  <th>Time:</th>                <td>16:55:51</td>     <th>  Pearson chi2:      </th> <td>5.46e+03</td>\n",
              "</tr>\n",
              "<tr>\n",
              "  <th>No. Iterations:</th>         <td>21</td>        <th>                     </th>     <td> </td>   \n",
              "</tr>\n",
              "<tr>\n",
              "  <th>Covariance Type:</th>     <td>nonrobust</td>    <th>                     </th>     <td> </td>   \n",
              "</tr>\n",
              "</table>\n",
              "<table class=\"simpletable\">\n",
              "<tr>\n",
              "                <td></td>                  <th>coef</th>     <th>std err</th>      <th>z</th>      <th>P>|z|</th>  <th>[0.025</th>    <th>0.975]</th>  \n",
              "</tr>\n",
              "<tr>\n",
              "  <th>const</th>                        <td>   -2.0181</td> <td>    0.152</td> <td>  -13.291</td> <td> 0.000</td> <td>   -2.316</td> <td>   -1.720</td>\n",
              "</tr>\n",
              "<tr>\n",
              "  <th>Do Not Email</th>                 <td>    1.4346</td> <td>    0.155</td> <td>    9.280</td> <td> 0.000</td> <td>    1.132</td> <td>    1.738</td>\n",
              "</tr>\n",
              "<tr>\n",
              "  <th>Total Time Spent on Website</th>  <td>    1.0551</td> <td>    0.036</td> <td>   29.389</td> <td> 0.000</td> <td>    0.985</td> <td>    1.126</td>\n",
              "</tr>\n",
              "<tr>\n",
              "  <th>Search</th>                       <td>   -1.4991</td> <td>    1.022</td> <td>   -1.467</td> <td> 0.142</td> <td>   -3.502</td> <td>    0.504</td>\n",
              "</tr>\n",
              "<tr>\n",
              "  <th>Lead Source_Olark Chat</th>       <td>    1.4199</td> <td>    0.142</td> <td>    9.970</td> <td> 0.000</td> <td>    1.141</td> <td>    1.699</td>\n",
              "</tr>\n",
              "<tr>\n",
              "  <th>Lead Source_Reference</th>        <td>    3.8359</td> <td>    0.242</td> <td>   15.882</td> <td> 0.000</td> <td>    3.363</td> <td>    4.309</td>\n",
              "</tr>\n",
              "<tr>\n",
              "  <th>Lead Source_Welingak Website</th> <td>    4.6227</td> <td>    0.756</td> <td>    6.114</td> <td> 0.000</td> <td>    3.141</td> <td>    6.105</td>\n",
              "</tr>\n",
              "<tr>\n",
              "  <th>Country_Kuwait</th>               <td>  -22.3617</td> <td> 2.32e+04</td> <td>   -0.001</td> <td> 0.999</td> <td>-4.55e+04</td> <td> 4.54e+04</td>\n",
              "</tr>\n",
              "<tr>\n",
              "  <th>Country_Nigeria</th>              <td>  -22.0267</td> <td> 2.61e+04</td> <td>   -0.001</td> <td> 0.999</td> <td>-5.12e+04</td> <td> 5.12e+04</td>\n",
              "</tr>\n",
              "<tr>\n",
              "  <th>Country_Qatar</th>                <td>   -1.7743</td> <td>    1.258</td> <td>   -1.410</td> <td> 0.158</td> <td>   -4.240</td> <td>    0.691</td>\n",
              "</tr>\n",
              "<tr>\n",
              "  <th>Country_Saudi Arabia</th>         <td>   -1.8080</td> <td>    0.937</td> <td>   -1.929</td> <td> 0.054</td> <td>   -3.645</td> <td>    0.029</td>\n",
              "</tr>\n",
              "</table>"
            ]
          },
          "metadata": {},
          "execution_count": 76
        }
      ]
    },
    {
      "cell_type": "code",
      "source": [
        "# Getting the predicted values on the train set\n",
        "Y_train_pred = res.predict(X_train_sm)\n",
        "Y_train_pred[:10]"
      ],
      "metadata": {
        "colab": {
          "base_uri": "https://localhost:8080/"
        },
        "id": "9bjIndaN_S1U",
        "outputId": "54333bf3-3927-4fe2-cfbf-aa6a9c812c06"
      },
      "execution_count": 77,
      "outputs": [
        {
          "output_type": "execute_result",
          "data": {
            "text/plain": [
              "1171    0.356174\n",
              "4394    0.255079\n",
              "3600    0.171656\n",
              "5324    0.192987\n",
              "2367    0.674184\n",
              "4565    0.314833\n",
              "6955    0.210508\n",
              "5544    0.734100\n",
              "963     0.620195\n",
              "6071    0.400054\n",
              "dtype: float64"
            ]
          },
          "metadata": {},
          "execution_count": 77
        }
      ]
    },
    {
      "cell_type": "code",
      "source": [
        "Y_train_pred = Y_train_pred.values.reshape(-1)\n",
        "Y_train_pred[:10]"
      ],
      "metadata": {
        "colab": {
          "base_uri": "https://localhost:8080/"
        },
        "id": "YcNA9Yo1AGzn",
        "outputId": "93cc8c9c-9f38-47eb-a684-d5d6df69f1df"
      },
      "execution_count": 78,
      "outputs": [
        {
          "output_type": "execute_result",
          "data": {
            "text/plain": [
              "array([0.35617376, 0.25507926, 0.17165583, 0.19298735, 0.6741843 ,\n",
              "       0.31483308, 0.21050808, 0.73410027, 0.62019524, 0.40005372])"
            ]
          },
          "metadata": {},
          "execution_count": 78
        }
      ]
    },
    {
      "cell_type": "markdown",
      "source": [
        "Creating a dataframe with the actual converted and the predicted probabilities"
      ],
      "metadata": {
        "id": "dH5j0TZEBpS7"
      }
    },
    {
      "cell_type": "code",
      "source": [
        "Y_train_pred_final = pd.DataFrame({'Potential_Convertion':Y_train.values, 'Convertion_prob':Y_train_pred})\n",
        "Y_train_pred_final.head()"
      ],
      "metadata": {
        "colab": {
          "base_uri": "https://localhost:8080/",
          "height": 206
        },
        "id": "3TVkfYleAG5Y",
        "outputId": "c2c12b2a-e3cb-4633-ca09-1925f144466e"
      },
      "execution_count": 79,
      "outputs": [
        {
          "output_type": "execute_result",
          "data": {
            "text/plain": [
              "   Potential_Convertion  Convertion_prob\n",
              "0                     1         0.356174\n",
              "1                     0         0.255079\n",
              "2                     0         0.171656\n",
              "3                     1         0.192987\n",
              "4                     1         0.674184"
            ],
            "text/html": [
              "\n",
              "  <div id=\"df-e980561f-f99f-4e77-a30f-28087e913f8b\">\n",
              "    <div class=\"colab-df-container\">\n",
              "      <div>\n",
              "<style scoped>\n",
              "    .dataframe tbody tr th:only-of-type {\n",
              "        vertical-align: middle;\n",
              "    }\n",
              "\n",
              "    .dataframe tbody tr th {\n",
              "        vertical-align: top;\n",
              "    }\n",
              "\n",
              "    .dataframe thead th {\n",
              "        text-align: right;\n",
              "    }\n",
              "</style>\n",
              "<table border=\"1\" class=\"dataframe\">\n",
              "  <thead>\n",
              "    <tr style=\"text-align: right;\">\n",
              "      <th></th>\n",
              "      <th>Potential_Convertion</th>\n",
              "      <th>Convertion_prob</th>\n",
              "    </tr>\n",
              "  </thead>\n",
              "  <tbody>\n",
              "    <tr>\n",
              "      <th>0</th>\n",
              "      <td>1</td>\n",
              "      <td>0.356174</td>\n",
              "    </tr>\n",
              "    <tr>\n",
              "      <th>1</th>\n",
              "      <td>0</td>\n",
              "      <td>0.255079</td>\n",
              "    </tr>\n",
              "    <tr>\n",
              "      <th>2</th>\n",
              "      <td>0</td>\n",
              "      <td>0.171656</td>\n",
              "    </tr>\n",
              "    <tr>\n",
              "      <th>3</th>\n",
              "      <td>1</td>\n",
              "      <td>0.192987</td>\n",
              "    </tr>\n",
              "    <tr>\n",
              "      <th>4</th>\n",
              "      <td>1</td>\n",
              "      <td>0.674184</td>\n",
              "    </tr>\n",
              "  </tbody>\n",
              "</table>\n",
              "</div>\n",
              "      <button class=\"colab-df-convert\" onclick=\"convertToInteractive('df-e980561f-f99f-4e77-a30f-28087e913f8b')\"\n",
              "              title=\"Convert this dataframe to an interactive table.\"\n",
              "              style=\"display:none;\">\n",
              "        \n",
              "  <svg xmlns=\"http://www.w3.org/2000/svg\" height=\"24px\"viewBox=\"0 0 24 24\"\n",
              "       width=\"24px\">\n",
              "    <path d=\"M0 0h24v24H0V0z\" fill=\"none\"/>\n",
              "    <path d=\"M18.56 5.44l.94 2.06.94-2.06 2.06-.94-2.06-.94-.94-2.06-.94 2.06-2.06.94zm-11 1L8.5 8.5l.94-2.06 2.06-.94-2.06-.94L8.5 2.5l-.94 2.06-2.06.94zm10 10l.94 2.06.94-2.06 2.06-.94-2.06-.94-.94-2.06-.94 2.06-2.06.94z\"/><path d=\"M17.41 7.96l-1.37-1.37c-.4-.4-.92-.59-1.43-.59-.52 0-1.04.2-1.43.59L10.3 9.45l-7.72 7.72c-.78.78-.78 2.05 0 2.83L4 21.41c.39.39.9.59 1.41.59.51 0 1.02-.2 1.41-.59l7.78-7.78 2.81-2.81c.8-.78.8-2.07 0-2.86zM5.41 20L4 18.59l7.72-7.72 1.47 1.35L5.41 20z\"/>\n",
              "  </svg>\n",
              "      </button>\n",
              "      \n",
              "  <style>\n",
              "    .colab-df-container {\n",
              "      display:flex;\n",
              "      flex-wrap:wrap;\n",
              "      gap: 12px;\n",
              "    }\n",
              "\n",
              "    .colab-df-convert {\n",
              "      background-color: #E8F0FE;\n",
              "      border: none;\n",
              "      border-radius: 50%;\n",
              "      cursor: pointer;\n",
              "      display: none;\n",
              "      fill: #1967D2;\n",
              "      height: 32px;\n",
              "      padding: 0 0 0 0;\n",
              "      width: 32px;\n",
              "    }\n",
              "\n",
              "    .colab-df-convert:hover {\n",
              "      background-color: #E2EBFA;\n",
              "      box-shadow: 0px 1px 2px rgba(60, 64, 67, 0.3), 0px 1px 3px 1px rgba(60, 64, 67, 0.15);\n",
              "      fill: #174EA6;\n",
              "    }\n",
              "\n",
              "    [theme=dark] .colab-df-convert {\n",
              "      background-color: #3B4455;\n",
              "      fill: #D2E3FC;\n",
              "    }\n",
              "\n",
              "    [theme=dark] .colab-df-convert:hover {\n",
              "      background-color: #434B5C;\n",
              "      box-shadow: 0px 1px 3px 1px rgba(0, 0, 0, 0.15);\n",
              "      filter: drop-shadow(0px 1px 2px rgba(0, 0, 0, 0.3));\n",
              "      fill: #FFFFFF;\n",
              "    }\n",
              "  </style>\n",
              "\n",
              "      <script>\n",
              "        const buttonEl =\n",
              "          document.querySelector('#df-e980561f-f99f-4e77-a30f-28087e913f8b button.colab-df-convert');\n",
              "        buttonEl.style.display =\n",
              "          google.colab.kernel.accessAllowed ? 'block' : 'none';\n",
              "\n",
              "        async function convertToInteractive(key) {\n",
              "          const element = document.querySelector('#df-e980561f-f99f-4e77-a30f-28087e913f8b');\n",
              "          const dataTable =\n",
              "            await google.colab.kernel.invokeFunction('convertToInteractive',\n",
              "                                                     [key], {});\n",
              "          if (!dataTable) return;\n",
              "\n",
              "          const docLinkHtml = 'Like what you see? Visit the ' +\n",
              "            '<a target=\"_blank\" href=https://colab.research.google.com/notebooks/data_table.ipynb>data table notebook</a>'\n",
              "            + ' to learn more about interactive tables.';\n",
              "          element.innerHTML = '';\n",
              "          dataTable['output_type'] = 'display_data';\n",
              "          await google.colab.output.renderOutput(dataTable, element);\n",
              "          const docLink = document.createElement('div');\n",
              "          docLink.innerHTML = docLinkHtml;\n",
              "          element.appendChild(docLink);\n",
              "        }\n",
              "      </script>\n",
              "    </div>\n",
              "  </div>\n",
              "  "
            ]
          },
          "metadata": {},
          "execution_count": 79
        }
      ]
    },
    {
      "cell_type": "markdown",
      "source": [
        "Creating new column 'predicted' with 1 if Convertion_prob > 0.5 else 0"
      ],
      "metadata": {
        "id": "ruVL05aFDiwA"
      }
    },
    {
      "cell_type": "code",
      "source": [
        "Y_train_pred_final['predicted'] = Y_train_pred_final.Convertion_prob.map(lambda x: 1 if x > 0.5 else 0)\n",
        "\n",
        "# Let's see the head\n",
        "Y_train_pred_final.head()"
      ],
      "metadata": {
        "colab": {
          "base_uri": "https://localhost:8080/",
          "height": 206
        },
        "id": "Tb2AWkCiDEYq",
        "outputId": "cf098ae2-1df4-4f63-8719-1323a52f19c0"
      },
      "execution_count": 80,
      "outputs": [
        {
          "output_type": "execute_result",
          "data": {
            "text/plain": [
              "   Potential_Convertion  Convertion_prob  predicted\n",
              "0                     1         0.356174          0\n",
              "1                     0         0.255079          0\n",
              "2                     0         0.171656          0\n",
              "3                     1         0.192987          0\n",
              "4                     1         0.674184          1"
            ],
            "text/html": [
              "\n",
              "  <div id=\"df-db85703c-57de-4211-94ef-d55334512be1\">\n",
              "    <div class=\"colab-df-container\">\n",
              "      <div>\n",
              "<style scoped>\n",
              "    .dataframe tbody tr th:only-of-type {\n",
              "        vertical-align: middle;\n",
              "    }\n",
              "\n",
              "    .dataframe tbody tr th {\n",
              "        vertical-align: top;\n",
              "    }\n",
              "\n",
              "    .dataframe thead th {\n",
              "        text-align: right;\n",
              "    }\n",
              "</style>\n",
              "<table border=\"1\" class=\"dataframe\">\n",
              "  <thead>\n",
              "    <tr style=\"text-align: right;\">\n",
              "      <th></th>\n",
              "      <th>Potential_Convertion</th>\n",
              "      <th>Convertion_prob</th>\n",
              "      <th>predicted</th>\n",
              "    </tr>\n",
              "  </thead>\n",
              "  <tbody>\n",
              "    <tr>\n",
              "      <th>0</th>\n",
              "      <td>1</td>\n",
              "      <td>0.356174</td>\n",
              "      <td>0</td>\n",
              "    </tr>\n",
              "    <tr>\n",
              "      <th>1</th>\n",
              "      <td>0</td>\n",
              "      <td>0.255079</td>\n",
              "      <td>0</td>\n",
              "    </tr>\n",
              "    <tr>\n",
              "      <th>2</th>\n",
              "      <td>0</td>\n",
              "      <td>0.171656</td>\n",
              "      <td>0</td>\n",
              "    </tr>\n",
              "    <tr>\n",
              "      <th>3</th>\n",
              "      <td>1</td>\n",
              "      <td>0.192987</td>\n",
              "      <td>0</td>\n",
              "    </tr>\n",
              "    <tr>\n",
              "      <th>4</th>\n",
              "      <td>1</td>\n",
              "      <td>0.674184</td>\n",
              "      <td>1</td>\n",
              "    </tr>\n",
              "  </tbody>\n",
              "</table>\n",
              "</div>\n",
              "      <button class=\"colab-df-convert\" onclick=\"convertToInteractive('df-db85703c-57de-4211-94ef-d55334512be1')\"\n",
              "              title=\"Convert this dataframe to an interactive table.\"\n",
              "              style=\"display:none;\">\n",
              "        \n",
              "  <svg xmlns=\"http://www.w3.org/2000/svg\" height=\"24px\"viewBox=\"0 0 24 24\"\n",
              "       width=\"24px\">\n",
              "    <path d=\"M0 0h24v24H0V0z\" fill=\"none\"/>\n",
              "    <path d=\"M18.56 5.44l.94 2.06.94-2.06 2.06-.94-2.06-.94-.94-2.06-.94 2.06-2.06.94zm-11 1L8.5 8.5l.94-2.06 2.06-.94-2.06-.94L8.5 2.5l-.94 2.06-2.06.94zm10 10l.94 2.06.94-2.06 2.06-.94-2.06-.94-.94-2.06-.94 2.06-2.06.94z\"/><path d=\"M17.41 7.96l-1.37-1.37c-.4-.4-.92-.59-1.43-.59-.52 0-1.04.2-1.43.59L10.3 9.45l-7.72 7.72c-.78.78-.78 2.05 0 2.83L4 21.41c.39.39.9.59 1.41.59.51 0 1.02-.2 1.41-.59l7.78-7.78 2.81-2.81c.8-.78.8-2.07 0-2.86zM5.41 20L4 18.59l7.72-7.72 1.47 1.35L5.41 20z\"/>\n",
              "  </svg>\n",
              "      </button>\n",
              "      \n",
              "  <style>\n",
              "    .colab-df-container {\n",
              "      display:flex;\n",
              "      flex-wrap:wrap;\n",
              "      gap: 12px;\n",
              "    }\n",
              "\n",
              "    .colab-df-convert {\n",
              "      background-color: #E8F0FE;\n",
              "      border: none;\n",
              "      border-radius: 50%;\n",
              "      cursor: pointer;\n",
              "      display: none;\n",
              "      fill: #1967D2;\n",
              "      height: 32px;\n",
              "      padding: 0 0 0 0;\n",
              "      width: 32px;\n",
              "    }\n",
              "\n",
              "    .colab-df-convert:hover {\n",
              "      background-color: #E2EBFA;\n",
              "      box-shadow: 0px 1px 2px rgba(60, 64, 67, 0.3), 0px 1px 3px 1px rgba(60, 64, 67, 0.15);\n",
              "      fill: #174EA6;\n",
              "    }\n",
              "\n",
              "    [theme=dark] .colab-df-convert {\n",
              "      background-color: #3B4455;\n",
              "      fill: #D2E3FC;\n",
              "    }\n",
              "\n",
              "    [theme=dark] .colab-df-convert:hover {\n",
              "      background-color: #434B5C;\n",
              "      box-shadow: 0px 1px 3px 1px rgba(0, 0, 0, 0.15);\n",
              "      filter: drop-shadow(0px 1px 2px rgba(0, 0, 0, 0.3));\n",
              "      fill: #FFFFFF;\n",
              "    }\n",
              "  </style>\n",
              "\n",
              "      <script>\n",
              "        const buttonEl =\n",
              "          document.querySelector('#df-db85703c-57de-4211-94ef-d55334512be1 button.colab-df-convert');\n",
              "        buttonEl.style.display =\n",
              "          google.colab.kernel.accessAllowed ? 'block' : 'none';\n",
              "\n",
              "        async function convertToInteractive(key) {\n",
              "          const element = document.querySelector('#df-db85703c-57de-4211-94ef-d55334512be1');\n",
              "          const dataTable =\n",
              "            await google.colab.kernel.invokeFunction('convertToInteractive',\n",
              "                                                     [key], {});\n",
              "          if (!dataTable) return;\n",
              "\n",
              "          const docLinkHtml = 'Like what you see? Visit the ' +\n",
              "            '<a target=\"_blank\" href=https://colab.research.google.com/notebooks/data_table.ipynb>data table notebook</a>'\n",
              "            + ' to learn more about interactive tables.';\n",
              "          element.innerHTML = '';\n",
              "          dataTable['output_type'] = 'display_data';\n",
              "          await google.colab.output.renderOutput(dataTable, element);\n",
              "          const docLink = document.createElement('div');\n",
              "          docLink.innerHTML = docLinkHtml;\n",
              "          element.appendChild(docLink);\n",
              "        }\n",
              "      </script>\n",
              "    </div>\n",
              "  </div>\n",
              "  "
            ]
          },
          "metadata": {},
          "execution_count": 80
        }
      ]
    },
    {
      "cell_type": "code",
      "source": [
        "from sklearn import metrics"
      ],
      "metadata": {
        "id": "_u4hPHe8Dc_v"
      },
      "execution_count": 81,
      "outputs": []
    },
    {
      "cell_type": "code",
      "source": [
        "# Confusion matrix \n",
        "confusion = metrics.confusion_matrix(Y_train_pred_final.Potential_Convertion, Y_train_pred_final.predicted )\n",
        "print(confusion)"
      ],
      "metadata": {
        "colab": {
          "base_uri": "https://localhost:8080/"
        },
        "id": "ZQb7hloXDdFc",
        "outputId": "d5827f95-06e3-4291-b430-529261ed76a6"
      },
      "execution_count": 82,
      "outputs": [
        {
          "output_type": "stream",
          "name": "stdout",
          "text": [
            "[[2624  515]\n",
            " [ 792 1340]]\n"
          ]
        }
      ]
    },
    {
      "cell_type": "code",
      "source": [
        "# Let's check the overall accuracy.\n",
        "print(metrics.accuracy_score(Y_train_pred_final.Potential_Convertion, Y_train_pred_final.predicted))"
      ],
      "metadata": {
        "colab": {
          "base_uri": "https://localhost:8080/"
        },
        "id": "Rxs_bpMFENRe",
        "outputId": "8204d994-8b11-4e68-efcc-bc8b32538191"
      },
      "execution_count": 83,
      "outputs": [
        {
          "output_type": "stream",
          "name": "stdout",
          "text": [
            "0.7520394612028078\n"
          ]
        }
      ]
    },
    {
      "cell_type": "markdown",
      "source": [
        "**6.4 : Checking VIFs**"
      ],
      "metadata": {
        "id": "wLcTKnZFAcnh"
      }
    },
    {
      "cell_type": "code",
      "source": [
        "# Check for the VIF values of the feature variables. \n",
        "from statsmodels.stats.outliers_influence import variance_inflation_factor"
      ],
      "metadata": {
        "id": "C4Hk6pNqAe2f"
      },
      "execution_count": 84,
      "outputs": []
    },
    {
      "cell_type": "code",
      "source": [
        "# Create a dataframe that will contain the names of all the feature variables and their respective VIFs\n",
        "vif = pd.DataFrame()\n",
        "vif['Features'] = X_train[col].columns\n",
        "vif['VIF'] = [variance_inflation_factor(X_train[col].values, i) for i in range(X_train[col].shape[1])]\n",
        "vif['VIF'] = round(vif['VIF'], 2)\n",
        "vif = vif.sort_values(by = \"VIF\", ascending = False)\n",
        "vif"
      ],
      "metadata": {
        "colab": {
          "base_uri": "https://localhost:8080/",
          "height": 363
        },
        "id": "NaTb8bcvAe4w",
        "outputId": "c5512475-42d5-4f08-d532-014855d0d787"
      },
      "execution_count": 85,
      "outputs": [
        {
          "output_type": "execute_result",
          "data": {
            "text/plain": [
              "                       Features   VIF\n",
              "0                  Do Not Email  1.12\n",
              "3        Lead Source_Olark Chat  1.07\n",
              "4         Lead Source_Reference  1.06\n",
              "1   Total Time Spent on Website  1.03\n",
              "5  Lead Source_Welingak Website  1.01\n",
              "2                        Search  1.00\n",
              "6                Country_Kuwait  1.00\n",
              "7               Country_Nigeria  1.00\n",
              "8                 Country_Qatar  1.00\n",
              "9          Country_Saudi Arabia  1.00"
            ],
            "text/html": [
              "\n",
              "  <div id=\"df-d1385b74-fdd6-4aa9-9ccc-77f03da082a9\">\n",
              "    <div class=\"colab-df-container\">\n",
              "      <div>\n",
              "<style scoped>\n",
              "    .dataframe tbody tr th:only-of-type {\n",
              "        vertical-align: middle;\n",
              "    }\n",
              "\n",
              "    .dataframe tbody tr th {\n",
              "        vertical-align: top;\n",
              "    }\n",
              "\n",
              "    .dataframe thead th {\n",
              "        text-align: right;\n",
              "    }\n",
              "</style>\n",
              "<table border=\"1\" class=\"dataframe\">\n",
              "  <thead>\n",
              "    <tr style=\"text-align: right;\">\n",
              "      <th></th>\n",
              "      <th>Features</th>\n",
              "      <th>VIF</th>\n",
              "    </tr>\n",
              "  </thead>\n",
              "  <tbody>\n",
              "    <tr>\n",
              "      <th>0</th>\n",
              "      <td>Do Not Email</td>\n",
              "      <td>1.12</td>\n",
              "    </tr>\n",
              "    <tr>\n",
              "      <th>3</th>\n",
              "      <td>Lead Source_Olark Chat</td>\n",
              "      <td>1.07</td>\n",
              "    </tr>\n",
              "    <tr>\n",
              "      <th>4</th>\n",
              "      <td>Lead Source_Reference</td>\n",
              "      <td>1.06</td>\n",
              "    </tr>\n",
              "    <tr>\n",
              "      <th>1</th>\n",
              "      <td>Total Time Spent on Website</td>\n",
              "      <td>1.03</td>\n",
              "    </tr>\n",
              "    <tr>\n",
              "      <th>5</th>\n",
              "      <td>Lead Source_Welingak Website</td>\n",
              "      <td>1.01</td>\n",
              "    </tr>\n",
              "    <tr>\n",
              "      <th>2</th>\n",
              "      <td>Search</td>\n",
              "      <td>1.00</td>\n",
              "    </tr>\n",
              "    <tr>\n",
              "      <th>6</th>\n",
              "      <td>Country_Kuwait</td>\n",
              "      <td>1.00</td>\n",
              "    </tr>\n",
              "    <tr>\n",
              "      <th>7</th>\n",
              "      <td>Country_Nigeria</td>\n",
              "      <td>1.00</td>\n",
              "    </tr>\n",
              "    <tr>\n",
              "      <th>8</th>\n",
              "      <td>Country_Qatar</td>\n",
              "      <td>1.00</td>\n",
              "    </tr>\n",
              "    <tr>\n",
              "      <th>9</th>\n",
              "      <td>Country_Saudi Arabia</td>\n",
              "      <td>1.00</td>\n",
              "    </tr>\n",
              "  </tbody>\n",
              "</table>\n",
              "</div>\n",
              "      <button class=\"colab-df-convert\" onclick=\"convertToInteractive('df-d1385b74-fdd6-4aa9-9ccc-77f03da082a9')\"\n",
              "              title=\"Convert this dataframe to an interactive table.\"\n",
              "              style=\"display:none;\">\n",
              "        \n",
              "  <svg xmlns=\"http://www.w3.org/2000/svg\" height=\"24px\"viewBox=\"0 0 24 24\"\n",
              "       width=\"24px\">\n",
              "    <path d=\"M0 0h24v24H0V0z\" fill=\"none\"/>\n",
              "    <path d=\"M18.56 5.44l.94 2.06.94-2.06 2.06-.94-2.06-.94-.94-2.06-.94 2.06-2.06.94zm-11 1L8.5 8.5l.94-2.06 2.06-.94-2.06-.94L8.5 2.5l-.94 2.06-2.06.94zm10 10l.94 2.06.94-2.06 2.06-.94-2.06-.94-.94-2.06-.94 2.06-2.06.94z\"/><path d=\"M17.41 7.96l-1.37-1.37c-.4-.4-.92-.59-1.43-.59-.52 0-1.04.2-1.43.59L10.3 9.45l-7.72 7.72c-.78.78-.78 2.05 0 2.83L4 21.41c.39.39.9.59 1.41.59.51 0 1.02-.2 1.41-.59l7.78-7.78 2.81-2.81c.8-.78.8-2.07 0-2.86zM5.41 20L4 18.59l7.72-7.72 1.47 1.35L5.41 20z\"/>\n",
              "  </svg>\n",
              "      </button>\n",
              "      \n",
              "  <style>\n",
              "    .colab-df-container {\n",
              "      display:flex;\n",
              "      flex-wrap:wrap;\n",
              "      gap: 12px;\n",
              "    }\n",
              "\n",
              "    .colab-df-convert {\n",
              "      background-color: #E8F0FE;\n",
              "      border: none;\n",
              "      border-radius: 50%;\n",
              "      cursor: pointer;\n",
              "      display: none;\n",
              "      fill: #1967D2;\n",
              "      height: 32px;\n",
              "      padding: 0 0 0 0;\n",
              "      width: 32px;\n",
              "    }\n",
              "\n",
              "    .colab-df-convert:hover {\n",
              "      background-color: #E2EBFA;\n",
              "      box-shadow: 0px 1px 2px rgba(60, 64, 67, 0.3), 0px 1px 3px 1px rgba(60, 64, 67, 0.15);\n",
              "      fill: #174EA6;\n",
              "    }\n",
              "\n",
              "    [theme=dark] .colab-df-convert {\n",
              "      background-color: #3B4455;\n",
              "      fill: #D2E3FC;\n",
              "    }\n",
              "\n",
              "    [theme=dark] .colab-df-convert:hover {\n",
              "      background-color: #434B5C;\n",
              "      box-shadow: 0px 1px 3px 1px rgba(0, 0, 0, 0.15);\n",
              "      filter: drop-shadow(0px 1px 2px rgba(0, 0, 0, 0.3));\n",
              "      fill: #FFFFFF;\n",
              "    }\n",
              "  </style>\n",
              "\n",
              "      <script>\n",
              "        const buttonEl =\n",
              "          document.querySelector('#df-d1385b74-fdd6-4aa9-9ccc-77f03da082a9 button.colab-df-convert');\n",
              "        buttonEl.style.display =\n",
              "          google.colab.kernel.accessAllowed ? 'block' : 'none';\n",
              "\n",
              "        async function convertToInteractive(key) {\n",
              "          const element = document.querySelector('#df-d1385b74-fdd6-4aa9-9ccc-77f03da082a9');\n",
              "          const dataTable =\n",
              "            await google.colab.kernel.invokeFunction('convertToInteractive',\n",
              "                                                     [key], {});\n",
              "          if (!dataTable) return;\n",
              "\n",
              "          const docLinkHtml = 'Like what you see? Visit the ' +\n",
              "            '<a target=\"_blank\" href=https://colab.research.google.com/notebooks/data_table.ipynb>data table notebook</a>'\n",
              "            + ' to learn more about interactive tables.';\n",
              "          element.innerHTML = '';\n",
              "          dataTable['output_type'] = 'display_data';\n",
              "          await google.colab.output.renderOutput(dataTable, element);\n",
              "          const docLink = document.createElement('div');\n",
              "          docLink.innerHTML = docLinkHtml;\n",
              "          element.appendChild(docLink);\n",
              "        }\n",
              "      </script>\n",
              "    </div>\n",
              "  </div>\n",
              "  "
            ]
          },
          "metadata": {},
          "execution_count": 85
        }
      ]
    },
    {
      "cell_type": "code",
      "source": [
        "#VIFs of all variable are acceptable and hence none of them to be dropped."
      ],
      "metadata": {
        "id": "yXeB8eEJAe7c"
      },
      "execution_count": 86,
      "outputs": []
    },
    {
      "cell_type": "markdown",
      "source": [
        "**6.5 : Metrics beyond simply accuracy**"
      ],
      "metadata": {
        "id": "sNWEXRulA6Iv"
      }
    },
    {
      "cell_type": "code",
      "source": [
        "TP = confusion[1,1] # true positive \n",
        "TN = confusion[0,0] # true negatives\n",
        "FP = confusion[0,1] # false positives\n",
        "FN = confusion[1,0] # false negativesTP = confusion[1,1] # true positive \n",
        "TN = confusion[0,0] # true negatives\n",
        "FP = confusion[0,1] # false positives\n",
        "FN = confusion[1,0] # false negatives"
      ],
      "metadata": {
        "id": "3rWQM-vmAe9x"
      },
      "execution_count": 87,
      "outputs": []
    },
    {
      "cell_type": "code",
      "source": [
        "# Let's see the sensitivity of our logistic regression model\n",
        "TP / float(TP+FN)"
      ],
      "metadata": {
        "colab": {
          "base_uri": "https://localhost:8080/"
        },
        "id": "nON_1d7GAfAo",
        "outputId": "aa7de3ef-5228-4dbc-9cb5-51ff4f50c290"
      },
      "execution_count": 88,
      "outputs": [
        {
          "output_type": "execute_result",
          "data": {
            "text/plain": [
              "0.6285178236397748"
            ]
          },
          "metadata": {},
          "execution_count": 88
        }
      ]
    },
    {
      "cell_type": "code",
      "source": [
        "# Let us calculate specificity\n",
        "TN / float(TN+FP)"
      ],
      "metadata": {
        "colab": {
          "base_uri": "https://localhost:8080/"
        },
        "id": "SViD3A2OBmtx",
        "outputId": "408bf6ea-42a0-44d8-d075-afc563661eef"
      },
      "execution_count": 89,
      "outputs": [
        {
          "output_type": "execute_result",
          "data": {
            "text/plain": [
              "0.8359350111500478"
            ]
          },
          "metadata": {},
          "execution_count": 89
        }
      ]
    },
    {
      "cell_type": "code",
      "source": [
        "# Calculate false postive rate\n",
        "print(FP/ float(TN+FP))"
      ],
      "metadata": {
        "colab": {
          "base_uri": "https://localhost:8080/"
        },
        "id": "w__I3SPyBq5f",
        "outputId": "1554649e-f1bb-40ef-e56f-e611ed67dd18"
      },
      "execution_count": 90,
      "outputs": [
        {
          "output_type": "stream",
          "name": "stdout",
          "text": [
            "0.16406498884995221\n"
          ]
        }
      ]
    },
    {
      "cell_type": "code",
      "source": [
        "# positive predictive value \n",
        "print (TP / float(TP+FP))"
      ],
      "metadata": {
        "colab": {
          "base_uri": "https://localhost:8080/"
        },
        "id": "8c9mG-OzB1tF",
        "outputId": "48657ed0-5b91-4501-ea87-9d15dfcb0298"
      },
      "execution_count": 91,
      "outputs": [
        {
          "output_type": "stream",
          "name": "stdout",
          "text": [
            "0.7223719676549866\n"
          ]
        }
      ]
    },
    {
      "cell_type": "code",
      "source": [
        "# Negative predictive value\n",
        "print (TN / float(TN+ FN))"
      ],
      "metadata": {
        "colab": {
          "base_uri": "https://localhost:8080/"
        },
        "id": "mU3dC1v0B61t",
        "outputId": "a70e6857-decb-4f84-fa57-32113759b22b"
      },
      "execution_count": 92,
      "outputs": [
        {
          "output_type": "stream",
          "name": "stdout",
          "text": [
            "0.7681498829039812\n"
          ]
        }
      ]
    },
    {
      "cell_type": "markdown",
      "source": [
        "**6.6 : Finding Optimal Cutoff Point**"
      ],
      "metadata": {
        "id": "PLk8_88jCCmm"
      }
    },
    {
      "cell_type": "code",
      "source": [
        "# Let's create columns with different probability cutoffs \n",
        "numbers = [float(x)/10 for x in range(10)]\n",
        "for i in numbers:\n",
        "    Y_train_pred_final[i]= Y_train_pred_final.Convertion_prob.map(lambda x: 1 if x > i else 0)\n",
        "Y_train_pred_final.head()"
      ],
      "metadata": {
        "colab": {
          "base_uri": "https://localhost:8080/",
          "height": 206
        },
        "id": "zDMhGccECUPo",
        "outputId": "85dd7578-69a8-4b94-b91d-d1b120d79d2b"
      },
      "execution_count": 93,
      "outputs": [
        {
          "output_type": "execute_result",
          "data": {
            "text/plain": [
              "   Potential_Convertion  Convertion_prob  predicted  0.0  0.1  0.2  0.3  0.4  \\\n",
              "0                     1         0.356174          0    1    1    1    1    0   \n",
              "1                     0         0.255079          0    1    1    1    0    0   \n",
              "2                     0         0.171656          0    1    1    0    0    0   \n",
              "3                     1         0.192987          0    1    1    0    0    0   \n",
              "4                     1         0.674184          1    1    1    1    1    1   \n",
              "\n",
              "   0.5  0.6  0.7  0.8  0.9  \n",
              "0    0    0    0    0    0  \n",
              "1    0    0    0    0    0  \n",
              "2    0    0    0    0    0  \n",
              "3    0    0    0    0    0  \n",
              "4    1    1    0    0    0  "
            ],
            "text/html": [
              "\n",
              "  <div id=\"df-ed8f64e0-53f8-479e-9e27-ec12a644c90b\">\n",
              "    <div class=\"colab-df-container\">\n",
              "      <div>\n",
              "<style scoped>\n",
              "    .dataframe tbody tr th:only-of-type {\n",
              "        vertical-align: middle;\n",
              "    }\n",
              "\n",
              "    .dataframe tbody tr th {\n",
              "        vertical-align: top;\n",
              "    }\n",
              "\n",
              "    .dataframe thead th {\n",
              "        text-align: right;\n",
              "    }\n",
              "</style>\n",
              "<table border=\"1\" class=\"dataframe\">\n",
              "  <thead>\n",
              "    <tr style=\"text-align: right;\">\n",
              "      <th></th>\n",
              "      <th>Potential_Convertion</th>\n",
              "      <th>Convertion_prob</th>\n",
              "      <th>predicted</th>\n",
              "      <th>0.0</th>\n",
              "      <th>0.1</th>\n",
              "      <th>0.2</th>\n",
              "      <th>0.3</th>\n",
              "      <th>0.4</th>\n",
              "      <th>0.5</th>\n",
              "      <th>0.6</th>\n",
              "      <th>0.7</th>\n",
              "      <th>0.8</th>\n",
              "      <th>0.9</th>\n",
              "    </tr>\n",
              "  </thead>\n",
              "  <tbody>\n",
              "    <tr>\n",
              "      <th>0</th>\n",
              "      <td>1</td>\n",
              "      <td>0.356174</td>\n",
              "      <td>0</td>\n",
              "      <td>1</td>\n",
              "      <td>1</td>\n",
              "      <td>1</td>\n",
              "      <td>1</td>\n",
              "      <td>0</td>\n",
              "      <td>0</td>\n",
              "      <td>0</td>\n",
              "      <td>0</td>\n",
              "      <td>0</td>\n",
              "      <td>0</td>\n",
              "    </tr>\n",
              "    <tr>\n",
              "      <th>1</th>\n",
              "      <td>0</td>\n",
              "      <td>0.255079</td>\n",
              "      <td>0</td>\n",
              "      <td>1</td>\n",
              "      <td>1</td>\n",
              "      <td>1</td>\n",
              "      <td>0</td>\n",
              "      <td>0</td>\n",
              "      <td>0</td>\n",
              "      <td>0</td>\n",
              "      <td>0</td>\n",
              "      <td>0</td>\n",
              "      <td>0</td>\n",
              "    </tr>\n",
              "    <tr>\n",
              "      <th>2</th>\n",
              "      <td>0</td>\n",
              "      <td>0.171656</td>\n",
              "      <td>0</td>\n",
              "      <td>1</td>\n",
              "      <td>1</td>\n",
              "      <td>0</td>\n",
              "      <td>0</td>\n",
              "      <td>0</td>\n",
              "      <td>0</td>\n",
              "      <td>0</td>\n",
              "      <td>0</td>\n",
              "      <td>0</td>\n",
              "      <td>0</td>\n",
              "    </tr>\n",
              "    <tr>\n",
              "      <th>3</th>\n",
              "      <td>1</td>\n",
              "      <td>0.192987</td>\n",
              "      <td>0</td>\n",
              "      <td>1</td>\n",
              "      <td>1</td>\n",
              "      <td>0</td>\n",
              "      <td>0</td>\n",
              "      <td>0</td>\n",
              "      <td>0</td>\n",
              "      <td>0</td>\n",
              "      <td>0</td>\n",
              "      <td>0</td>\n",
              "      <td>0</td>\n",
              "    </tr>\n",
              "    <tr>\n",
              "      <th>4</th>\n",
              "      <td>1</td>\n",
              "      <td>0.674184</td>\n",
              "      <td>1</td>\n",
              "      <td>1</td>\n",
              "      <td>1</td>\n",
              "      <td>1</td>\n",
              "      <td>1</td>\n",
              "      <td>1</td>\n",
              "      <td>1</td>\n",
              "      <td>1</td>\n",
              "      <td>0</td>\n",
              "      <td>0</td>\n",
              "      <td>0</td>\n",
              "    </tr>\n",
              "  </tbody>\n",
              "</table>\n",
              "</div>\n",
              "      <button class=\"colab-df-convert\" onclick=\"convertToInteractive('df-ed8f64e0-53f8-479e-9e27-ec12a644c90b')\"\n",
              "              title=\"Convert this dataframe to an interactive table.\"\n",
              "              style=\"display:none;\">\n",
              "        \n",
              "  <svg xmlns=\"http://www.w3.org/2000/svg\" height=\"24px\"viewBox=\"0 0 24 24\"\n",
              "       width=\"24px\">\n",
              "    <path d=\"M0 0h24v24H0V0z\" fill=\"none\"/>\n",
              "    <path d=\"M18.56 5.44l.94 2.06.94-2.06 2.06-.94-2.06-.94-.94-2.06-.94 2.06-2.06.94zm-11 1L8.5 8.5l.94-2.06 2.06-.94-2.06-.94L8.5 2.5l-.94 2.06-2.06.94zm10 10l.94 2.06.94-2.06 2.06-.94-2.06-.94-.94-2.06-.94 2.06-2.06.94z\"/><path d=\"M17.41 7.96l-1.37-1.37c-.4-.4-.92-.59-1.43-.59-.52 0-1.04.2-1.43.59L10.3 9.45l-7.72 7.72c-.78.78-.78 2.05 0 2.83L4 21.41c.39.39.9.59 1.41.59.51 0 1.02-.2 1.41-.59l7.78-7.78 2.81-2.81c.8-.78.8-2.07 0-2.86zM5.41 20L4 18.59l7.72-7.72 1.47 1.35L5.41 20z\"/>\n",
              "  </svg>\n",
              "      </button>\n",
              "      \n",
              "  <style>\n",
              "    .colab-df-container {\n",
              "      display:flex;\n",
              "      flex-wrap:wrap;\n",
              "      gap: 12px;\n",
              "    }\n",
              "\n",
              "    .colab-df-convert {\n",
              "      background-color: #E8F0FE;\n",
              "      border: none;\n",
              "      border-radius: 50%;\n",
              "      cursor: pointer;\n",
              "      display: none;\n",
              "      fill: #1967D2;\n",
              "      height: 32px;\n",
              "      padding: 0 0 0 0;\n",
              "      width: 32px;\n",
              "    }\n",
              "\n",
              "    .colab-df-convert:hover {\n",
              "      background-color: #E2EBFA;\n",
              "      box-shadow: 0px 1px 2px rgba(60, 64, 67, 0.3), 0px 1px 3px 1px rgba(60, 64, 67, 0.15);\n",
              "      fill: #174EA6;\n",
              "    }\n",
              "\n",
              "    [theme=dark] .colab-df-convert {\n",
              "      background-color: #3B4455;\n",
              "      fill: #D2E3FC;\n",
              "    }\n",
              "\n",
              "    [theme=dark] .colab-df-convert:hover {\n",
              "      background-color: #434B5C;\n",
              "      box-shadow: 0px 1px 3px 1px rgba(0, 0, 0, 0.15);\n",
              "      filter: drop-shadow(0px 1px 2px rgba(0, 0, 0, 0.3));\n",
              "      fill: #FFFFFF;\n",
              "    }\n",
              "  </style>\n",
              "\n",
              "      <script>\n",
              "        const buttonEl =\n",
              "          document.querySelector('#df-ed8f64e0-53f8-479e-9e27-ec12a644c90b button.colab-df-convert');\n",
              "        buttonEl.style.display =\n",
              "          google.colab.kernel.accessAllowed ? 'block' : 'none';\n",
              "\n",
              "        async function convertToInteractive(key) {\n",
              "          const element = document.querySelector('#df-ed8f64e0-53f8-479e-9e27-ec12a644c90b');\n",
              "          const dataTable =\n",
              "            await google.colab.kernel.invokeFunction('convertToInteractive',\n",
              "                                                     [key], {});\n",
              "          if (!dataTable) return;\n",
              "\n",
              "          const docLinkHtml = 'Like what you see? Visit the ' +\n",
              "            '<a target=\"_blank\" href=https://colab.research.google.com/notebooks/data_table.ipynb>data table notebook</a>'\n",
              "            + ' to learn more about interactive tables.';\n",
              "          element.innerHTML = '';\n",
              "          dataTable['output_type'] = 'display_data';\n",
              "          await google.colab.output.renderOutput(dataTable, element);\n",
              "          const docLink = document.createElement('div');\n",
              "          docLink.innerHTML = docLinkHtml;\n",
              "          element.appendChild(docLink);\n",
              "        }\n",
              "      </script>\n",
              "    </div>\n",
              "  </div>\n",
              "  "
            ]
          },
          "metadata": {},
          "execution_count": 93
        }
      ]
    },
    {
      "cell_type": "code",
      "source": [
        "# Now let's calculate accuracy sensitivity and specificity for various probability cutoffs.\n",
        "cutoff_df = pd.DataFrame( columns = ['prob','accuracy','sensi','speci'])\n",
        "from sklearn.metrics import confusion_matrix\n",
        "\n",
        "# TP = confusion[1,1] # true positive \n",
        "# TN = confusion[0,0] # true negatives\n",
        "# FP = confusion[0,1] # false positives\n",
        "# FN = confusion[1,0] # false negatives\n",
        "\n",
        "num = [0.0,0.1,0.2,0.3,0.4,0.5,0.6,0.7,0.8,0.9]\n",
        "for i in num:\n",
        "    cm1 = metrics.confusion_matrix(Y_train_pred_final.Potential_Convertion, Y_train_pred_final[i])\n",
        "    total1=sum(sum(cm1))\n",
        "    accuracy = (cm1[0,0]+cm1[1,1])/total1\n",
        "    \n",
        "    speci = cm1[0,0]/(cm1[0,0]+cm1[0,1])\n",
        "    sensi = cm1[1,1]/(cm1[1,0]+cm1[1,1])\n",
        "    cutoff_df.loc[i] =[ i ,accuracy,sensi,speci]\n",
        "print(cutoff_df)"
      ],
      "metadata": {
        "colab": {
          "base_uri": "https://localhost:8080/"
        },
        "id": "z1J-ZkFmCUTD",
        "outputId": "2ab81c45-6555-4689-c4a9-b6292000b2b1"
      },
      "execution_count": 94,
      "outputs": [
        {
          "output_type": "stream",
          "name": "stdout",
          "text": [
            "     prob  accuracy     sensi     speci\n",
            "0.0   0.0  0.404477  1.000000  0.000000\n",
            "0.1   0.1  0.459685  0.995310  0.095890\n",
            "0.2   0.2  0.607475  0.897749  0.410322\n",
            "0.3   0.3  0.756403  0.809099  0.720612\n",
            "0.4   0.4  0.771770  0.756567  0.782096\n",
            "0.5   0.5  0.752039  0.628518  0.835935\n",
            "0.6   0.6  0.723202  0.494841  0.878305\n",
            "0.7   0.7  0.686208  0.336773  0.923543\n",
            "0.8   0.8  0.653766  0.188086  0.970054\n",
            "0.9   0.9  0.613925  0.056754  0.992354\n"
          ]
        }
      ]
    },
    {
      "cell_type": "code",
      "source": [
        "# Let's plot accuracy sensitivity and specificity for various probabilities.\n",
        "cutoff_df.plot.line(x='prob', y=['accuracy','sensi','speci'])\n",
        "plt.show()"
      ],
      "metadata": {
        "colab": {
          "base_uri": "https://localhost:8080/",
          "height": 279
        },
        "id": "JTAhbrWxDIcB",
        "outputId": "6c1c0f48-174a-4ae5-ab24-b2afff0311fe"
      },
      "execution_count": 95,
      "outputs": [
        {
          "output_type": "display_data",
          "data": {
            "text/plain": [
              "<Figure size 432x288 with 1 Axes>"
            ],
            "image/png": "[encoded data removed]"
          },
          "metadata": {
            "needs_background": "light"
          }
        }
      ]
    },
    {
      "cell_type": "markdown",
      "source": [
        "From the curve above, 0.4 is the optimum point to take it as a cutoff probability."
      ],
      "metadata": {
        "id": "tHC44tllP0DE"
      }
    },
    {
      "cell_type": "code",
      "source": [
        "Y_train_pred_final['final_predicted'] = Y_train_pred_final.Convertion_prob.map( lambda x: 1 if x > 0.4 else 0)\n",
        "\n",
        "Y_train_pred_final.head()"
      ],
      "metadata": {
        "colab": {
          "base_uri": "https://localhost:8080/",
          "height": 206
        },
        "id": "LEWCVnRvQD1O",
        "outputId": "ef776155-4eee-4621-b3c9-20ab9cd59a78"
      },
      "execution_count": 96,
      "outputs": [
        {
          "output_type": "execute_result",
          "data": {
            "text/plain": [
              "   Potential_Convertion  Convertion_prob  predicted  0.0  0.1  0.2  0.3  0.4  \\\n",
              "0                     1         0.356174          0    1    1    1    1    0   \n",
              "1                     0         0.255079          0    1    1    1    0    0   \n",
              "2                     0         0.171656          0    1    1    0    0    0   \n",
              "3                     1         0.192987          0    1    1    0    0    0   \n",
              "4                     1         0.674184          1    1    1    1    1    1   \n",
              "\n",
              "   0.5  0.6  0.7  0.8  0.9  final_predicted  \n",
              "0    0    0    0    0    0                0  \n",
              "1    0    0    0    0    0                0  \n",
              "2    0    0    0    0    0                0  \n",
              "3    0    0    0    0    0                0  \n",
              "4    1    1    0    0    0                1  "
            ],
            "text/html": [
              "\n",
              "  <div id=\"df-4872659f-06dd-45dd-8274-a218ed50b8b9\">\n",
              "    <div class=\"colab-df-container\">\n",
              "      <div>\n",
              "<style scoped>\n",
              "    .dataframe tbody tr th:only-of-type {\n",
              "        vertical-align: middle;\n",
              "    }\n",
              "\n",
              "    .dataframe tbody tr th {\n",
              "        vertical-align: top;\n",
              "    }\n",
              "\n",
              "    .dataframe thead th {\n",
              "        text-align: right;\n",
              "    }\n",
              "</style>\n",
              "<table border=\"1\" class=\"dataframe\">\n",
              "  <thead>\n",
              "    <tr style=\"text-align: right;\">\n",
              "      <th></th>\n",
              "      <th>Potential_Convertion</th>\n",
              "      <th>Convertion_prob</th>\n",
              "      <th>predicted</th>\n",
              "      <th>0.0</th>\n",
              "      <th>0.1</th>\n",
              "      <th>0.2</th>\n",
              "      <th>0.3</th>\n",
              "      <th>0.4</th>\n",
              "      <th>0.5</th>\n",
              "      <th>0.6</th>\n",
              "      <th>0.7</th>\n",
              "      <th>0.8</th>\n",
              "      <th>0.9</th>\n",
              "      <th>final_predicted</th>\n",
              "    </tr>\n",
              "  </thead>\n",
              "  <tbody>\n",
              "    <tr>\n",
              "      <th>0</th>\n",
              "      <td>1</td>\n",
              "      <td>0.356174</td>\n",
              "      <td>0</td>\n",
              "      <td>1</td>\n",
              "      <td>1</td>\n",
              "      <td>1</td>\n",
              "      <td>1</td>\n",
              "      <td>0</td>\n",
              "      <td>0</td>\n",
              "      <td>0</td>\n",
              "      <td>0</td>\n",
              "      <td>0</td>\n",
              "      <td>0</td>\n",
              "      <td>0</td>\n",
              "    </tr>\n",
              "    <tr>\n",
              "      <th>1</th>\n",
              "      <td>0</td>\n",
              "      <td>0.255079</td>\n",
              "      <td>0</td>\n",
              "      <td>1</td>\n",
              "      <td>1</td>\n",
              "      <td>1</td>\n",
              "      <td>0</td>\n",
              "      <td>0</td>\n",
              "      <td>0</td>\n",
              "      <td>0</td>\n",
              "      <td>0</td>\n",
              "      <td>0</td>\n",
              "      <td>0</td>\n",
              "      <td>0</td>\n",
              "    </tr>\n",
              "    <tr>\n",
              "      <th>2</th>\n",
              "      <td>0</td>\n",
              "      <td>0.171656</td>\n",
              "      <td>0</td>\n",
              "      <td>1</td>\n",
              "      <td>1</td>\n",
              "      <td>0</td>\n",
              "      <td>0</td>\n",
              "      <td>0</td>\n",
              "      <td>0</td>\n",
              "      <td>0</td>\n",
              "      <td>0</td>\n",
              "      <td>0</td>\n",
              "      <td>0</td>\n",
              "      <td>0</td>\n",
              "    </tr>\n",
              "    <tr>\n",
              "      <th>3</th>\n",
              "      <td>1</td>\n",
              "      <td>0.192987</td>\n",
              "      <td>0</td>\n",
              "      <td>1</td>\n",
              "      <td>1</td>\n",
              "      <td>0</td>\n",
              "      <td>0</td>\n",
              "      <td>0</td>\n",
              "      <td>0</td>\n",
              "      <td>0</td>\n",
              "      <td>0</td>\n",
              "      <td>0</td>\n",
              "      <td>0</td>\n",
              "      <td>0</td>\n",
              "    </tr>\n",
              "    <tr>\n",
              "      <th>4</th>\n",
              "      <td>1</td>\n",
              "      <td>0.674184</td>\n",
              "      <td>1</td>\n",
              "      <td>1</td>\n",
              "      <td>1</td>\n",
              "      <td>1</td>\n",
              "      <td>1</td>\n",
              "      <td>1</td>\n",
              "      <td>1</td>\n",
              "      <td>1</td>\n",
              "      <td>0</td>\n",
              "      <td>0</td>\n",
              "      <td>0</td>\n",
              "      <td>1</td>\n",
              "    </tr>\n",
              "  </tbody>\n",
              "</table>\n",
              "</div>\n",
              "      <button class=\"colab-df-convert\" onclick=\"convertToInteractive('df-4872659f-06dd-45dd-8274-a218ed50b8b9')\"\n",
              "              title=\"Convert this dataframe to an interactive table.\"\n",
              "              style=\"display:none;\">\n",
              "        \n",
              "  <svg xmlns=\"http://www.w3.org/2000/svg\" height=\"24px\"viewBox=\"0 0 24 24\"\n",
              "       width=\"24px\">\n",
              "    <path d=\"M0 0h24v24H0V0z\" fill=\"none\"/>\n",
              "    <path d=\"M18.56 5.44l.94 2.06.94-2.06 2.06-.94-2.06-.94-.94-2.06-.94 2.06-2.06.94zm-11 1L8.5 8.5l.94-2.06 2.06-.94-2.06-.94L8.5 2.5l-.94 2.06-2.06.94zm10 10l.94 2.06.94-2.06 2.06-.94-2.06-.94-.94-2.06-.94 2.06-2.06.94z\"/><path d=\"M17.41 7.96l-1.37-1.37c-.4-.4-.92-.59-1.43-.59-.52 0-1.04.2-1.43.59L10.3 9.45l-7.72 7.72c-.78.78-.78 2.05 0 2.83L4 21.41c.39.39.9.59 1.41.59.51 0 1.02-.2 1.41-.59l7.78-7.78 2.81-2.81c.8-.78.8-2.07 0-2.86zM5.41 20L4 18.59l7.72-7.72 1.47 1.35L5.41 20z\"/>\n",
              "  </svg>\n",
              "      </button>\n",
              "      \n",
              "  <style>\n",
              "    .colab-df-container {\n",
              "      display:flex;\n",
              "      flex-wrap:wrap;\n",
              "      gap: 12px;\n",
              "    }\n",
              "\n",
              "    .colab-df-convert {\n",
              "      background-color: #E8F0FE;\n",
              "      border: none;\n",
              "      border-radius: 50%;\n",
              "      cursor: pointer;\n",
              "      display: none;\n",
              "      fill: #1967D2;\n",
              "      height: 32px;\n",
              "      padding: 0 0 0 0;\n",
              "      width: 32px;\n",
              "    }\n",
              "\n",
              "    .colab-df-convert:hover {\n",
              "      background-color: #E2EBFA;\n",
              "      box-shadow: 0px 1px 2px rgba(60, 64, 67, 0.3), 0px 1px 3px 1px rgba(60, 64, 67, 0.15);\n",
              "      fill: #174EA6;\n",
              "    }\n",
              "\n",
              "    [theme=dark] .colab-df-convert {\n",
              "      background-color: #3B4455;\n",
              "      fill: #D2E3FC;\n",
              "    }\n",
              "\n",
              "    [theme=dark] .colab-df-convert:hover {\n",
              "      background-color: #434B5C;\n",
              "      box-shadow: 0px 1px 3px 1px rgba(0, 0, 0, 0.15);\n",
              "      filter: drop-shadow(0px 1px 2px rgba(0, 0, 0, 0.3));\n",
              "      fill: #FFFFFF;\n",
              "    }\n",
              "  </style>\n",
              "\n",
              "      <script>\n",
              "        const buttonEl =\n",
              "          document.querySelector('#df-4872659f-06dd-45dd-8274-a218ed50b8b9 button.colab-df-convert');\n",
              "        buttonEl.style.display =\n",
              "          google.colab.kernel.accessAllowed ? 'block' : 'none';\n",
              "\n",
              "        async function convertToInteractive(key) {\n",
              "          const element = document.querySelector('#df-4872659f-06dd-45dd-8274-a218ed50b8b9');\n",
              "          const dataTable =\n",
              "            await google.colab.kernel.invokeFunction('convertToInteractive',\n",
              "                                                     [key], {});\n",
              "          if (!dataTable) return;\n",
              "\n",
              "          const docLinkHtml = 'Like what you see? Visit the ' +\n",
              "            '<a target=\"_blank\" href=https://colab.research.google.com/notebooks/data_table.ipynb>data table notebook</a>'\n",
              "            + ' to learn more about interactive tables.';\n",
              "          element.innerHTML = '';\n",
              "          dataTable['output_type'] = 'display_data';\n",
              "          await google.colab.output.renderOutput(dataTable, element);\n",
              "          const docLink = document.createElement('div');\n",
              "          docLink.innerHTML = docLinkHtml;\n",
              "          element.appendChild(docLink);\n",
              "        }\n",
              "      </script>\n",
              "    </div>\n",
              "  </div>\n",
              "  "
            ]
          },
          "metadata": {},
          "execution_count": 96
        }
      ]
    },
    {
      "cell_type": "markdown",
      "source": [
        "**6.7 : Finding the performance measures**"
      ],
      "metadata": {
        "id": "LSfx7WFOCz1v"
      }
    },
    {
      "cell_type": "code",
      "source": [
        "# Let's check the overall accuracy.\n",
        "metrics.accuracy_score(Y_train_pred_final.Potential_Convertion, Y_train_pred_final.final_predicted)"
      ],
      "metadata": {
        "colab": {
          "base_uri": "https://localhost:8080/"
        },
        "id": "fLaMSykWQmlh",
        "outputId": "39cd52e5-dd67-4000-b23d-259b49f6244d"
      },
      "execution_count": 97,
      "outputs": [
        {
          "output_type": "execute_result",
          "data": {
            "text/plain": [
              "0.771770062606716"
            ]
          },
          "metadata": {},
          "execution_count": 97
        }
      ]
    },
    {
      "cell_type": "code",
      "source": [
        "confusion2 = metrics.confusion_matrix(Y_train_pred_final.Potential_Convertion, Y_train_pred_final.final_predicted )\n",
        "confusion2"
      ],
      "metadata": {
        "colab": {
          "base_uri": "https://localhost:8080/"
        },
        "id": "1lA1fGsCQ34T",
        "outputId": "1f1e73b9-7f8e-4731-ddf9-9f0358902542"
      },
      "execution_count": 98,
      "outputs": [
        {
          "output_type": "execute_result",
          "data": {
            "text/plain": [
              "array([[2455,  684],\n",
              "       [ 519, 1613]])"
            ]
          },
          "metadata": {},
          "execution_count": 98
        }
      ]
    },
    {
      "cell_type": "code",
      "source": [
        "TP = confusion2[1,1] # true positive \n",
        "TN = confusion2[0,0] # true negatives\n",
        "FP = confusion2[0,1] # false positives\n",
        "FN = confusion2[1,0] # false negatives"
      ],
      "metadata": {
        "id": "ChbhzRgHRGas"
      },
      "execution_count": 99,
      "outputs": []
    },
    {
      "cell_type": "code",
      "source": [
        "# Let's see the sensitivity of our logistic regression model\n",
        "TP / float(TP+FN)"
      ],
      "metadata": {
        "colab": {
          "base_uri": "https://localhost:8080/"
        },
        "id": "o7lApCuoRGdQ",
        "outputId": "43351695-e368-48ac-b361-326368cb59d6"
      },
      "execution_count": 100,
      "outputs": [
        {
          "output_type": "execute_result",
          "data": {
            "text/plain": [
              "0.7565666041275797"
            ]
          },
          "metadata": {},
          "execution_count": 100
        }
      ]
    },
    {
      "cell_type": "code",
      "source": [
        "# Let us calculate specificity\n",
        "TN / float(TN+FP)"
      ],
      "metadata": {
        "colab": {
          "base_uri": "https://localhost:8080/"
        },
        "id": "GwzmNHaURGfz",
        "outputId": "b17d228e-0498-4233-83b9-d8c7f7f1460a"
      },
      "execution_count": 101,
      "outputs": [
        {
          "output_type": "execute_result",
          "data": {
            "text/plain": [
              "0.7820962089837528"
            ]
          },
          "metadata": {},
          "execution_count": 101
        }
      ]
    },
    {
      "cell_type": "code",
      "source": [
        "# Calculate false postive rate\n",
        "print(FP/ float(TN+FP))"
      ],
      "metadata": {
        "colab": {
          "base_uri": "https://localhost:8080/"
        },
        "id": "tf2brD1fRGiI",
        "outputId": "6f21f1a4-0c2c-4f2f-e632-d0b6ecbe7f79"
      },
      "execution_count": 102,
      "outputs": [
        {
          "output_type": "stream",
          "name": "stdout",
          "text": [
            "0.2179037910162472\n"
          ]
        }
      ]
    },
    {
      "cell_type": "code",
      "source": [
        "# Positive predictive value \n",
        "print (TP / float(TP+FP))"
      ],
      "metadata": {
        "colab": {
          "base_uri": "https://localhost:8080/"
        },
        "id": "bzHiDWlKROxA",
        "outputId": "0bf0141f-bd7d-400b-a251-a452ed6e7064"
      },
      "execution_count": 103,
      "outputs": [
        {
          "output_type": "stream",
          "name": "stdout",
          "text": [
            "0.7022202873313017\n"
          ]
        }
      ]
    },
    {
      "cell_type": "code",
      "source": [
        "# Negative predictive value\n",
        "print (TN / float(TN+ FN))"
      ],
      "metadata": {
        "colab": {
          "base_uri": "https://localhost:8080/"
        },
        "id": "WZ4RhevTROzk",
        "outputId": "82663ef1-8333-4057-8ddd-9439bebe59d4"
      },
      "execution_count": 104,
      "outputs": [
        {
          "output_type": "stream",
          "name": "stdout",
          "text": [
            "0.8254875588433087\n"
          ]
        }
      ]
    },
    {
      "cell_type": "markdown",
      "source": [
        "Precision and Recall"
      ],
      "metadata": {
        "id": "bEP1jmNuRcs1"
      }
    },
    {
      "cell_type": "code",
      "source": [
        "#Looking at the confusion matrix again\n",
        "confusion = metrics.confusion_matrix(Y_train_pred_final.Potential_Convertion, Y_train_pred_final.predicted )\n",
        "confusion"
      ],
      "metadata": {
        "colab": {
          "base_uri": "https://localhost:8080/"
        },
        "id": "20TLYlDcRO2M",
        "outputId": "dbf43ed0-f3ac-4fc9-b92e-7a08e06cf7cf"
      },
      "execution_count": 105,
      "outputs": [
        {
          "output_type": "execute_result",
          "data": {
            "text/plain": [
              "array([[2624,  515],\n",
              "       [ 792, 1340]])"
            ]
          },
          "metadata": {},
          "execution_count": 105
        }
      ]
    },
    {
      "cell_type": "markdown",
      "source": [
        "Precision\n",
        "TP / TP + FP"
      ],
      "metadata": {
        "id": "BPb2yqfTRxs2"
      }
    },
    {
      "cell_type": "code",
      "source": [
        "confusion[1,1]/(confusion[0,1]+confusion[1,1])"
      ],
      "metadata": {
        "colab": {
          "base_uri": "https://localhost:8080/"
        },
        "id": "cYx4cbQ3RO5C",
        "outputId": "b4f13bc9-a0f2-41ef-c24d-49cf952c6a27"
      },
      "execution_count": 106,
      "outputs": [
        {
          "output_type": "execute_result",
          "data": {
            "text/plain": [
              "0.7223719676549866"
            ]
          },
          "metadata": {},
          "execution_count": 106
        }
      ]
    },
    {
      "cell_type": "markdown",
      "source": [
        "Recall\n",
        "TP / TP + FN"
      ],
      "metadata": {
        "id": "hRCtqYHlR929"
      }
    },
    {
      "cell_type": "code",
      "source": [
        "confusion[1,1]/(confusion[1,0]+confusion[1,1])"
      ],
      "metadata": {
        "colab": {
          "base_uri": "https://localhost:8080/"
        },
        "id": "419wi7f2SBWM",
        "outputId": "8cb96171-9165-41f6-da8b-433627aafde7"
      },
      "execution_count": 107,
      "outputs": [
        {
          "output_type": "execute_result",
          "data": {
            "text/plain": [
              "0.6285178236397748"
            ]
          },
          "metadata": {},
          "execution_count": 107
        }
      ]
    },
    {
      "cell_type": "markdown",
      "source": [
        "**6.8 : Making predictions on the test set**"
      ],
      "metadata": {
        "id": "QEN8RIK-STjd"
      }
    },
    {
      "cell_type": "code",
      "source": [
        "X_test[['TotalVisits', 'Total Time Spent on Website', 'Page Views Per Visit']] = scaler.fit_transform(X_test[['TotalVisits', 'Total Time Spent on Website', 'Page Views Per Visit']])"
      ],
      "metadata": {
        "id": "c6hF5KmRSZw5"
      },
      "execution_count": 119,
      "outputs": []
    },
    {
      "cell_type": "code",
      "source": [
        "X_test[col].head()"
      ],
      "metadata": {
        "colab": {
          "base_uri": "https://localhost:8080/",
          "height": 285
        },
        "id": "S41GLWL2TOl4",
        "outputId": "bb024344-9517-4906-92c2-55196313ffa4"
      },
      "execution_count": 130,
      "outputs": [
        {
          "output_type": "execute_result",
          "data": {
            "text/plain": [
              "      Do Not Email  Total Time Spent on Website  Search  \\\n",
              "7282             1                    -0.684996       0   \n",
              "5149             1                    -0.570723       0   \n",
              "5846             1                    -0.607586       0   \n",
              "3599             1                    -0.926442       0   \n",
              "4927             1                     2.234477       0   \n",
              "\n",
              "      Lead Source_Olark Chat  Lead Source_Reference  \\\n",
              "7282                       0                      0   \n",
              "5149                       0                      0   \n",
              "5846                       0                      0   \n",
              "3599                       0                      0   \n",
              "4927                       0                      0   \n",
              "\n",
              "      Lead Source_Welingak Website  Country_Kuwait  Country_Nigeria  \\\n",
              "7282                             0               0                0   \n",
              "5149                             0               0                0   \n",
              "5846                             0               0                0   \n",
              "3599                             0               0                0   \n",
              "4927                             0               0                0   \n",
              "\n",
              "      Country_Qatar  Country_Saudi Arabia  \n",
              "7282              0                     0  \n",
              "5149              0                     0  \n",
              "5846              0                     0  \n",
              "3599              0                     0  \n",
              "4927              0                     0  "
            ],
            "text/html": [
              "\n",
              "  <div id=\"df-2a67d48a-815b-460b-8a9e-49dbe0ca091f\">\n",
              "    <div class=\"colab-df-container\">\n",
              "      <div>\n",
              "<style scoped>\n",
              "    .dataframe tbody tr th:only-of-type {\n",
              "        vertical-align: middle;\n",
              "    }\n",
              "\n",
              "    .dataframe tbody tr th {\n",
              "        vertical-align: top;\n",
              "    }\n",
              "\n",
              "    .dataframe thead th {\n",
              "        text-align: right;\n",
              "    }\n",
              "</style>\n",
              "<table border=\"1\" class=\"dataframe\">\n",
              "  <thead>\n",
              "    <tr style=\"text-align: right;\">\n",
              "      <th></th>\n",
              "      <th>Do Not Email</th>\n",
              "      <th>Total Time Spent on Website</th>\n",
              "      <th>Search</th>\n",
              "      <th>Lead Source_Olark Chat</th>\n",
              "      <th>Lead Source_Reference</th>\n",
              "      <th>Lead Source_Welingak Website</th>\n",
              "      <th>Country_Kuwait</th>\n",
              "      <th>Country_Nigeria</th>\n",
              "      <th>Country_Qatar</th>\n",
              "      <th>Country_Saudi Arabia</th>\n",
              "    </tr>\n",
              "  </thead>\n",
              "  <tbody>\n",
              "    <tr>\n",
              "      <th>7282</th>\n",
              "      <td>1</td>\n",
              "      <td>-0.684996</td>\n",
              "      <td>0</td>\n",
              "      <td>0</td>\n",
              "      <td>0</td>\n",
              "      <td>0</td>\n",
              "      <td>0</td>\n",
              "      <td>0</td>\n",
              "      <td>0</td>\n",
              "      <td>0</td>\n",
              "    </tr>\n",
              "    <tr>\n",
              "      <th>5149</th>\n",
              "      <td>1</td>\n",
              "      <td>-0.570723</td>\n",
              "      <td>0</td>\n",
              "      <td>0</td>\n",
              "      <td>0</td>\n",
              "      <td>0</td>\n",
              "      <td>0</td>\n",
              "      <td>0</td>\n",
              "      <td>0</td>\n",
              "      <td>0</td>\n",
              "    </tr>\n",
              "    <tr>\n",
              "      <th>5846</th>\n",
              "      <td>1</td>\n",
              "      <td>-0.607586</td>\n",
              "      <td>0</td>\n",
              "      <td>0</td>\n",
              "      <td>0</td>\n",
              "      <td>0</td>\n",
              "      <td>0</td>\n",
              "      <td>0</td>\n",
              "      <td>0</td>\n",
              "      <td>0</td>\n",
              "    </tr>\n",
              "    <tr>\n",
              "      <th>3599</th>\n",
              "      <td>1</td>\n",
              "      <td>-0.926442</td>\n",
              "      <td>0</td>\n",
              "      <td>0</td>\n",
              "      <td>0</td>\n",
              "      <td>0</td>\n",
              "      <td>0</td>\n",
              "      <td>0</td>\n",
              "      <td>0</td>\n",
              "      <td>0</td>\n",
              "    </tr>\n",
              "    <tr>\n",
              "      <th>4927</th>\n",
              "      <td>1</td>\n",
              "      <td>2.234477</td>\n",
              "      <td>0</td>\n",
              "      <td>0</td>\n",
              "      <td>0</td>\n",
              "      <td>0</td>\n",
              "      <td>0</td>\n",
              "      <td>0</td>\n",
              "      <td>0</td>\n",
              "      <td>0</td>\n",
              "    </tr>\n",
              "  </tbody>\n",
              "</table>\n",
              "</div>\n",
              "      <button class=\"colab-df-convert\" onclick=\"convertToInteractive('df-2a67d48a-815b-460b-8a9e-49dbe0ca091f')\"\n",
              "              title=\"Convert this dataframe to an interactive table.\"\n",
              "              style=\"display:none;\">\n",
              "        \n",
              "  <svg xmlns=\"http://www.w3.org/2000/svg\" height=\"24px\"viewBox=\"0 0 24 24\"\n",
              "       width=\"24px\">\n",
              "    <path d=\"M0 0h24v24H0V0z\" fill=\"none\"/>\n",
              "    <path d=\"M18.56 5.44l.94 2.06.94-2.06 2.06-.94-2.06-.94-.94-2.06-.94 2.06-2.06.94zm-11 1L8.5 8.5l.94-2.06 2.06-.94-2.06-.94L8.5 2.5l-.94 2.06-2.06.94zm10 10l.94 2.06.94-2.06 2.06-.94-2.06-.94-.94-2.06-.94 2.06-2.06.94z\"/><path d=\"M17.41 7.96l-1.37-1.37c-.4-.4-.92-.59-1.43-.59-.52 0-1.04.2-1.43.59L10.3 9.45l-7.72 7.72c-.78.78-.78 2.05 0 2.83L4 21.41c.39.39.9.59 1.41.59.51 0 1.02-.2 1.41-.59l7.78-7.78 2.81-2.81c.8-.78.8-2.07 0-2.86zM5.41 20L4 18.59l7.72-7.72 1.47 1.35L5.41 20z\"/>\n",
              "  </svg>\n",
              "      </button>\n",
              "      \n",
              "  <style>\n",
              "    .colab-df-container {\n",
              "      display:flex;\n",
              "      flex-wrap:wrap;\n",
              "      gap: 12px;\n",
              "    }\n",
              "\n",
              "    .colab-df-convert {\n",
              "      background-color: #E8F0FE;\n",
              "      border: none;\n",
              "      border-radius: 50%;\n",
              "      cursor: pointer;\n",
              "      display: none;\n",
              "      fill: #1967D2;\n",
              "      height: 32px;\n",
              "      padding: 0 0 0 0;\n",
              "      width: 32px;\n",
              "    }\n",
              "\n",
              "    .colab-df-convert:hover {\n",
              "      background-color: #E2EBFA;\n",
              "      box-shadow: 0px 1px 2px rgba(60, 64, 67, 0.3), 0px 1px 3px 1px rgba(60, 64, 67, 0.15);\n",
              "      fill: #174EA6;\n",
              "    }\n",
              "\n",
              "    [theme=dark] .colab-df-convert {\n",
              "      background-color: #3B4455;\n",
              "      fill: #D2E3FC;\n",
              "    }\n",
              "\n",
              "    [theme=dark] .colab-df-convert:hover {\n",
              "      background-color: #434B5C;\n",
              "      box-shadow: 0px 1px 3px 1px rgba(0, 0, 0, 0.15);\n",
              "      filter: drop-shadow(0px 1px 2px rgba(0, 0, 0, 0.3));\n",
              "      fill: #FFFFFF;\n",
              "    }\n",
              "  </style>\n",
              "\n",
              "      <script>\n",
              "        const buttonEl =\n",
              "          document.querySelector('#df-2a67d48a-815b-460b-8a9e-49dbe0ca091f button.colab-df-convert');\n",
              "        buttonEl.style.display =\n",
              "          google.colab.kernel.accessAllowed ? 'block' : 'none';\n",
              "\n",
              "        async function convertToInteractive(key) {\n",
              "          const element = document.querySelector('#df-2a67d48a-815b-460b-8a9e-49dbe0ca091f');\n",
              "          const dataTable =\n",
              "            await google.colab.kernel.invokeFunction('convertToInteractive',\n",
              "                                                     [key], {});\n",
              "          if (!dataTable) return;\n",
              "\n",
              "          const docLinkHtml = 'Like what you see? Visit the ' +\n",
              "            '<a target=\"_blank\" href=https://colab.research.google.com/notebooks/data_table.ipynb>data table notebook</a>'\n",
              "            + ' to learn more about interactive tables.';\n",
              "          element.innerHTML = '';\n",
              "          dataTable['output_type'] = 'display_data';\n",
              "          await google.colab.output.renderOutput(dataTable, element);\n",
              "          const docLink = document.createElement('div');\n",
              "          docLink.innerHTML = docLinkHtml;\n",
              "          element.appendChild(docLink);\n",
              "        }\n",
              "      </script>\n",
              "    </div>\n",
              "  </div>\n",
              "  "
            ]
          },
          "metadata": {},
          "execution_count": 130
        }
      ]
    },
    {
      "cell_type": "code",
      "source": [
        "X_test_sm = sm.add_constant(X_test)"
      ],
      "metadata": {
        "id": "Iro3XxsbTqs-"
      },
      "execution_count": 131,
      "outputs": []
    },
    {
      "cell_type": "code",
      "source": [
        "Y_test_pred = res.predict(X_test_sm)\n",
        "Y_test_pred[:10]"
      ],
      "metadata": {
        "id": "csyyR21gTzCm",
        "colab": {
          "base_uri": "https://localhost:8080/"
        },
        "outputId": "e5b71392-9b2b-4b71-9b54-877cec9dfc52"
      },
      "execution_count": 132,
      "outputs": [
        {
          "output_type": "execute_result",
          "data": {
            "text/plain": [
              "7282    0.213122\n",
              "5149    0.234040\n",
              "5846    0.227140\n",
              "3599    0.173507\n",
              "4927    0.854986\n",
              "4672    0.211171\n",
              "5224    0.218055\n",
              "1444    0.825843\n",
              "781     0.158441\n",
              "9183    0.533659\n",
              "dtype: float64"
            ]
          },
          "metadata": {},
          "execution_count": 132
        }
      ]
    },
    {
      "cell_type": "code",
      "source": [
        "Y_test_pred[:10]"
      ],
      "metadata": {
        "colab": {
          "base_uri": "https://localhost:8080/"
        },
        "id": "78qOFcGOTzFR",
        "outputId": "19a57c5c-4eb9-4576-f735-ec33f432d1e9"
      },
      "execution_count": 133,
      "outputs": [
        {
          "output_type": "execute_result",
          "data": {
            "text/plain": [
              "7282    0.213122\n",
              "5149    0.234040\n",
              "5846    0.227140\n",
              "3599    0.173507\n",
              "4927    0.854986\n",
              "4672    0.211171\n",
              "5224    0.218055\n",
              "1444    0.825843\n",
              "781     0.158441\n",
              "9183    0.533659\n",
              "dtype: float64"
            ]
          },
          "metadata": {},
          "execution_count": 133
        }
      ]
    },
    {
      "cell_type": "code",
      "source": [
        "# Converting y_pred to a dataframe which is an array\n",
        "Y_pred_1 = pd.DataFrame(Y_test_pred)"
      ],
      "metadata": {
        "id": "9Nzx1py6T8ZT"
      },
      "execution_count": 134,
      "outputs": []
    },
    {
      "cell_type": "code",
      "source": [
        "# Let's see the head\n",
        "Y_pred_1.head()"
      ],
      "metadata": {
        "colab": {
          "base_uri": "https://localhost:8080/",
          "height": 206
        },
        "id": "_JBI113YUBaq",
        "outputId": "7114178c-7b8b-438a-9d49-5289472c4889"
      },
      "execution_count": 135,
      "outputs": [
        {
          "output_type": "execute_result",
          "data": {
            "text/plain": [
              "             0\n",
              "7282  0.213122\n",
              "5149  0.234040\n",
              "5846  0.227140\n",
              "3599  0.173507\n",
              "4927  0.854986"
            ],
            "text/html": [
              "\n",
              "  <div id=\"df-3a72c656-37f1-4672-918e-a6ea45c93da1\">\n",
              "    <div class=\"colab-df-container\">\n",
              "      <div>\n",
              "<style scoped>\n",
              "    .dataframe tbody tr th:only-of-type {\n",
              "        vertical-align: middle;\n",
              "    }\n",
              "\n",
              "    .dataframe tbody tr th {\n",
              "        vertical-align: top;\n",
              "    }\n",
              "\n",
              "    .dataframe thead th {\n",
              "        text-align: right;\n",
              "    }\n",
              "</style>\n",
              "<table border=\"1\" class=\"dataframe\">\n",
              "  <thead>\n",
              "    <tr style=\"text-align: right;\">\n",
              "      <th></th>\n",
              "      <th>0</th>\n",
              "    </tr>\n",
              "  </thead>\n",
              "  <tbody>\n",
              "    <tr>\n",
              "      <th>7282</th>\n",
              "      <td>0.213122</td>\n",
              "    </tr>\n",
              "    <tr>\n",
              "      <th>5149</th>\n",
              "      <td>0.234040</td>\n",
              "    </tr>\n",
              "    <tr>\n",
              "      <th>5846</th>\n",
              "      <td>0.227140</td>\n",
              "    </tr>\n",
              "    <tr>\n",
              "      <th>3599</th>\n",
              "      <td>0.173507</td>\n",
              "    </tr>\n",
              "    <tr>\n",
              "      <th>4927</th>\n",
              "      <td>0.854986</td>\n",
              "    </tr>\n",
              "  </tbody>\n",
              "</table>\n",
              "</div>\n",
              "      <button class=\"colab-df-convert\" onclick=\"convertToInteractive('df-3a72c656-37f1-4672-918e-a6ea45c93da1')\"\n",
              "              title=\"Convert this dataframe to an interactive table.\"\n",
              "              style=\"display:none;\">\n",
              "        \n",
              "  <svg xmlns=\"http://www.w3.org/2000/svg\" height=\"24px\"viewBox=\"0 0 24 24\"\n",
              "       width=\"24px\">\n",
              "    <path d=\"M0 0h24v24H0V0z\" fill=\"none\"/>\n",
              "    <path d=\"M18.56 5.44l.94 2.06.94-2.06 2.06-.94-2.06-.94-.94-2.06-.94 2.06-2.06.94zm-11 1L8.5 8.5l.94-2.06 2.06-.94-2.06-.94L8.5 2.5l-.94 2.06-2.06.94zm10 10l.94 2.06.94-2.06 2.06-.94-2.06-.94-.94-2.06-.94 2.06-2.06.94z\"/><path d=\"M17.41 7.96l-1.37-1.37c-.4-.4-.92-.59-1.43-.59-.52 0-1.04.2-1.43.59L10.3 9.45l-7.72 7.72c-.78.78-.78 2.05 0 2.83L4 21.41c.39.39.9.59 1.41.59.51 0 1.02-.2 1.41-.59l7.78-7.78 2.81-2.81c.8-.78.8-2.07 0-2.86zM5.41 20L4 18.59l7.72-7.72 1.47 1.35L5.41 20z\"/>\n",
              "  </svg>\n",
              "      </button>\n",
              "      \n",
              "  <style>\n",
              "    .colab-df-container {\n",
              "      display:flex;\n",
              "      flex-wrap:wrap;\n",
              "      gap: 12px;\n",
              "    }\n",
              "\n",
              "    .colab-df-convert {\n",
              "      background-color: #E8F0FE;\n",
              "      border: none;\n",
              "      border-radius: 50%;\n",
              "      cursor: pointer;\n",
              "      display: none;\n",
              "      fill: #1967D2;\n",
              "      height: 32px;\n",
              "      padding: 0 0 0 0;\n",
              "      width: 32px;\n",
              "    }\n",
              "\n",
              "    .colab-df-convert:hover {\n",
              "      background-color: #E2EBFA;\n",
              "      box-shadow: 0px 1px 2px rgba(60, 64, 67, 0.3), 0px 1px 3px 1px rgba(60, 64, 67, 0.15);\n",
              "      fill: #174EA6;\n",
              "    }\n",
              "\n",
              "    [theme=dark] .colab-df-convert {\n",
              "      background-color: #3B4455;\n",
              "      fill: #D2E3FC;\n",
              "    }\n",
              "\n",
              "    [theme=dark] .colab-df-convert:hover {\n",
              "      background-color: #434B5C;\n",
              "      box-shadow: 0px 1px 3px 1px rgba(0, 0, 0, 0.15);\n",
              "      filter: drop-shadow(0px 1px 2px rgba(0, 0, 0, 0.3));\n",
              "      fill: #FFFFFF;\n",
              "    }\n",
              "  </style>\n",
              "\n",
              "      <script>\n",
              "        const buttonEl =\n",
              "          document.querySelector('#df-3a72c656-37f1-4672-918e-a6ea45c93da1 button.colab-df-convert');\n",
              "        buttonEl.style.display =\n",
              "          google.colab.kernel.accessAllowed ? 'block' : 'none';\n",
              "\n",
              "        async function convertToInteractive(key) {\n",
              "          const element = document.querySelector('#df-3a72c656-37f1-4672-918e-a6ea45c93da1');\n",
              "          const dataTable =\n",
              "            await google.colab.kernel.invokeFunction('convertToInteractive',\n",
              "                                                     [key], {});\n",
              "          if (!dataTable) return;\n",
              "\n",
              "          const docLinkHtml = 'Like what you see? Visit the ' +\n",
              "            '<a target=\"_blank\" href=https://colab.research.google.com/notebooks/data_table.ipynb>data table notebook</a>'\n",
              "            + ' to learn more about interactive tables.';\n",
              "          element.innerHTML = '';\n",
              "          dataTable['output_type'] = 'display_data';\n",
              "          await google.colab.output.renderOutput(dataTable, element);\n",
              "          const docLink = document.createElement('div');\n",
              "          docLink.innerHTML = docLinkHtml;\n",
              "          element.appendChild(docLink);\n",
              "        }\n",
              "      </script>\n",
              "    </div>\n",
              "  </div>\n",
              "  "
            ]
          },
          "metadata": {},
          "execution_count": 135
        }
      ]
    },
    {
      "cell_type": "code",
      "source": [
        "# Converting y_test to dataframe\n",
        "Y_test_df = pd.DataFrame(Y_test)"
      ],
      "metadata": {
        "id": "l-JrQYobUG6e"
      },
      "execution_count": 136,
      "outputs": []
    },
    {
      "cell_type": "code",
      "source": [
        "# Putting Prospect ID to index\n",
        "Y_test_df['Prospect ID'] = Y_test_df.index"
      ],
      "metadata": {
        "id": "ybCLJev7ULyc"
      },
      "execution_count": 137,
      "outputs": []
    },
    {
      "cell_type": "code",
      "source": [
        "# Removing index for both dataframes to append them side by side \n",
        "Y_pred_1.reset_index(drop=True, inplace=True)\n",
        "Y_test_df.reset_index(drop=True, inplace=True)"
      ],
      "metadata": {
        "id": "BGHREtSbUWyg"
      },
      "execution_count": 138,
      "outputs": []
    },
    {
      "cell_type": "code",
      "source": [
        "# Appending Y_test_df and Y_pred_1\n",
        "Y_pred_final = pd.concat([Y_test_df, Y_pred_1],axis=1)"
      ],
      "metadata": {
        "id": "GJCe81ECUW1A"
      },
      "execution_count": 139,
      "outputs": []
    },
    {
      "cell_type": "code",
      "source": [
        "# Renaming the column\n",
        "Y_pred_final= Y_pred_final.rename(columns={ 0 : 'Convertion_prob'})"
      ],
      "metadata": {
        "id": "v_i17J2aUW3W"
      },
      "execution_count": 140,
      "outputs": []
    },
    {
      "cell_type": "code",
      "source": [
        "# Let's see the head of Y_pred_final\n",
        "Y_pred_final.head()"
      ],
      "metadata": {
        "colab": {
          "base_uri": "https://localhost:8080/",
          "height": 206
        },
        "id": "U8U2lVbJWKG9",
        "outputId": "18057646-f9b3-4dd1-955d-fd3e4d93e8a9"
      },
      "execution_count": 142,
      "outputs": [
        {
          "output_type": "execute_result",
          "data": {
            "text/plain": [
              "   Converted  Prospect ID  Convertion_prob\n",
              "0          0         7282         0.213122\n",
              "1          0         5149         0.234040\n",
              "2          0         5846         0.227140\n",
              "3          0         3599         0.173507\n",
              "4          1         4927         0.854986"
            ],
            "text/html": [
              "\n",
              "  <div id=\"df-fdaaf6f8-a437-490e-80fe-18def024248d\">\n",
              "    <div class=\"colab-df-container\">\n",
              "      <div>\n",
              "<style scoped>\n",
              "    .dataframe tbody tr th:only-of-type {\n",
              "        vertical-align: middle;\n",
              "    }\n",
              "\n",
              "    .dataframe tbody tr th {\n",
              "        vertical-align: top;\n",
              "    }\n",
              "\n",
              "    .dataframe thead th {\n",
              "        text-align: right;\n",
              "    }\n",
              "</style>\n",
              "<table border=\"1\" class=\"dataframe\">\n",
              "  <thead>\n",
              "    <tr style=\"text-align: right;\">\n",
              "      <th></th>\n",
              "      <th>Converted</th>\n",
              "      <th>Prospect ID</th>\n",
              "      <th>Convertion_prob</th>\n",
              "    </tr>\n",
              "  </thead>\n",
              "  <tbody>\n",
              "    <tr>\n",
              "      <th>0</th>\n",
              "      <td>0</td>\n",
              "      <td>7282</td>\n",
              "      <td>0.213122</td>\n",
              "    </tr>\n",
              "    <tr>\n",
              "      <th>1</th>\n",
              "      <td>0</td>\n",
              "      <td>5149</td>\n",
              "      <td>0.234040</td>\n",
              "    </tr>\n",
              "    <tr>\n",
              "      <th>2</th>\n",
              "      <td>0</td>\n",
              "      <td>5846</td>\n",
              "      <td>0.227140</td>\n",
              "    </tr>\n",
              "    <tr>\n",
              "      <th>3</th>\n",
              "      <td>0</td>\n",
              "      <td>3599</td>\n",
              "      <td>0.173507</td>\n",
              "    </tr>\n",
              "    <tr>\n",
              "      <th>4</th>\n",
              "      <td>1</td>\n",
              "      <td>4927</td>\n",
              "      <td>0.854986</td>\n",
              "    </tr>\n",
              "  </tbody>\n",
              "</table>\n",
              "</div>\n",
              "      <button class=\"colab-df-convert\" onclick=\"convertToInteractive('df-fdaaf6f8-a437-490e-80fe-18def024248d')\"\n",
              "              title=\"Convert this dataframe to an interactive table.\"\n",
              "              style=\"display:none;\">\n",
              "        \n",
              "  <svg xmlns=\"http://www.w3.org/2000/svg\" height=\"24px\"viewBox=\"0 0 24 24\"\n",
              "       width=\"24px\">\n",
              "    <path d=\"M0 0h24v24H0V0z\" fill=\"none\"/>\n",
              "    <path d=\"M18.56 5.44l.94 2.06.94-2.06 2.06-.94-2.06-.94-.94-2.06-.94 2.06-2.06.94zm-11 1L8.5 8.5l.94-2.06 2.06-.94-2.06-.94L8.5 2.5l-.94 2.06-2.06.94zm10 10l.94 2.06.94-2.06 2.06-.94-2.06-.94-.94-2.06-.94 2.06-2.06.94z\"/><path d=\"M17.41 7.96l-1.37-1.37c-.4-.4-.92-.59-1.43-.59-.52 0-1.04.2-1.43.59L10.3 9.45l-7.72 7.72c-.78.78-.78 2.05 0 2.83L4 21.41c.39.39.9.59 1.41.59.51 0 1.02-.2 1.41-.59l7.78-7.78 2.81-2.81c.8-.78.8-2.07 0-2.86zM5.41 20L4 18.59l7.72-7.72 1.47 1.35L5.41 20z\"/>\n",
              "  </svg>\n",
              "      </button>\n",
              "      \n",
              "  <style>\n",
              "    .colab-df-container {\n",
              "      display:flex;\n",
              "      flex-wrap:wrap;\n",
              "      gap: 12px;\n",
              "    }\n",
              "\n",
              "    .colab-df-convert {\n",
              "      background-color: #E8F0FE;\n",
              "      border: none;\n",
              "      border-radius: 50%;\n",
              "      cursor: pointer;\n",
              "      display: none;\n",
              "      fill: #1967D2;\n",
              "      height: 32px;\n",
              "      padding: 0 0 0 0;\n",
              "      width: 32px;\n",
              "    }\n",
              "\n",
              "    .colab-df-convert:hover {\n",
              "      background-color: #E2EBFA;\n",
              "      box-shadow: 0px 1px 2px rgba(60, 64, 67, 0.3), 0px 1px 3px 1px rgba(60, 64, 67, 0.15);\n",
              "      fill: #174EA6;\n",
              "    }\n",
              "\n",
              "    [theme=dark] .colab-df-convert {\n",
              "      background-color: #3B4455;\n",
              "      fill: #D2E3FC;\n",
              "    }\n",
              "\n",
              "    [theme=dark] .colab-df-convert:hover {\n",
              "      background-color: #434B5C;\n",
              "      box-shadow: 0px 1px 3px 1px rgba(0, 0, 0, 0.15);\n",
              "      filter: drop-shadow(0px 1px 2px rgba(0, 0, 0, 0.3));\n",
              "      fill: #FFFFFF;\n",
              "    }\n",
              "  </style>\n",
              "\n",
              "      <script>\n",
              "        const buttonEl =\n",
              "          document.querySelector('#df-fdaaf6f8-a437-490e-80fe-18def024248d button.colab-df-convert');\n",
              "        buttonEl.style.display =\n",
              "          google.colab.kernel.accessAllowed ? 'block' : 'none';\n",
              "\n",
              "        async function convertToInteractive(key) {\n",
              "          const element = document.querySelector('#df-fdaaf6f8-a437-490e-80fe-18def024248d');\n",
              "          const dataTable =\n",
              "            await google.colab.kernel.invokeFunction('convertToInteractive',\n",
              "                                                     [key], {});\n",
              "          if (!dataTable) return;\n",
              "\n",
              "          const docLinkHtml = 'Like what you see? Visit the ' +\n",
              "            '<a target=\"_blank\" href=https://colab.research.google.com/notebooks/data_table.ipynb>data table notebook</a>'\n",
              "            + ' to learn more about interactive tables.';\n",
              "          element.innerHTML = '';\n",
              "          dataTable['output_type'] = 'display_data';\n",
              "          await google.colab.output.renderOutput(dataTable, element);\n",
              "          const docLink = document.createElement('div');\n",
              "          docLink.innerHTML = docLinkHtml;\n",
              "          element.appendChild(docLink);\n",
              "        }\n",
              "      </script>\n",
              "    </div>\n",
              "  </div>\n",
              "  "
            ]
          },
          "metadata": {},
          "execution_count": 142
        }
      ]
    },
    {
      "cell_type": "code",
      "source": [
        "Y_pred_final['final_predicted'] = Y_pred_final.Convertion_prob.map(lambda x: 1 if x > 0.42 else 0)"
      ],
      "metadata": {
        "id": "_ALmCCwkW51r"
      },
      "execution_count": 154,
      "outputs": []
    },
    {
      "cell_type": "code",
      "source": [
        "Y_pred_final.head()"
      ],
      "metadata": {
        "colab": {
          "base_uri": "https://localhost:8080/",
          "height": 206
        },
        "id": "d7Vy7x6mXAmc",
        "outputId": "79e8589c-d928-40b5-d59f-37d5ba37113a"
      },
      "execution_count": 144,
      "outputs": [
        {
          "output_type": "execute_result",
          "data": {
            "text/plain": [
              "   Converted  Prospect ID  Convertion_prob  final_predicted\n",
              "0          0         7282         0.213122                0\n",
              "1          0         5149         0.234040                0\n",
              "2          0         5846         0.227140                0\n",
              "3          0         3599         0.173507                0\n",
              "4          1         4927         0.854986                1"
            ],
            "text/html": [
              "\n",
              "  <div id=\"df-aa9481f3-c3b7-41b5-b5e0-c92eda7c4bc7\">\n",
              "    <div class=\"colab-df-container\">\n",
              "      <div>\n",
              "<style scoped>\n",
              "    .dataframe tbody tr th:only-of-type {\n",
              "        vertical-align: middle;\n",
              "    }\n",
              "\n",
              "    .dataframe tbody tr th {\n",
              "        vertical-align: top;\n",
              "    }\n",
              "\n",
              "    .dataframe thead th {\n",
              "        text-align: right;\n",
              "    }\n",
              "</style>\n",
              "<table border=\"1\" class=\"dataframe\">\n",
              "  <thead>\n",
              "    <tr style=\"text-align: right;\">\n",
              "      <th></th>\n",
              "      <th>Converted</th>\n",
              "      <th>Prospect ID</th>\n",
              "      <th>Convertion_prob</th>\n",
              "      <th>final_predicted</th>\n",
              "    </tr>\n",
              "  </thead>\n",
              "  <tbody>\n",
              "    <tr>\n",
              "      <th>0</th>\n",
              "      <td>0</td>\n",
              "      <td>7282</td>\n",
              "      <td>0.213122</td>\n",
              "      <td>0</td>\n",
              "    </tr>\n",
              "    <tr>\n",
              "      <th>1</th>\n",
              "      <td>0</td>\n",
              "      <td>5149</td>\n",
              "      <td>0.234040</td>\n",
              "      <td>0</td>\n",
              "    </tr>\n",
              "    <tr>\n",
              "      <th>2</th>\n",
              "      <td>0</td>\n",
              "      <td>5846</td>\n",
              "      <td>0.227140</td>\n",
              "      <td>0</td>\n",
              "    </tr>\n",
              "    <tr>\n",
              "      <th>3</th>\n",
              "      <td>0</td>\n",
              "      <td>3599</td>\n",
              "      <td>0.173507</td>\n",
              "      <td>0</td>\n",
              "    </tr>\n",
              "    <tr>\n",
              "      <th>4</th>\n",
              "      <td>1</td>\n",
              "      <td>4927</td>\n",
              "      <td>0.854986</td>\n",
              "      <td>1</td>\n",
              "    </tr>\n",
              "  </tbody>\n",
              "</table>\n",
              "</div>\n",
              "      <button class=\"colab-df-convert\" onclick=\"convertToInteractive('df-aa9481f3-c3b7-41b5-b5e0-c92eda7c4bc7')\"\n",
              "              title=\"Convert this dataframe to an interactive table.\"\n",
              "              style=\"display:none;\">\n",
              "        \n",
              "  <svg xmlns=\"http://www.w3.org/2000/svg\" height=\"24px\"viewBox=\"0 0 24 24\"\n",
              "       width=\"24px\">\n",
              "    <path d=\"M0 0h24v24H0V0z\" fill=\"none\"/>\n",
              "    <path d=\"M18.56 5.44l.94 2.06.94-2.06 2.06-.94-2.06-.94-.94-2.06-.94 2.06-2.06.94zm-11 1L8.5 8.5l.94-2.06 2.06-.94-2.06-.94L8.5 2.5l-.94 2.06-2.06.94zm10 10l.94 2.06.94-2.06 2.06-.94-2.06-.94-.94-2.06-.94 2.06-2.06.94z\"/><path d=\"M17.41 7.96l-1.37-1.37c-.4-.4-.92-.59-1.43-.59-.52 0-1.04.2-1.43.59L10.3 9.45l-7.72 7.72c-.78.78-.78 2.05 0 2.83L4 21.41c.39.39.9.59 1.41.59.51 0 1.02-.2 1.41-.59l7.78-7.78 2.81-2.81c.8-.78.8-2.07 0-2.86zM5.41 20L4 18.59l7.72-7.72 1.47 1.35L5.41 20z\"/>\n",
              "  </svg>\n",
              "      </button>\n",
              "      \n",
              "  <style>\n",
              "    .colab-df-container {\n",
              "      display:flex;\n",
              "      flex-wrap:wrap;\n",
              "      gap: 12px;\n",
              "    }\n",
              "\n",
              "    .colab-df-convert {\n",
              "      background-color: #E8F0FE;\n",
              "      border: none;\n",
              "      border-radius: 50%;\n",
              "      cursor: pointer;\n",
              "      display: none;\n",
              "      fill: #1967D2;\n",
              "      height: 32px;\n",
              "      padding: 0 0 0 0;\n",
              "      width: 32px;\n",
              "    }\n",
              "\n",
              "    .colab-df-convert:hover {\n",
              "      background-color: #E2EBFA;\n",
              "      box-shadow: 0px 1px 2px rgba(60, 64, 67, 0.3), 0px 1px 3px 1px rgba(60, 64, 67, 0.15);\n",
              "      fill: #174EA6;\n",
              "    }\n",
              "\n",
              "    [theme=dark] .colab-df-convert {\n",
              "      background-color: #3B4455;\n",
              "      fill: #D2E3FC;\n",
              "    }\n",
              "\n",
              "    [theme=dark] .colab-df-convert:hover {\n",
              "      background-color: #434B5C;\n",
              "      box-shadow: 0px 1px 3px 1px rgba(0, 0, 0, 0.15);\n",
              "      filter: drop-shadow(0px 1px 2px rgba(0, 0, 0, 0.3));\n",
              "      fill: #FFFFFF;\n",
              "    }\n",
              "  </style>\n",
              "\n",
              "      <script>\n",
              "        const buttonEl =\n",
              "          document.querySelector('#df-aa9481f3-c3b7-41b5-b5e0-c92eda7c4bc7 button.colab-df-convert');\n",
              "        buttonEl.style.display =\n",
              "          google.colab.kernel.accessAllowed ? 'block' : 'none';\n",
              "\n",
              "        async function convertToInteractive(key) {\n",
              "          const element = document.querySelector('#df-aa9481f3-c3b7-41b5-b5e0-c92eda7c4bc7');\n",
              "          const dataTable =\n",
              "            await google.colab.kernel.invokeFunction('convertToInteractive',\n",
              "                                                     [key], {});\n",
              "          if (!dataTable) return;\n",
              "\n",
              "          const docLinkHtml = 'Like what you see? Visit the ' +\n",
              "            '<a target=\"_blank\" href=https://colab.research.google.com/notebooks/data_table.ipynb>data table notebook</a>'\n",
              "            + ' to learn more about interactive tables.';\n",
              "          element.innerHTML = '';\n",
              "          dataTable['output_type'] = 'display_data';\n",
              "          await google.colab.output.renderOutput(dataTable, element);\n",
              "          const docLink = document.createElement('div');\n",
              "          docLink.innerHTML = docLinkHtml;\n",
              "          element.appendChild(docLink);\n",
              "        }\n",
              "      </script>\n",
              "    </div>\n",
              "  </div>\n",
              "  "
            ]
          },
          "metadata": {},
          "execution_count": 144
        }
      ]
    },
    {
      "cell_type": "code",
      "source": [
        "# Let's check the overall accuracy.\n",
        "metrics.accuracy_score(Y_pred_final.Converted, Y_pred_final.final_predicted)"
      ],
      "metadata": {
        "colab": {
          "base_uri": "https://localhost:8080/"
        },
        "id": "MyQuNGbTWKJ3",
        "outputId": "8999923d-951e-4533-cc98-1d6d29ee200e"
      },
      "execution_count": 145,
      "outputs": [
        {
          "output_type": "execute_result",
          "data": {
            "text/plain": [
              "0.7870739265161576"
            ]
          },
          "metadata": {},
          "execution_count": 145
        }
      ]
    },
    {
      "cell_type": "code",
      "source": [
        "confusion2 = metrics.confusion_matrix(Y_pred_final.Converted, Y_pred_final.final_predicted )\n",
        "confusion2"
      ],
      "metadata": {
        "colab": {
          "base_uri": "https://localhost:8080/"
        },
        "id": "-sEGnsvYXHwu",
        "outputId": "3d37dce5-d826-4d8a-9d4f-5b948c1b6c33"
      },
      "execution_count": 146,
      "outputs": [
        {
          "output_type": "execute_result",
          "data": {
            "text/plain": [
              "array([[1129,  273],\n",
              "       [ 208,  649]])"
            ]
          },
          "metadata": {},
          "execution_count": 146
        }
      ]
    },
    {
      "cell_type": "code",
      "source": [
        "TP = confusion2[1,1] # true positive \n",
        "TN = confusion2[0,0] # true negatives\n",
        "FP = confusion2[0,1] # false positives\n",
        "FN = confusion2[1,0] # false negatives"
      ],
      "metadata": {
        "id": "drw-OdYMXOQU"
      },
      "execution_count": 147,
      "outputs": []
    },
    {
      "cell_type": "code",
      "source": [
        "# Let's see the sensitivity of our logistic regression model\n",
        "TP / float(TP+FN)"
      ],
      "metadata": {
        "colab": {
          "base_uri": "https://localhost:8080/"
        },
        "id": "WFSANFTnXOS_",
        "outputId": "99dfdb13-f23d-4373-9949-4bdb54d11069"
      },
      "execution_count": 148,
      "outputs": [
        {
          "output_type": "execute_result",
          "data": {
            "text/plain": [
              "0.7572928821470245"
            ]
          },
          "metadata": {},
          "execution_count": 148
        }
      ]
    },
    {
      "cell_type": "code",
      "source": [
        "# Let us calculate specificity\n",
        "TN / float(TN+FP)"
      ],
      "metadata": {
        "colab": {
          "base_uri": "https://localhost:8080/"
        },
        "id": "-aUcLVKBXOVk",
        "outputId": "fecbffd5-0e9f-4865-e61a-c236811a6ef6"
      },
      "execution_count": 149,
      "outputs": [
        {
          "output_type": "execute_result",
          "data": {
            "text/plain": [
              "0.8052781740370899"
            ]
          },
          "metadata": {},
          "execution_count": 149
        }
      ]
    },
    {
      "cell_type": "markdown",
      "source": [
        "**Step 7 : Generating the score variable**"
      ],
      "metadata": {
        "id": "hHFH9ZnqHus7"
      }
    },
    {
      "cell_type": "code",
      "source": [
        "Y_pred_final['Lead Score']= round(Y_pred_final['Convertion_prob']*100)\n",
        "Y_pred_final"
      ],
      "metadata": {
        "colab": {
          "base_uri": "https://localhost:8080/",
          "height": 424
        },
        "id": "zi6r3jqgJ7M3",
        "outputId": "1c92a3fd-6d52-42da-87d6-0c18d67cda53"
      },
      "execution_count": 156,
      "outputs": [
        {
          "output_type": "execute_result",
          "data": {
            "text/plain": [
              "      Converted  Prospect ID  Convertion_prob  final_predicted  Lead Score\n",
              "0             0         7282         0.213122                0        21.0\n",
              "1             0         5149         0.234040                0        23.0\n",
              "2             0         5846         0.227140                0        23.0\n",
              "3             0         3599         0.173507                0        17.0\n",
              "4             1         4927         0.854986                1        85.0\n",
              "...         ...          ...              ...              ...         ...\n",
              "2254          1         3522         0.825843                1        83.0\n",
              "2255          0         5114         0.182904                0        18.0\n",
              "2256          0         2830         0.503567                1        50.0\n",
              "2257          0         1726         0.223069                0        22.0\n",
              "2258          1         8184         0.730725                1        73.0\n",
              "\n",
              "[2259 rows x 5 columns]"
            ],
            "text/html": [
              "\n",
              "  <div id=\"df-72686e4f-e729-4854-9584-1b82904cdcbe\">\n",
              "    <div class=\"colab-df-container\">\n",
              "      <div>\n",
              "<style scoped>\n",
              "    .dataframe tbody tr th:only-of-type {\n",
              "        vertical-align: middle;\n",
              "    }\n",
              "\n",
              "    .dataframe tbody tr th {\n",
              "        vertical-align: top;\n",
              "    }\n",
              "\n",
              "    .dataframe thead th {\n",
              "        text-align: right;\n",
              "    }\n",
              "</style>\n",
              "<table border=\"1\" class=\"dataframe\">\n",
              "  <thead>\n",
              "    <tr style=\"text-align: right;\">\n",
              "      <th></th>\n",
              "      <th>Converted</th>\n",
              "      <th>Prospect ID</th>\n",
              "      <th>Convertion_prob</th>\n",
              "      <th>final_predicted</th>\n",
              "      <th>Lead Score</th>\n",
              "    </tr>\n",
              "  </thead>\n",
              "  <tbody>\n",
              "    <tr>\n",
              "      <th>0</th>\n",
              "      <td>0</td>\n",
              "      <td>7282</td>\n",
              "      <td>0.213122</td>\n",
              "      <td>0</td>\n",
              "      <td>21.0</td>\n",
              "    </tr>\n",
              "    <tr>\n",
              "      <th>1</th>\n",
              "      <td>0</td>\n",
              "      <td>5149</td>\n",
              "      <td>0.234040</td>\n",
              "      <td>0</td>\n",
              "      <td>23.0</td>\n",
              "    </tr>\n",
              "    <tr>\n",
              "      <th>2</th>\n",
              "      <td>0</td>\n",
              "      <td>5846</td>\n",
              "      <td>0.227140</td>\n",
              "      <td>0</td>\n",
              "      <td>23.0</td>\n",
              "    </tr>\n",
              "    <tr>\n",
              "      <th>3</th>\n",
              "      <td>0</td>\n",
              "      <td>3599</td>\n",
              "      <td>0.173507</td>\n",
              "      <td>0</td>\n",
              "      <td>17.0</td>\n",
              "    </tr>\n",
              "    <tr>\n",
              "      <th>4</th>\n",
              "      <td>1</td>\n",
              "      <td>4927</td>\n",
              "      <td>0.854986</td>\n",
              "      <td>1</td>\n",
              "      <td>85.0</td>\n",
              "    </tr>\n",
              "    <tr>\n",
              "      <th>...</th>\n",
              "      <td>...</td>\n",
              "      <td>...</td>\n",
              "      <td>...</td>\n",
              "      <td>...</td>\n",
              "      <td>...</td>\n",
              "    </tr>\n",
              "    <tr>\n",
              "      <th>2254</th>\n",
              "      <td>1</td>\n",
              "      <td>3522</td>\n",
              "      <td>0.825843</td>\n",
              "      <td>1</td>\n",
              "      <td>83.0</td>\n",
              "    </tr>\n",
              "    <tr>\n",
              "      <th>2255</th>\n",
              "      <td>0</td>\n",
              "      <td>5114</td>\n",
              "      <td>0.182904</td>\n",
              "      <td>0</td>\n",
              "      <td>18.0</td>\n",
              "    </tr>\n",
              "    <tr>\n",
              "      <th>2256</th>\n",
              "      <td>0</td>\n",
              "      <td>2830</td>\n",
              "      <td>0.503567</td>\n",
              "      <td>1</td>\n",
              "      <td>50.0</td>\n",
              "    </tr>\n",
              "    <tr>\n",
              "      <th>2257</th>\n",
              "      <td>0</td>\n",
              "      <td>1726</td>\n",
              "      <td>0.223069</td>\n",
              "      <td>0</td>\n",
              "      <td>22.0</td>\n",
              "    </tr>\n",
              "    <tr>\n",
              "      <th>2258</th>\n",
              "      <td>1</td>\n",
              "      <td>8184</td>\n",
              "      <td>0.730725</td>\n",
              "      <td>1</td>\n",
              "      <td>73.0</td>\n",
              "    </tr>\n",
              "  </tbody>\n",
              "</table>\n",
              "<p>2259 rows × 5 columns</p>\n",
              "</div>\n",
              "      <button class=\"colab-df-convert\" onclick=\"convertToInteractive('df-72686e4f-e729-4854-9584-1b82904cdcbe')\"\n",
              "              title=\"Convert this dataframe to an interactive table.\"\n",
              "              style=\"display:none;\">\n",
              "        \n",
              "  <svg xmlns=\"http://www.w3.org/2000/svg\" height=\"24px\"viewBox=\"0 0 24 24\"\n",
              "       width=\"24px\">\n",
              "    <path d=\"M0 0h24v24H0V0z\" fill=\"none\"/>\n",
              "    <path d=\"M18.56 5.44l.94 2.06.94-2.06 2.06-.94-2.06-.94-.94-2.06-.94 2.06-2.06.94zm-11 1L8.5 8.5l.94-2.06 2.06-.94-2.06-.94L8.5 2.5l-.94 2.06-2.06.94zm10 10l.94 2.06.94-2.06 2.06-.94-2.06-.94-.94-2.06-.94 2.06-2.06.94z\"/><path d=\"M17.41 7.96l-1.37-1.37c-.4-.4-.92-.59-1.43-.59-.52 0-1.04.2-1.43.59L10.3 9.45l-7.72 7.72c-.78.78-.78 2.05 0 2.83L4 21.41c.39.39.9.59 1.41.59.51 0 1.02-.2 1.41-.59l7.78-7.78 2.81-2.81c.8-.78.8-2.07 0-2.86zM5.41 20L4 18.59l7.72-7.72 1.47 1.35L5.41 20z\"/>\n",
              "  </svg>\n",
              "      </button>\n",
              "      \n",
              "  <style>\n",
              "    .colab-df-container {\n",
              "      display:flex;\n",
              "      flex-wrap:wrap;\n",
              "      gap: 12px;\n",
              "    }\n",
              "\n",
              "    .colab-df-convert {\n",
              "      background-color: #E8F0FE;\n",
              "      border: none;\n",
              "      border-radius: 50%;\n",
              "      cursor: pointer;\n",
              "      display: none;\n",
              "      fill: #1967D2;\n",
              "      height: 32px;\n",
              "      padding: 0 0 0 0;\n",
              "      width: 32px;\n",
              "    }\n",
              "\n",
              "    .colab-df-convert:hover {\n",
              "      background-color: #E2EBFA;\n",
              "      box-shadow: 0px 1px 2px rgba(60, 64, 67, 0.3), 0px 1px 3px 1px rgba(60, 64, 67, 0.15);\n",
              "      fill: #174EA6;\n",
              "    }\n",
              "\n",
              "    [theme=dark] .colab-df-convert {\n",
              "      background-color: #3B4455;\n",
              "      fill: #D2E3FC;\n",
              "    }\n",
              "\n",
              "    [theme=dark] .colab-df-convert:hover {\n",
              "      background-color: #434B5C;\n",
              "      box-shadow: 0px 1px 3px 1px rgba(0, 0, 0, 0.15);\n",
              "      filter: drop-shadow(0px 1px 2px rgba(0, 0, 0, 0.3));\n",
              "      fill: #FFFFFF;\n",
              "    }\n",
              "  </style>\n",
              "\n",
              "      <script>\n",
              "        const buttonEl =\n",
              "          document.querySelector('#df-72686e4f-e729-4854-9584-1b82904cdcbe button.colab-df-convert');\n",
              "        buttonEl.style.display =\n",
              "          google.colab.kernel.accessAllowed ? 'block' : 'none';\n",
              "\n",
              "        async function convertToInteractive(key) {\n",
              "          const element = document.querySelector('#df-72686e4f-e729-4854-9584-1b82904cdcbe');\n",
              "          const dataTable =\n",
              "            await google.colab.kernel.invokeFunction('convertToInteractive',\n",
              "                                                     [key], {});\n",
              "          if (!dataTable) return;\n",
              "\n",
              "          const docLinkHtml = 'Like what you see? Visit the ' +\n",
              "            '<a target=\"_blank\" href=https://colab.research.google.com/notebooks/data_table.ipynb>data table notebook</a>'\n",
              "            + ' to learn more about interactive tables.';\n",
              "          element.innerHTML = '';\n",
              "          dataTable['output_type'] = 'display_data';\n",
              "          await google.colab.output.renderOutput(dataTable, element);\n",
              "          const docLink = document.createElement('div');\n",
              "          docLink.innerHTML = docLinkHtml;\n",
              "          element.appendChild(docLink);\n",
              "        }\n",
              "      </script>\n",
              "    </div>\n",
              "  </div>\n",
              "  "
            ]
          },
          "metadata": {},
          "execution_count": 156
        }
      ]
    }
  ]
}